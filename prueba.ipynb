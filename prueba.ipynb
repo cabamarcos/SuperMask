{
 "cells": [
  {
   "cell_type": "code",
   "execution_count": null,
   "metadata": {},
   "outputs": [],
   "source": [
    "import numpy as np\n",
    "import matplotlib.pyplot as plt\n",
    "from keras.datasets import mnist\n",
    "from keras.models import Sequential\n",
    "from keras.layers import Conv2D, MaxPooling2D, Flatten, Dense\n",
    "from keras.optimizers import Adam\n"
   ]
  },
  {
   "cell_type": "code",
   "execution_count": null,
   "metadata": {},
   "outputs": [],
   "source": [
    "# Cargar datos\n",
    "(x_train, y_train), (x_test, y_test) = mnist.load_data()\n",
    "x_train = np.expand_dims(x_train, axis=-1).astype('float32') / 255.0\n",
    "x_test = np.expand_dims(x_test, axis=-1).astype('float32') / 255.0"
   ]
  },
  {
   "cell_type": "code",
   "execution_count": null,
   "metadata": {},
   "outputs": [],
   "source": [
    "# Define convolutional neural network model\n",
    "def build_model():\n",
    "    model = Sequential()\n",
    "    model.add(Conv2D(32, (3, 3), activation='relu', input_shape=(28, 28, 1)))\n",
    "    model.add(MaxPooling2D((2, 2)))\n",
    "    model.add(Conv2D(64, (3, 3), activation='relu'))\n",
    "    model.add(MaxPooling2D((2, 2)))\n",
    "    model.add(Flatten())\n",
    "    model.add(Dense(64, activation='relu'))\n",
    "    model.add(Dense(10, activation='softmax'))\n",
    "    return model\n",
    "\n",
    "# Initialize two separate networks\n",
    "red = build_model()\n",
    "mascara = build_model()\n",
    "\n",
    "# Compile models\n",
    "red.compile(loss='sparse_categorical_crossentropy',\n",
    "            optimizer=Adam(),\n",
    "            metrics=['accuracy'])\n",
    "mascara.compile(loss='sparse_categorical_crossentropy',\n",
    "                optimizer=Adam(),\n",
    "                metrics=['accuracy'])\n"
   ]
  },
  {
   "cell_type": "code",
   "execution_count": null,
   "metadata": {},
   "outputs": [],
   "source": [
    "# Función para activar el 30% de los pesos más altos en la máscara\n",
    "def activate_top_weights(model, percentage):\n",
    "    weights = model.get_weights()\n",
    "    flat_weights = np.concatenate([w.flatten() for w in weights])\n",
    "    threshold = np.percentile(flat_weights, 100 - percentage)\n",
    "    mask = [abs(w) >= threshold for w in weights]\n",
    "    model.set_weights([m * w for m, w in zip(mask, weights)])\n"
   ]
  },
  {
   "cell_type": "code",
   "execution_count": null,
   "metadata": {},
   "outputs": [
    {
     "name": "stdout",
     "output_type": "stream",
     "text": [
      "Epoch: 1\n",
      "Accuracy: 0.9789000153541565\n",
      "Loss: 0.07943268120288849\n"
     ]
    }
   ],
   "source": [
    "# Entrenamiento de los modelos\n",
    "accuracy = 0\n",
    "epochs = 0\n",
    "history = {'accuracy': [], 'val_accuracy': [], 'loss': [], 'val_loss': []}\n",
    "while accuracy < 0.6:\n",
    "    epochs += 1\n",
    "    print(\"Epoch:\", epochs)\n",
    "    \n",
    "    # Entrenar red con datos de entrenamiento\n",
    "    red.fit(x_train, y_train, epochs=1, batch_size=128, validation_split=0.1, verbose=0)\n",
    "    # Evaluar red en datos de validación\n",
    "    val_loss, val_accuracy = red.evaluate(x_test, y_test, verbose=0)\n",
    "    history['val_loss'].append(val_loss)\n",
    "    history['val_accuracy'].append(val_accuracy)\n",
    "    \n",
    "    # Calcular error de red y retropropagarlo en la máscara\n",
    "    loss = red.evaluate(x_train, y_train, verbose=0)[0]\n",
    "    predictions = red.predict(x_train)\n",
    "    red_gradients = red.optimizer.get_gradients(loss=loss, params=red.trainable_weights)\n",
    "    with tf.GradientTape() as tape:\n",
    "        tape.watch(mascara.trainable_weights)\n",
    "        masked_outputs = mascara(x_train)\n",
    "        masked_loss = keras.losses.sparse_categorical_crossentropy(y_train, masked_outputs)\n",
    "    gradients = tape.gradient(masked_loss, mascara.trainable_weights)\n",
    "    mascara.optimizer.apply_gradients(zip(gradients, mascara.trainable_weights))\n",
    "    \n",
    "    print(\"Accuracy:\", val_accuracy)\n",
    "    print(\"Loss:\", loss)\n",
    "    \n",
    "    # Activar el 30% de los pesos más altos en la máscara\n",
    "    activate_top_weights(mascara, 30)\n",
    "    \n",
    "    accuracy = val_accuracy\n",
    "    history['accuracy'].append(accuracy)\n",
    "    history['loss'].append(loss)\n",
    "\n"
   ]
  },
  {
   "cell_type": "code",
   "execution_count": null,
   "metadata": {},
   "outputs": [
    {
     "data": {
      "image/png": "[encoded data removed]",
      "text/plain": [
       "<Figure size 1000x500 with 1 Axes>"
      ]
     },
     "metadata": {},
     "output_type": "display_data"
    }
   ],
   "source": [
    "# Gráfica de evolución del error y el acierto en validación\n",
    "plt.figure(figsize=(10, 5))\n",
    "plt.plot(history['accuracy'], label='Accuracy')\n",
    "plt.plot(history['val_accuracy'], label='Validation Accuracy')\n",
    "plt.plot(history['loss'], label='Loss')\n",
    "plt.plot(history['val_loss'], label='Validation Loss')\n",
    "plt.title('Training Evolution')\n",
    "plt.xlabel('Epoch')\n",
    "plt.legend()\n",
    "plt.show()"
   ]
  },
  {
   "cell_type": "code",
   "execution_count": null,
   "metadata": {},
   "outputs": [
    {
     "name": "stdout",
     "output_type": "stream",
     "text": [
      "\u001b[1m313/313\u001b[0m \u001b[32m━━━━━━━━━━━━━━━━━━━━\u001b[0m\u001b[37m\u001b[0m \u001b[1m1s\u001b[0m 4ms/step - accuracy: 0.9754 - loss: 0.0819\n",
      "Test Accuracy: 0.9789000153541565\n"
     ]
    },
    {
     "ename": "",
     "evalue": "",
     "output_type": "error",
     "traceback": [
      "\u001b[1;31mEl Kernel se bloqueó al ejecutar código en la celda actual o en una celda anterior. Revise el código de las celdas para identificar una posible causa del error. Haga clic <a href='https://aka.ms/vscodeJupyterKernelCrash'>aquí</a> para obtener más información. Vea el [registro] de Jupyter (command:jupyter.viewOutput) para obtener más detalles."
     ]
    }
   ],
   "source": [
    "# Evaluar el modelo en datos de prueba\n",
    "test_loss, test_accuracy = red.evaluate(x_test, y_test)\n",
    "print(\"Test Accuracy:\", test_accuracy)"
   ]
  }
 ],
 "metadata": {
  "kernelspec": {
   "display_name": "Python 3.12.2 64-bit (microsoft store)",
   "language": "python",
   "name": "python3"
  },
  "language_info": {
   "codemirror_mode": {
    "name": "ipython",
    "version": 3
   },
   "file_extension": ".py",
   "mimetype": "text/x-python",
   "name": "python",
   "nbconvert_exporter": "python",
   "pygments_lexer": "ipython3",
   "version": "3.12.3"
  },
  "orig_nbformat": 4,
  "vscode": {
   "interpreter": {
    "hash": "92b9492cfd81234cc3badfae87eb601cf6159a1b89b949e8a05b0b4f335857fe"
   }
  }
 },
 "nbformat": 4,
 "nbformat_minor": 2
}
