{
 "cells": [
  {
   "cell_type": "code",
   "execution_count": null,
   "id": "0142d840",
   "metadata": {},
   "outputs": [],
   "source": [
    "import os\n",
    "import torch\n",
    "import torch.nn as nn\n",
    "import torch.nn.functional as F\n",
    "import torch.optim as optim\n",
    "from torchvision import datasets, transforms, models\n",
    "from torch.utils.data import DataLoader, random_split\n",
    "import copy\n",
    "\n",
    "from utils.apply_mask_alexnet import *"
   ]
  },
  {
   "cell_type": "code",
   "execution_count": null,
   "id": "4b1ea690",
   "metadata": {},
   "outputs": [],
   "source": [
    "# Configuración\n",
    "batch_size = 64\n",
    "threshold_accuracy = 0.70\n",
    "sparsity_percentage = 0.3  # Porcentaje de pesos a conservar (más altos)\n",
    "device = torch.device(\"cuda\" if torch.cuda.is_available() else \"cpu\")"
   ]
  },
  {
   "cell_type": "code",
   "execution_count": null,
   "id": "56ca4f60",
   "metadata": {},
   "outputs": [],
   "source": [
    "# Dataset Animals10\n",
    "transform = transforms.Compose([\n",
    "    transforms.Resize((224, 224)),\n",
    "    transforms.ToTensor(),\n",
    "])\n",
    "\n",
    "data_dir = \"./animals10\"\n",
    "\n",
    "train_dataset = datasets.ImageFolder(root=os.path.join(data_dir, \"train\"), transform=transform)\n",
    "test_dataset = datasets.ImageFolder(root=os.path.join(data_dir, \"test\"), transform=transform)\n",
    "\n",
    "train_loader = torch.utils.data.DataLoader(train_dataset, batch_size=batch_size, shuffle=True)\n",
    "test_loader = torch.utils.data.DataLoader(test_dataset, batch_size=batch_size, shuffle=False)"
   ]
  },
  {
   "cell_type": "code",
   "execution_count": null,
   "id": "75603446",
   "metadata": {},
   "outputs": [],
   "source": [
    "net = models.alexnet(pretrained=False)\n",
    "net.classifier[6] = nn.Linear(net.classifier[6].in_features, 10)\n",
    "\n",
    "mask = models.alexnet(pretrained=False)\n",
    "mask.classifier[6] = nn.Linear(mask.classifier[6].in_features, 10)\n",
    "\n",
    "net.to(device)\n",
    "mask.to(device)"
   ]
  },
  {
   "cell_type": "code",
   "execution_count": null,
   "id": "1288db31",
   "metadata": {},
   "outputs": [],
   "source": [
    "# Congelar los parámetros de net (no se entrenarán)\n",
    "for param in net.parameters():\n",
    "    param.requires_grad = False"
   ]
  },
  {
   "cell_type": "code",
   "execution_count": null,
   "id": "fc636eb6",
   "metadata": {},
   "outputs": [],
   "source": [
    "criterion = nn.CrossEntropyLoss()\n",
    "optimizer = optim.Adam(mask.parameters(), lr=0.001)\n",
    "epoch = 0\n",
    "\n",
    "while True:\n",
    "    masked_model = MaskedForward(net, mask, sparsity_percentage).to(device)\n",
    "    # Guardar copia de los pesos de net para verificar que no cambian\n",
    "    net_before = [p.clone().detach() for p in ma.parameters()]\n",
    "    masked_model.train()\n",
    "    running_loss = 0.0\n",
    "    epoch += 1\n",
    "\n",
    "    print(f\"\\n===== Epoch {epoch} =====\")\n",
    "\n",
    "        # Guardar copia de los pesos de mask\n",
    "    mask_before = [p.clone().detach() for p in mask.parameters()]\n",
    "\n",
    "    for batch_idx, (images, labels) in enumerate(train_loader):\n",
    "        images, labels = images.to(device), labels.to(device)\n",
    "    \n",
    "        optimizer.zero_grad()\n",
    "        outputs = masked_model(images)\n",
    "        loss = criterion(outputs, labels)\n",
    "        loss.backward()\n",
    "\n",
    "        # # Verificar gradientes\n",
    "        # for name, param in mask.named_parameters():\n",
    "        #     if param.grad is not None:\n",
    "        #         print(f\"[Grad] {name}: grad norm = {param.grad.norm().item():.6f}\")\n",
    "        #     else:\n",
    "        #         print(f\"[Grad] {name}: NO grad\")\n",
    "        optimizer.step()\n",
    "\n",
    "        running_loss += loss.item()\n",
    "        if batch_idx % 10 == 0:\n",
    "            print(f\"Batch {batch_idx}, Loss: {loss.item():.4f}\")\n",
    "\n",
    "    avg_loss = running_loss / len(train_loader)\n",
    "\n",
    "    # Evaluación\n",
    "    masked_model.eval()\n",
    "    correct, total = 0, 0\n",
    "    with torch.no_grad():\n",
    "        for images, labels in test_loader:\n",
    "            images, labels = images.to(device), labels.to(device)\n",
    "            outputs = masked_model(images)\n",
    "            _, predicted = torch.max(outputs, 1)\n",
    "            total += labels.size(0)\n",
    "            correct += (predicted == labels).sum().item()\n",
    "\n",
    "    accuracy = 100.0 * correct / total\n",
    "        # Verificar cambios en los parámetros de mask\n",
    "    for (before, after), name in zip(zip(mask_before, mask.parameters()), mask.state_dict().keys()):\n",
    "        delta = (after - before).abs().sum().item()\n",
    "        print(f\"[Update] {name}: Δ = {delta:.6f}\")\n",
    "\n",
    "    # Verificar que net no ha sido modificado\n",
    "    for (before, after), name in zip(zip(net_before, net.parameters()), net.state_dict().keys()):\n",
    "        delta = (after - before).abs().sum().item()\n",
    "        print(f\"[Check Net] {name}: Δ = {delta:.6f}\")\n",
    "\n",
    "    print(f\"Epoch {epoch}: Avg Loss = {avg_loss:.4f}, Test Accuracy = {accuracy:.2f}%\")\n",
    "\n",
    "    if accuracy >= threshold_accuracy * 100:\n",
    "        print(\"Reached target accuracy. Stopping training.\")\n",
    "        break\n"
   ]
  }
 ],
 "metadata": {
  "kernelspec": {
   "display_name": "Python 3",
   "language": "python",
   "name": "python3"
  },
  "language_info": {
   "codemirror_mode": {
    "name": "ipython",
    "version": 3
   },
   "file_extension": ".py",
   "mimetype": "text/x-python",
   "name": "python",
   "nbconvert_exporter": "python",
   "pygments_lexer": "ipython3",
   "version": "3.11.9"
  }
 },
 "nbformat": 4,
 "nbformat_minor": 5
}
