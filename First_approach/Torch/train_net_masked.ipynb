{
 "cells": [
  {
   "cell_type": "code",
   "execution_count": 1,
   "id": "a3614d3f",
   "metadata": {},
   "outputs": [],
   "source": [
    "import torch\n",
    "import torch.nn as nn\n",
    "import torch.optim as optim\n",
    "from torchvision import models, datasets, transforms\n",
    "import os\n",
    "import numpy as np"
   ]
  },
  {
   "cell_type": "code",
   "execution_count": 2,
   "id": "07ab12d1",
   "metadata": {},
   "outputs": [],
   "source": [
    "device = torch.device(\"cuda\" if torch.cuda.is_available() else \"cpu\")\n",
    "batch_size = 64"
   ]
  },
  {
   "cell_type": "code",
   "execution_count": 3,
   "id": "e66f23ad",
   "metadata": {},
   "outputs": [],
   "source": [
    "transform = transforms.Compose([\n",
    "    transforms.Resize((224, 224)),\n",
    "    transforms.ToTensor(),\n",
    "    transforms.Normalize(mean=[0.485, 0.456, 0.406],\n",
    "                         std=[0.229, 0.224, 0.225])\n",
    "])\n",
    "\n",
    "data_dir = \"./animals10\"\n",
    "\n",
    "train_dataset = datasets.ImageFolder(root=os.path.join(data_dir, \"train\"), transform=transform)\n",
    "test_dataset = datasets.ImageFolder(root=os.path.join(data_dir, \"test\"), transform=transform)\n",
    "\n",
    "train_loader = torch.utils.data.DataLoader(train_dataset, batch_size=batch_size, shuffle=True)\n",
    "test_loader = torch.utils.data.DataLoader(test_dataset, batch_size=batch_size, shuffle=False)"
   ]
  },
  {
   "cell_type": "code",
   "execution_count": 4,
   "id": "4e75668a",
   "metadata": {},
   "outputs": [
    {
     "name": "stderr",
     "output_type": "stream",
     "text": [
      "C:\\Users\\Usuario\\AppData\\Local\\Packages\\PythonSoftwareFoundation.Python.3.11_qbz5n2kfra8p0\\LocalCache\\local-packages\\Python311\\site-packages\\torchvision\\models\\_utils.py:208: UserWarning: The parameter 'pretrained' is deprecated since 0.13 and may be removed in the future, please use 'weights' instead.\n",
      "  warnings.warn(\n",
      "C:\\Users\\Usuario\\AppData\\Local\\Packages\\PythonSoftwareFoundation.Python.3.11_qbz5n2kfra8p0\\LocalCache\\local-packages\\Python311\\site-packages\\torchvision\\models\\_utils.py:223: UserWarning: Arguments other than a weight enum or `None` for 'weights' are deprecated since 0.13 and may be removed in the future. The current behavior is equivalent to passing `weights=None`.\n",
      "  warnings.warn(msg)\n",
      "C:\\Users\\Usuario\\AppData\\Local\\Temp\\ipykernel_41968\\2260555728.py:3: FutureWarning: You are using `torch.load` with `weights_only=False` (the current default value), which uses the default pickle module implicitly. It is possible to construct malicious pickle data which will execute arbitrary code during unpickling (See https://github.com/pytorch/pytorch/blob/main/SECURITY.md#untrusted-models for more details). In a future release, the default value for `weights_only` will be flipped to `True`. This limits the functions that could be executed during unpickling. Arbitrary objects will no longer be allowed to be loaded via this mode unless they are explicitly allowlisted by the user via `torch.serialization.add_safe_globals`. We recommend you start setting `weights_only=True` for any use case where you don't have full control of the loaded file. Please open an issue on GitHub for any issues related to this experimental feature.\n",
      "  model.load_state_dict(torch.load(\"masked_net_trained.pth\"))\n"
     ]
    }
   ],
   "source": [
    "model = models.alexnet(pretrained=False)\n",
    "model.classifier[6] = nn.Linear(model.classifier[6].in_features, 10)\n",
    "model.load_state_dict(torch.load(\"masked_net_trained.pth\"))\n",
    "model.to(device)\n",
    "\n",
    "for param in model.parameters():\n",
    "    param.requires_grad = True"
   ]
  },
  {
   "cell_type": "code",
   "execution_count": 5,
   "id": "a98d64b6",
   "metadata": {},
   "outputs": [
    {
     "name": "stdout",
     "output_type": "stream",
     "text": [
      "\n",
      "📊 [Epoch 1]\n",
      "   🔧 Train Accuracy : 27.63% | Train Loss: 8.7366\n",
      "   🧪 Test Accuracy  : 26.73% | Test Loss: 2.0784\n",
      "\n",
      "📊 [Epoch 2]\n",
      "   🔧 Train Accuracy : 33.29% | Train Loss: 2.0484\n",
      "   🧪 Test Accuracy  : 31.44% | Test Loss: 1.9593\n",
      "\n",
      "📊 [Epoch 3]\n",
      "   🔧 Train Accuracy : 38.45% | Train Loss: 1.9315\n",
      "   🧪 Test Accuracy  : 36.58% | Test Loss: 1.8479\n",
      "\n",
      "📊 [Epoch 4]\n",
      "   🔧 Train Accuracy : 42.03% | Train Loss: 1.8167\n",
      "   🧪 Test Accuracy  : 39.17% | Test Loss: 1.7668\n",
      "\n",
      "📊 [Epoch 5]\n",
      "   🔧 Train Accuracy : 46.58% | Train Loss: 1.7111\n",
      "   🧪 Test Accuracy  : 42.22% | Test Loss: 1.6650\n",
      "\n",
      "📊 [Epoch 6]\n",
      "   🔧 Train Accuracy : 50.28% | Train Loss: 1.6234\n",
      "   🧪 Test Accuracy  : 44.29% | Test Loss: 1.6038\n",
      "\n",
      "📊 [Epoch 7]\n",
      "   🔧 Train Accuracy : 53.81% | Train Loss: 1.5367\n",
      "   🧪 Test Accuracy  : 47.28% | Test Loss: 1.5399\n",
      "\n",
      "📊 [Epoch 8]\n",
      "   🔧 Train Accuracy : 56.42% | Train Loss: 1.4613\n",
      "   🧪 Test Accuracy  : 48.43% | Test Loss: 1.4961\n",
      "\n",
      "📊 [Epoch 9]\n",
      "   🔧 Train Accuracy : 58.98% | Train Loss: 1.3798\n",
      "   🧪 Test Accuracy  : 51.14% | Test Loss: 1.4478\n",
      "\n",
      "📊 [Epoch 10]\n",
      "   🔧 Train Accuracy : 63.08% | Train Loss: 1.3044\n",
      "   🧪 Test Accuracy  : 52.18% | Test Loss: 1.4269\n",
      "\n",
      "📊 [Epoch 11]\n",
      "   🔧 Train Accuracy : 63.38% | Train Loss: 1.2410\n",
      "   🧪 Test Accuracy  : 51.06% | Test Loss: 1.4263\n",
      "\n",
      "📊 [Epoch 12]\n",
      "   🔧 Train Accuracy : 69.60% | Train Loss: 1.1741\n",
      "   🧪 Test Accuracy  : 54.82% | Test Loss: 1.3400\n",
      "\n",
      "📊 [Epoch 13]\n",
      "   🔧 Train Accuracy : 72.60% | Train Loss: 1.1148\n",
      "   🧪 Test Accuracy  : 55.66% | Test Loss: 1.3070\n",
      "\n",
      "📊 [Epoch 14]\n",
      "   🔧 Train Accuracy : 73.30% | Train Loss: 1.0607\n",
      "   🧪 Test Accuracy  : 56.27% | Test Loss: 1.3101\n",
      "\n",
      "📊 [Epoch 15]\n",
      "   🔧 Train Accuracy : 75.37% | Train Loss: 0.9994\n",
      "   🧪 Test Accuracy  : 57.20% | Test Loss: 1.3256\n",
      "\n",
      "📊 [Epoch 16]\n",
      "   🔧 Train Accuracy : 77.21% | Train Loss: 0.9538\n",
      "   🧪 Test Accuracy  : 57.93% | Test Loss: 1.3093\n",
      "\n",
      "📊 [Epoch 17]\n",
      "   🔧 Train Accuracy : 79.03% | Train Loss: 0.8983\n",
      "   🧪 Test Accuracy  : 58.86% | Test Loss: 1.2906\n",
      "\n",
      "📊 [Epoch 18]\n",
      "   🔧 Train Accuracy : 80.47% | Train Loss: 0.8662\n",
      "   🧪 Test Accuracy  : 58.71% | Test Loss: 1.3046\n",
      "\n",
      "📊 [Epoch 19]\n",
      "   🔧 Train Accuracy : 82.61% | Train Loss: 0.8176\n",
      "   🧪 Test Accuracy  : 59.15% | Test Loss: 1.3114\n",
      "\n",
      "📊 [Epoch 20]\n",
      "   🔧 Train Accuracy : 84.28% | Train Loss: 0.7825\n",
      "   🧪 Test Accuracy  : 59.07% | Test Loss: 1.3203\n"
     ]
    }
   ],
   "source": [
    "def evaluate(model, dataloader):\n",
    "    model.eval()\n",
    "    correct, total, total_loss = 0, 0, 0.0\n",
    "    with torch.no_grad():\n",
    "        for x, y in dataloader:\n",
    "            x, y = x.to(device), y.to(device)\n",
    "            out = model(x)\n",
    "            loss = criterion(out, y)\n",
    "            total_loss += loss.item()\n",
    "            _, pred = out.max(1)\n",
    "            correct += (pred == y).sum().item()\n",
    "            total += y.size(0)\n",
    "    return correct / total, total_loss / len(dataloader)\n",
    "\n",
    "criterion = nn.CrossEntropyLoss()\n",
    "optimizer = optim.Adam(model.parameters(), lr=1e-4) \n",
    "\n",
    "epochs = 20\n",
    "for epoch in range(1, epochs + 1):\n",
    "    model.train()\n",
    "    running_loss = 0.0\n",
    "    for inputs, targets in train_loader:\n",
    "        inputs, targets = inputs.to(device), targets.to(device)\n",
    "        optimizer.zero_grad()\n",
    "        outputs = model(inputs)\n",
    "        loss = criterion(outputs, targets)\n",
    "        loss.backward()\n",
    "        optimizer.step()\n",
    "        running_loss += loss.item()\n",
    "\n",
    "    train_loss = running_loss / len(train_loader)\n",
    "    train_acc, _ = evaluate(model, train_loader)\n",
    "    test_acc, test_loss = evaluate(model, test_loader)\n",
    "\n",
    "    print(f\"\\n📊 [Epoch {epoch}]\")\n",
    "    print(f\"   🔧 Train Accuracy : {train_acc*100:.2f}% | Train Loss: {train_loss:.4f}\")\n",
    "    print(f\"   🧪 Test Accuracy  : {test_acc*100:.2f}% | Test Loss: {test_loss:.4f}\")"
   ]
  },
  {
   "cell_type": "code",
   "execution_count": 6,
   "id": "9c5f02db",
   "metadata": {},
   "outputs": [
    {
     "name": "stdout",
     "output_type": "stream",
     "text": [
      "\n",
      "🔍 Zero Parameters: 41929626 out of 57035456 (73.52%)\n"
     ]
    }
   ],
   "source": [
    "#imprimir numero de parametros que están a cero\n",
    "def count_zero_params(model):\n",
    "    zero_count = 0\n",
    "    total_count = 0\n",
    "    for name, param in model.named_parameters():\n",
    "        if 'weight' in name:\n",
    "            zero_count += (param.data == 0).sum().item()\n",
    "            total_count += param.numel()\n",
    "    return zero_count, total_count\n",
    "\n",
    "zero_count, total_count = count_zero_params(model)\n",
    "print(f\"\\n🔍 Zero Parameters: {zero_count} out of {total_count} ({(zero_count / total_count) * 100:.2f}%)\")"
   ]
  }
 ],
 "metadata": {
  "kernelspec": {
   "display_name": "Python 3",
   "language": "python",
   "name": "python3"
  },
  "language_info": {
   "codemirror_mode": {
    "name": "ipython",
    "version": 3
   },
   "file_extension": ".py",
   "mimetype": "text/x-python",
   "name": "python",
   "nbconvert_exporter": "python",
   "pygments_lexer": "ipython3",
   "version": "3.11.9"
  }
 },
 "nbformat": 4,
 "nbformat_minor": 5
}
