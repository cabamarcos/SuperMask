{
 "cells": [
  {
   "cell_type": "code",
   "execution_count": 1,
   "id": "0142d840",
   "metadata": {},
   "outputs": [],
   "source": [
    "import os\n",
    "import torch\n",
    "import torch.nn as nn\n",
    "import torch.nn.functional as F\n",
    "import torch.optim as optim\n",
    "from torchvision import datasets, transforms, models\n",
    "from torchvision.datasets import MNIST\n",
    "from torch.utils.data import DataLoader, random_split\n",
    "import copy\n",
    "import matplotlib.pyplot as plt\n",
    "\n",
    "from utils import MaskedForward"
   ]
  },
  {
   "cell_type": "code",
   "execution_count": 2,
   "id": "4b1ea690",
   "metadata": {},
   "outputs": [],
   "source": [
    "# Configuración\n",
    "batch_size = 64\n",
    "threshold_accuracy = 0.99\n",
    "sparsity_percentage = 0.05  # Porcentaje de pesos a conservar (más altos)\n",
    "device = torch.device(\"cuda\" if torch.cuda.is_available() else \"cpu\")\n",
    "\n",
    "# Configuración de reinicios organizados en diccionario\n",
    "restart_checks = {\n",
    "    7: {\"accuracy\": 0.50, \"message\": \"VERY EARLY RESTART\"},\n",
    "    # 11: {\"accuracy\": 0.30, \"message\": \"VERY EARLY RESTART\"},\n",
    "    33: {\"accuracy\": 0.55, \"message\": \"EARLY RESTART\"},\n",
    "    # 70: {\"accuracy\": 0.50, \"message\": \"RESTART\"}\n",
    "}"
   ]
  },
  {
   "cell_type": "code",
   "execution_count": 3,
   "id": "56ca4f60",
   "metadata": {},
   "outputs": [],
   "source": [
    "transform = transforms.Compose([\n",
    "    transforms.Grayscale(3),\n",
    "    transforms.Resize((224, 224)),\n",
    "    transforms.ToTensor(),\n",
    "    transforms.Normalize(mean=[0.1307, 0.1307, 0.1307],\n",
    "                         std=[0.3081, 0.3081, 0.3081])\n",
    "])\n",
    "\n",
    "data_dir = '../../data/MNIST'\n",
    "\n",
    "train_dataset = MNIST(root=data_dir, train=True, download=True, transform=transform)\n",
    "test_dataset = MNIST(root=data_dir, train=False, download=True, transform=transform)\n",
    "train_loader = DataLoader(train_dataset, batch_size=batch_size, shuffle=True)\n",
    "test_loader = DataLoader(test_dataset, batch_size=batch_size, shuffle=False)"
   ]
  },
  {
   "cell_type": "code",
   "execution_count": 4,
   "id": "75603446",
   "metadata": {},
   "outputs": [
    {
     "name": "stderr",
     "output_type": "stream",
     "text": [
      "C:\\Users\\Usuario\\AppData\\Local\\Packages\\PythonSoftwareFoundation.Python.3.11_qbz5n2kfra8p0\\LocalCache\\local-packages\\Python311\\site-packages\\torchvision\\models\\_utils.py:208: UserWarning: The parameter 'pretrained' is deprecated since 0.13 and may be removed in the future, please use 'weights' instead.\n",
      "  warnings.warn(\n",
      "C:\\Users\\Usuario\\AppData\\Local\\Packages\\PythonSoftwareFoundation.Python.3.11_qbz5n2kfra8p0\\LocalCache\\local-packages\\Python311\\site-packages\\torchvision\\models\\_utils.py:223: UserWarning: Arguments other than a weight enum or `None` for 'weights' are deprecated since 0.13 and may be removed in the future. The current behavior is equivalent to passing `weights=None`.\n",
      "  warnings.warn(msg)\n"
     ]
    },
    {
     "data": {
      "text/plain": [
       "AlexNet(\n",
       "  (features): Sequential(\n",
       "    (0): Conv2d(3, 64, kernel_size=(11, 11), stride=(4, 4), padding=(2, 2))\n",
       "    (1): ReLU(inplace=True)\n",
       "    (2): MaxPool2d(kernel_size=3, stride=2, padding=0, dilation=1, ceil_mode=False)\n",
       "    (3): Conv2d(64, 192, kernel_size=(5, 5), stride=(1, 1), padding=(2, 2))\n",
       "    (4): ReLU(inplace=True)\n",
       "    (5): MaxPool2d(kernel_size=3, stride=2, padding=0, dilation=1, ceil_mode=False)\n",
       "    (6): Conv2d(192, 384, kernel_size=(3, 3), stride=(1, 1), padding=(1, 1))\n",
       "    (7): ReLU(inplace=True)\n",
       "    (8): Conv2d(384, 256, kernel_size=(3, 3), stride=(1, 1), padding=(1, 1))\n",
       "    (9): ReLU(inplace=True)\n",
       "    (10): Conv2d(256, 256, kernel_size=(3, 3), stride=(1, 1), padding=(1, 1))\n",
       "    (11): ReLU(inplace=True)\n",
       "    (12): MaxPool2d(kernel_size=3, stride=2, padding=0, dilation=1, ceil_mode=False)\n",
       "  )\n",
       "  (avgpool): AdaptiveAvgPool2d(output_size=(6, 6))\n",
       "  (classifier): Sequential(\n",
       "    (0): Dropout(p=0.5, inplace=False)\n",
       "    (1): Linear(in_features=9216, out_features=4096, bias=True)\n",
       "    (2): ReLU(inplace=True)\n",
       "    (3): Dropout(p=0.5, inplace=False)\n",
       "    (4): Linear(in_features=4096, out_features=4096, bias=True)\n",
       "    (5): ReLU(inplace=True)\n",
       "    (6): Linear(in_features=4096, out_features=10, bias=True)\n",
       "  )\n",
       ")"
      ]
     },
     "execution_count": 4,
     "metadata": {},
     "output_type": "execute_result"
    }
   ],
   "source": [
    "net = models.alexnet(pretrained=False)\n",
    "net.classifier[6] = nn.Linear(net.classifier[6].in_features, 10)\n",
    "\n",
    "mask = models.alexnet(pretrained=False)\n",
    "mask.classifier[6] = nn.Linear(mask.classifier[6].in_features, 10)\n",
    "\n",
    "net.to(device)\n",
    "mask.to(device)"
   ]
  },
  {
   "cell_type": "code",
   "execution_count": 5,
   "id": "1288db31",
   "metadata": {},
   "outputs": [],
   "source": [
    "# Congelar los parámetros de net (no se entrenarán)\n",
    "for param in net.parameters():\n",
    "    param.requires_grad = False"
   ]
  },
  {
   "cell_type": "code",
   "execution_count": 6,
   "id": "9eac7d91",
   "metadata": {},
   "outputs": [],
   "source": [
    "def restart_training():\n",
    "    \"\"\"Función para reinicializar net, mask y métricas\"\"\"\n",
    "    global net, mask, optimizer, epoch, losses, accuracies, saved, restart_count\n",
    "    \n",
    "    restart_count += 1\n",
    "    print(\"Reinicializando net y máscara, y reiniciando el entrenamiento...\")\n",
    "    \n",
    "    # Reinicializar net (nueva inicialización aleatoria)\n",
    "    net = models.alexnet(pretrained=False)\n",
    "    net.classifier[6] = nn.Linear(net.classifier[6].in_features, 10)\n",
    "    net.to(device)\n",
    "    \n",
    "    # Congelar los parámetros de net\n",
    "    for param in net.parameters():\n",
    "        param.requires_grad = False\n",
    "    \n",
    "    # Reinicializar la máscara\n",
    "    mask = models.alexnet(pretrained=False)\n",
    "    mask.classifier[6] = nn.Linear(mask.classifier[6].in_features, 10)\n",
    "    mask.to(device)\n",
    "    \n",
    "    # Reinicializar el optimizador\n",
    "    optimizer = optim.Adam(mask.parameters(), lr=0.001)\n",
    "    \n",
    "    # Reinicializar métricas\n",
    "    epoch = 0\n",
    "    losses = []\n",
    "    accuracies = []\n",
    "    saved = False\n",
    "\n",
    "def check_restart_conditions():\n",
    "    \"\"\"Verifica todas las condiciones de reinicio usando el diccionario de configuración\"\"\"\n",
    "    current_max_accuracy = max(accuracies) if accuracies else 0\n",
    "    \n",
    "    for check_epoch, config in restart_checks.items():\n",
    "        min_acc = config[\"accuracy\"] * 100\n",
    "        restart_type = config[\"message\"]\n",
    "        \n",
    "        # Para época mayor, veri ficar si es mayor o igual; para otras, verificar igualdad exacta\n",
    "        should_check = epoch == check_epoch\n",
    "        \n",
    "        if should_check and current_max_accuracy < min_acc:\n",
    "            print(f\"\\n!!! {restart_type} {restart_count + 1} !!!\")\n",
    "            print(f\"No se alcanzó {min_acc}% de accuracy en época {check_epoch}.\")\n",
    "            restart_training()\n",
    "            return True\n",
    "    \n",
    "    return False"
   ]
  },
  {
   "cell_type": "code",
   "execution_count": 7,
   "id": "fc636eb6",
   "metadata": {},
   "outputs": [
    {
     "name": "stdout",
     "output_type": "stream",
     "text": [
      "\n",
      "===== Epoch 1 (Restart 0) =====\n",
      "Epoch 1: Avg Loss = 0.7696, Test Accuracy = 94.97%\n",
      "\n",
      "===== Epoch 2 (Restart 0) =====\n",
      "Epoch 2: Avg Loss = 0.1985, Test Accuracy = 96.47%\n",
      "\n",
      "===== Epoch 3 (Restart 0) =====\n",
      "Epoch 3: Avg Loss = 0.1572, Test Accuracy = 97.19%\n",
      "\n",
      "===== Epoch 4 (Restart 0) =====\n",
      "Epoch 4: Avg Loss = 0.1379, Test Accuracy = 97.35%\n",
      "\n",
      "===== Epoch 5 (Restart 0) =====\n",
      "Epoch 5: Avg Loss = 0.1297, Test Accuracy = 97.29%\n",
      "\n",
      "===== Epoch 6 (Restart 0) =====\n",
      "Epoch 6: Avg Loss = 0.1264, Test Accuracy = 97.51%\n",
      "\n",
      "===== Epoch 7 (Restart 0) =====\n",
      "Epoch 7: Avg Loss = 0.1216, Test Accuracy = 97.72%\n",
      "\n",
      "===== Epoch 8 (Restart 0) =====\n",
      "Epoch 8: Avg Loss = 0.1189, Test Accuracy = 97.81%\n",
      "\n",
      "===== Epoch 9 (Restart 0) =====\n",
      "Epoch 9: Avg Loss = 0.1199, Test Accuracy = 97.80%\n",
      "\n",
      "===== Epoch 10 (Restart 0) =====\n",
      "Epoch 10: Avg Loss = 0.1173, Test Accuracy = 97.62%\n",
      "\n",
      "===== Epoch 11 (Restart 0) =====\n"
     ]
    },
    {
     "ename": "KeyboardInterrupt",
     "evalue": "",
     "output_type": "error",
     "traceback": [
      "\u001b[1;31m---------------------------------------------------------------------------\u001b[0m",
      "\u001b[1;31mKeyboardInterrupt\u001b[0m                         Traceback (most recent call last)",
      "Cell \u001b[1;32mIn[7], line 30\u001b[0m\n\u001b[0;32m     27\u001b[0m     loss\u001b[38;5;241m.\u001b[39mbackward()\n\u001b[0;32m     28\u001b[0m     optimizer\u001b[38;5;241m.\u001b[39mstep()\n\u001b[1;32m---> 30\u001b[0m     running_loss \u001b[38;5;241m+\u001b[39m\u001b[38;5;241m=\u001b[39m \u001b[43mloss\u001b[49m\u001b[38;5;241;43m.\u001b[39;49m\u001b[43mitem\u001b[49m\u001b[43m(\u001b[49m\u001b[43m)\u001b[49m\n\u001b[0;32m     32\u001b[0m avg_loss \u001b[38;5;241m=\u001b[39m running_loss \u001b[38;5;241m/\u001b[39m \u001b[38;5;28mlen\u001b[39m(train_loader)\n\u001b[0;32m     33\u001b[0m losses\u001b[38;5;241m.\u001b[39mappend(avg_loss)\n",
      "\u001b[1;31mKeyboardInterrupt\u001b[0m: "
     ]
    }
   ],
   "source": [
    "criterion = nn.CrossEntropyLoss()\n",
    "optimizer = optim.Adam(mask.parameters(), lr=0.001)\n",
    "epoch = 0\n",
    "saved = False\n",
    "losses = []\n",
    "accuracies = []\n",
    "restart_count = 0\n",
    "\n",
    "while True:\n",
    "    # Verificar condiciones de reinicio\n",
    "    if check_restart_conditions():\n",
    "        continue\n",
    "    \n",
    "    masked_model = MaskedForward(net, mask, sparsity_percentage).to(device)\n",
    "    masked_model.train()\n",
    "    running_loss = 0.0\n",
    "\n",
    "    epoch += 1\n",
    "    print(f\"\\n===== Epoch {epoch} (Restart {restart_count}) =====\")\n",
    "\n",
    "    for batch_idx, (images, labels) in enumerate(train_loader):\n",
    "        images, labels = images.to(device), labels.to(device)\n",
    "    \n",
    "        optimizer.zero_grad()\n",
    "        outputs = masked_model(images)\n",
    "        loss = criterion(outputs, labels)\n",
    "        loss.backward()\n",
    "        optimizer.step()\n",
    "\n",
    "        running_loss += loss.item()\n",
    "\n",
    "    avg_loss = running_loss / len(train_loader)\n",
    "    losses.append(avg_loss)\n",
    "\n",
    "    # Evaluación\n",
    "    masked_model.eval()\n",
    "    correct, total = 0, 0\n",
    "    with torch.no_grad():\n",
    "        for images, labels in test_loader:\n",
    "            images, labels = images.to(device), labels.to(device)\n",
    "            outputs = masked_model(images)\n",
    "            _, predicted = torch.max(outputs, 1)\n",
    "            total += labels.size(0)\n",
    "            correct += (predicted == labels).sum().item()\n",
    "\n",
    "    accuracy = 100.0 * correct / total\n",
    "    accuracies.append(accuracy)\n",
    "\n",
    "    print(f\"Epoch {epoch}: Avg Loss = {avg_loss:.4f}, Test Accuracy = {accuracy:.2f}%\")\n",
    "\n",
    "    if accuracy >= threshold_accuracy * 100:\n",
    "        print(\"Reached target accuracy. Stopping training.\")\n",
    "        if not saved:\n",
    "            torch.save(net.state_dict(), \"./models/net_10.pth\")\n",
    "            torch.save(mask.state_dict(), \"./models/mask_10.pth\")\n",
    "            print(f\"Models saved\")\n",
    "            saved = True\n",
    "        else:\n",
    "            print(\"Model already saved, skipping save.\")\n",
    "        break"
   ]
  },
  {
   "cell_type": "code",
   "execution_count": 8,
   "id": "c158abf4",
   "metadata": {},
   "outputs": [],
   "source": [
    "torch.save(net.state_dict(), \"./models/net_5.pth\")\n",
    "torch.save(mask.state_dict(), \"./models/mask_5.pth\")"
   ]
  },
  {
   "cell_type": "code",
   "execution_count": 9,
   "id": "e9dfcbb8",
   "metadata": {},
   "outputs": [
    {
     "data": {
      "image/png": "[encoded data removed]",
      "text/plain": [
       "<Figure size 1200x500 with 2 Axes>"
      ]
     },
     "metadata": {},
     "output_type": "display_data"
    }
   ],
   "source": [
    "# Gráficos de pérdida y precisión en una sola figura\n",
    "fig, (ax1, ax2) = plt.subplots(1, 2, figsize=(12, 5))\n",
    "\n",
    "# Gráfico de pérdida\n",
    "ax1.plot(range(1, len(losses)+1), losses, label='Loss', color='red')\n",
    "ax1.set_xlabel('Epoch')\n",
    "ax1.set_ylabel('Loss')\n",
    "ax1.set_title('Training Loss per Epoch')\n",
    "ax1.legend()\n",
    "ax1.grid(True)\n",
    "\n",
    "# Gráfico de precisión\n",
    "ax2.plot(range(1, len(accuracies)+1), accuracies, label='Accuracy', color='green')\n",
    "ax2.set_xlabel('Epoch')\n",
    "ax2.set_ylabel('Accuracy (%)')\n",
    "ax2.set_title('Test Accuracy per Epoch')\n",
    "ax2.legend()\n",
    "ax2.grid(True)\n",
    "\n",
    "plt.tight_layout()\n",
    "plt.show()"
   ]
  },
  {
   "cell_type": "code",
   "execution_count": null,
   "id": "bfe014c1",
   "metadata": {},
   "outputs": [
    {
     "name": "stdout",
     "output_type": "stream",
     "text": [
      "[0.658212602325181, 0.1570813312951817, 0.12839942117894826, 0.11527110757762944, 0.10766198259414926, 0.10048242019159771, 0.0975498080964504, 0.09325799454690646, 0.08911065965779681, 0.08607792985170826, 0.08517700410795523, 0.08231753289405662, 0.08122146664175398, 0.08014971260497691, 0.07897514247172661, 0.07630039550471249, 0.07516747940359499, 0.07432269848493943, 0.07266632681275641, 0.07232064411971471, 0.07257189607666706, 0.07161583671711687, 0.0699993132440838, 0.06881435386199099, 0.06705983774389015, 0.06948036281590554, 0.06740485043274855, 0.06720495654636426, 0.06648488253402685, 0.06524601802855397, 0.06499380853348799]\n",
      "31\n",
      "[96.6, 96.67, 97.31, 97.76, 97.79, 98.22, 98.22, 97.98, 98.37, 98.48, 98.48, 98.45, 98.37, 98.32, 98.33, 98.47, 98.67, 98.5, 98.6, 98.27, 98.35, 98.44, 98.61, 98.45, 98.76, 98.61, 98.37, 98.81, 98.79, 98.57, 98.75]\n",
      "31\n",
      "32\n"
     ]
    }
   ],
   "source": [
    "print(losses)\n",
    "print(len(losses))\n",
    "print(accuracies)\n",
    "print(len(accuracies))\n",
    "print(epoch)"
   ]
  }
 ],
 "metadata": {
  "kernelspec": {
   "display_name": "Python 3",
   "language": "python",
   "name": "python3"
  },
  "language_info": {
   "codemirror_mode": {
    "name": "ipython",
    "version": 3
   },
   "file_extension": ".py",
   "mimetype": "text/x-python",
   "name": "python",
   "nbconvert_exporter": "python",
   "pygments_lexer": "ipython3",
   "version": "3.11.9"
  }
 },
 "nbformat": 4,
 "nbformat_minor": 5
}
