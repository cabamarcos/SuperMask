{
  "cells": [
    {
      "cell_type": "markdown",
      "metadata": {
        "id": "view-in-github",
        "colab_type": "text"
      },
      "source": [
        "<a href=\"https://colab.research.google.com/github/cabamarcos/SuperMask/blob/main/Intentos_keras/Keras_implementation.ipynb\" target=\"_parent\"><img src=\"https://colab.research.google.com/assets/colab-badge.svg\" alt=\"Open In Colab\"/></a>"
      ]
    },
    {
      "cell_type": "code",
      "execution_count": 83,
      "metadata": {
        "id": "Z2ygqOcxdDYu"
      },
      "outputs": [],
      "source": [
        "import tensorflow as tf\n",
        "from tensorflow.keras.datasets import mnist\n",
        "from tensorflow.keras.models import Sequential\n",
        "from tensorflow.keras.layers import Dense, Flatten\n",
        "from tensorflow.keras.utils import to_categorical\n",
        "\n",
        "import numpy as np\n",
        "import matplotlib.pyplot as plt\n",
        "import copy\n",
        "from ast import Param"
      ]
    },
    {
      "cell_type": "code",
      "execution_count": 84,
      "metadata": {
        "colab": {
          "base_uri": "https://localhost:8080/"
        },
        "id": "LTQtMKeHdG7v",
        "outputId": "70b71700-6b07-4093-d793-24617571b2a3"
      },
      "outputs": [
        {
          "output_type": "stream",
          "name": "stdout",
          "text": [
            "Num GPUs Available:  1\n"
          ]
        }
      ],
      "source": [
        "# Verificar si la GPU está disponible y establecer el dispositivo\n",
        "print(\"Num GPUs Available: \", len(tf.config.list_physical_devices('GPU')))"
      ]
    },
    {
      "cell_type": "markdown",
      "metadata": {
        "id": "D6hBuGJe0GFe"
      },
      "source": [
        "Cargamos los datos, los normalizamo sy los ponemos en one-hot"
      ]
    },
    {
      "cell_type": "code",
      "execution_count": 85,
      "metadata": {
        "id": "5QNek0r_0MJi"
      },
      "outputs": [],
      "source": [
        "# Cargar el conjunto de datos MNIST\n",
        "(x_train, y_train), (x_test, y_test) = mnist.load_data()\n",
        "\n",
        "# Normalizar los datos\n",
        "x_train = x_train / 255.0\n",
        "x_test = x_test / 255.0\n",
        "\n",
        "# Convertir las etiquetas a formato one-hot\n",
        "y_train = to_categorical(y_train, 10)\n",
        "y_test = to_categorical(y_test, 10)"
      ]
    },
    {
      "cell_type": "markdown",
      "metadata": {
        "id": "QcjIzXRtgqio"
      },
      "source": [
        "Creamos las redes"
      ]
    },
    {
      "cell_type": "code",
      "execution_count": 86,
      "metadata": {
        "id": "1jgdEdSx0W7F"
      },
      "outputs": [],
      "source": [
        "# Definir la función para crear el modelo\n",
        "def create_model():\n",
        "    model = Sequential()\n",
        "    model.add(Flatten(input_shape=(28, 28)))\n",
        "    model.add(Dense(128, activation='relu'))\n",
        "    model.add(Dense(10, activation='softmax'))\n",
        "    return model"
      ]
    },
    {
      "cell_type": "code",
      "execution_count": 87,
      "metadata": {
        "id": "VtrnTYDM0fQY"
      },
      "outputs": [],
      "source": [
        "# Crear dos modelos con la misma estructura\n",
        "net = create_model()\n",
        "mask = create_model()"
      ]
    },
    {
      "cell_type": "code",
      "execution_count": 88,
      "metadata": {
        "colab": {
          "base_uri": "https://localhost:8080/"
        },
        "id": "ansEzboB0iDA",
        "outputId": "b94d1f2c-6ce9-4474-d1e9-50e68b2b433c"
      },
      "outputs": [
        {
          "output_type": "stream",
          "name": "stdout",
          "text": [
            "Model: \"sequential_10\"\n",
            "_________________________________________________________________\n",
            " Layer (type)                Output Shape              Param #   \n",
            "=================================================================\n",
            " flatten_10 (Flatten)        (None, 784)               0         \n",
            "                                                                 \n",
            " dense_20 (Dense)            (None, 128)               100480    \n",
            "                                                                 \n",
            " dense_21 (Dense)            (None, 10)                1290      \n",
            "                                                                 \n",
            "=================================================================\n",
            "Total params: 101770 (397.54 KB)\n",
            "Trainable params: 101770 (397.54 KB)\n",
            "Non-trainable params: 0 (0.00 Byte)\n",
            "_________________________________________________________________\n",
            "None\n"
          ]
        }
      ],
      "source": [
        "print(net.summary())"
      ]
    },
    {
      "cell_type": "code",
      "source": [
        "def save_model_parameters_to_file(model, model_name, filename):\n",
        "    with open(filename, 'w') as f:\n",
        "        f.write(f\"Parameters of model: {model_name}\\n\")\n",
        "        for layer in model.layers:\n",
        "            if isinstance(layer, Dense):\n",
        "                weights, biases = layer.get_weights()\n",
        "                f.write(f\"Layer: {layer.name}\\n\")\n",
        "                f.write(\"Weights:\\n\")\n",
        "                np.savetxt(f, weights, fmt='%.4f')  # Guarda los pesos en el archivo\n",
        "                f.write(\"Biases:\\n\")\n",
        "                np.savetxt(f, biases, fmt='%.4f')  # Guarda los sesgos en el archivo\n",
        "                f.write(\"\\n\")"
      ],
      "metadata": {
        "id": "uDTP8EHHGSr5"
      },
      "execution_count": 89,
      "outputs": []
    },
    {
      "cell_type": "code",
      "execution_count": 90,
      "metadata": {
        "id": "gwBqasOi3dud"
      },
      "outputs": [],
      "source": [
        "# from utils.save_parameters import save_model_parameters_to_file\n",
        "# # Guardar los parámetros en archivos\n",
        "# save_model_parameters_to_file(net, \"net\", \"net_parameters.txt\")\n",
        "# save_model_parameters_to_file(mask, \"mask\", \"mask_parameters.txt\")"
      ]
    },
    {
      "cell_type": "code",
      "execution_count": 91,
      "metadata": {
        "id": "L11kxSoS2CoM"
      },
      "outputs": [],
      "source": [
        "\n",
        "\n",
        "def apply_mask(net, mask, percentage=30):\n",
        "    # Obtiene los pesos de ambos modelos\n",
        "    mask_weights = mask.get_weights()\n",
        "    net_weights = net.get_weights()\n",
        "\n",
        "    # Procesa cada capa\n",
        "    new_weights = []\n",
        "    for mw, nw in zip(mask_weights, net_weights):\n",
        "        # Aplana los pesos para facilitar la manipulación\n",
        "        mw_flat = mw.flatten()\n",
        "\n",
        "        # Determina el umbral para el porcentaje dado\n",
        "        threshold = np.percentile(mw_flat, 100 - percentage)\n",
        "\n",
        "        # Crea la máscara con 1s para el porcentaje más alto y 0s para el porcentaje más bajo\n",
        "        mask = np.where(mw >= threshold, 1, 0)\n",
        "\n",
        "        # Aplica la máscara a los pesos de net\n",
        "        new_w = nw * mask\n",
        "\n",
        "        # Reshapea los pesos al formato original\n",
        "        new_weights.append(new_w)\n",
        "\n",
        "    # Asigna los nuevos pesos al modelo net\n",
        "    net.set_weights(new_weights)\n",
        ""
      ]
    },
    {
      "cell_type": "code",
      "execution_count": 92,
      "metadata": {
        "id": "Oxu4m3rO2x0_"
      },
      "outputs": [],
      "source": [
        "# apply_mask(net, mask)"
      ]
    },
    {
      "cell_type": "code",
      "execution_count": 93,
      "metadata": {
        "id": "E2rs2ZLD4EpJ"
      },
      "outputs": [],
      "source": [
        "# # Guardar los parámetros en archivos\n",
        "# save_model_parameters_to_file(net, \"net\", \"net_parameters_after.txt\")\n",
        "# save_model_parameters_to_file(mask, \"mask\", \"mask_parameters_after.txt\")"
      ]
    },
    {
      "cell_type": "code",
      "execution_count": 94,
      "metadata": {
        "id": "1fhRnl-E7yUE"
      },
      "outputs": [],
      "source": [
        "def verify(model):\n",
        "    print(\"Verifying model:\")\n",
        "    for layer in model.layers:\n",
        "        if isinstance(layer, Dense):\n",
        "            weights, _ = layer.get_weights()\n",
        "            total_weights = weights.size\n",
        "            null_weights = np.sum(weights == 0)\n",
        "            null_percentage = (null_weights / total_weights) * 100\n",
        "            print(f\"Layer: {layer.name}\")\n",
        "            print(f\"Total weights: {total_weights}\")\n",
        "            print(f\"Null weights: {null_weights}\")\n",
        "            print(f\"Percentage of null weights: {null_percentage:.2f}%\")\n",
        "            print(\"\\n\")\n"
      ]
    },
    {
      "cell_type": "code",
      "execution_count": 95,
      "metadata": {
        "colab": {
          "base_uri": "https://localhost:8080/"
        },
        "id": "qV48dtUK7zbk",
        "outputId": "f997a811-fa5b-44ee-c4c6-3e0af72eb400"
      },
      "outputs": [
        {
          "output_type": "stream",
          "name": "stdout",
          "text": [
            "Verifying model:\n",
            "Layer: dense_20\n",
            "Total weights: 100352\n",
            "Null weights: 0\n",
            "Percentage of null weights: 0.00%\n",
            "\n",
            "\n",
            "Layer: dense_21\n",
            "Total weights: 1280\n",
            "Null weights: 0\n",
            "Percentage of null weights: 0.00%\n",
            "\n",
            "\n"
          ]
        }
      ],
      "source": [
        "verify(net)"
      ]
    },
    {
      "cell_type": "markdown",
      "metadata": {
        "id": "d0GAI70T_Fe4"
      },
      "source": [
        "Optimizadores del código con función de pérdida"
      ]
    },
    {
      "cell_type": "code",
      "execution_count": 96,
      "metadata": {
        "id": "TcEvQi_1_D_X"
      },
      "outputs": [],
      "source": [
        "net.compile(optimizer='adam', loss='categorical_crossentropy', metrics=['accuracy', 'loss'])\n",
        "mask.compile(optimizer='adam', loss='categorical_crossentropy', metrics=['accuracy', 'loss'])\n",
        "\n",
        "# Definir el optimizador para la red mask\n",
        "optimizer_mask = tf.keras.optimizers.Adam()\n",
        "\n",
        "# Definir la función de pérdida que se utilizará\n",
        "loss_function = tf.keras.losses.CategoricalCrossentropy()"
      ]
    },
    {
      "cell_type": "code",
      "source": [
        "# Ensure the mask model's variables are trainable\n",
        "for var in mask.trainable_variables:\n",
        "    var._trainable = True"
      ],
      "metadata": {
        "id": "VgDPpo2LP8XK"
      },
      "execution_count": 97,
      "outputs": []
    },
    {
      "cell_type": "code",
      "execution_count": 98,
      "metadata": {
        "colab": {
          "base_uri": "https://localhost:8080/",
          "height": 1000
        },
        "id": "O--VqbIUE5_X",
        "outputId": "50c97e7a-4f53-4c17-b0d5-cce840065e66"
      },
      "outputs": [
        {
          "output_type": "stream",
          "name": "stdout",
          "text": [
            "Epoch 1/10\n",
            "[None, None, None, None]\n"
          ]
        },
        {
          "output_type": "error",
          "ename": "ValueError",
          "evalue": "No gradients provided for any variable: (['dense_22/kernel:0', 'dense_22/bias:0', 'dense_23/kernel:0', 'dense_23/bias:0'],). Provided `grads_and_vars` is ((None, <tf.Variable 'dense_22/kernel:0' shape=(784, 128) dtype=float32, numpy=\narray([[ 0.04435576, -0.05257457, -0.06601036, ..., -0.05994757,\n        -0.03457224,  0.0791545 ],\n       [-0.07153916, -0.0288265 , -0.06801061, ...,  0.04388655,\n        -0.06235685, -0.00575858],\n       [ 0.01052658, -0.03648903, -0.07280458, ...,  0.02799095,\n         0.0266562 ,  0.05452526],\n       ...,\n       [ 0.03057525, -0.0415886 , -0.05455653, ..., -0.03542001,\n         0.05967753, -0.02094794],\n       [ 0.02887145, -0.07213977, -0.0554945 , ...,  0.01381391,\n         0.02687215, -0.07300194],\n       [-0.02398338, -0.00298727,  0.0680036 , ...,  0.00156865,\n        -0.02981233,  0.07828125]], dtype=float32)>), (None, <tf.Variable 'dense_22/bias:0' shape=(128,) dtype=float32, numpy=\narray([0., 0., 0., 0., 0., 0., 0., 0., 0., 0., 0., 0., 0., 0., 0., 0., 0.,\n       0., 0., 0., 0., 0., 0., 0., 0., 0., 0., 0., 0., 0., 0., 0., 0., 0.,\n       0., 0., 0., 0., 0., 0., 0., 0., 0., 0., 0., 0., 0., 0., 0., 0., 0.,\n       0., 0., 0., 0., 0., 0., 0., 0., 0., 0., 0., 0., 0., 0., 0., 0., 0.,\n       0., 0., 0., 0., 0., 0., 0., 0., 0., 0., 0., 0., 0., 0., 0., 0., 0.,\n       0., 0., 0., 0., 0., 0., 0., 0., 0., 0., 0., 0., 0., 0., 0., 0., 0.,\n       0., 0., 0., 0., 0., 0., 0., 0., 0., 0., 0., 0., 0., 0., 0., 0., 0.,\n       0., 0., 0., 0., 0., 0., 0., 0., 0.], dtype=float32)>), (None, <tf.Variable 'dense_23/kernel:0' shape=(128, 10) dtype=float32, numpy=\narray([[-0.18748824,  0.11599819, -0.04935299, ..., -0.09541741,\n        -0.13119487, -0.10926009],\n       [-0.11402769, -0.09944765,  0.01478684, ...,  0.17572515,\n        -0.03331107,  0.01810832],\n       [-0.03784253, -0.07226211, -0.13889036, ...,  0.2056237 ,\n        -0.09866063,  0.04432331],\n       ...,\n       [ 0.17824091,  0.11549698, -0.17143296, ...,  0.03464176,\n        -0.10110028, -0.1716152 ],\n       [ 0.17962302, -0.15479481, -0.14668085, ...,  0.18476464,\n        -0.17129643,  0.07770403],\n       [ 0.06548627,  0.01642914,  0.15274598, ..., -0.1420272 ,\n         0.07414104,  0.10200359]], dtype=float32)>), (None, <tf.Variable 'dense_23/bias:0' shape=(10,) dtype=float32, numpy=array([0., 0., 0., 0., 0., 0., 0., 0., 0., 0.], dtype=float32)>)).",
          "traceback": [
            "\u001b[0;31m---------------------------------------------------------------------------\u001b[0m",
            "\u001b[0;31mValueError\u001b[0m                                Traceback (most recent call last)",
            "\u001b[0;32m<ipython-input-98-607f6a2497a0>\u001b[0m in \u001b[0;36m<cell line: 11>\u001b[0;34m()\u001b[0m\n\u001b[1;32m     37\u001b[0m     \u001b[0mprint\u001b[0m\u001b[0;34m(\u001b[0m\u001b[0mgrads_mask\u001b[0m\u001b[0;34m)\u001b[0m\u001b[0;34m\u001b[0m\u001b[0;34m\u001b[0m\u001b[0m\n\u001b[1;32m     38\u001b[0m     \u001b[0;31m# Aplicar los gradientes a la red mask\u001b[0m\u001b[0;34m\u001b[0m\u001b[0;34m\u001b[0m\u001b[0m\n\u001b[0;32m---> 39\u001b[0;31m     \u001b[0moptimizer_mask\u001b[0m\u001b[0;34m.\u001b[0m\u001b[0mapply_gradients\u001b[0m\u001b[0;34m(\u001b[0m\u001b[0mzip\u001b[0m\u001b[0;34m(\u001b[0m\u001b[0mgrads_mask\u001b[0m\u001b[0;34m,\u001b[0m \u001b[0mmask\u001b[0m\u001b[0;34m.\u001b[0m\u001b[0mtrainable_variables\u001b[0m\u001b[0;34m)\u001b[0m\u001b[0;34m)\u001b[0m\u001b[0;34m\u001b[0m\u001b[0;34m\u001b[0m\u001b[0m\n\u001b[0m\u001b[1;32m     40\u001b[0m \u001b[0;34m\u001b[0m\u001b[0m\n\u001b[1;32m     41\u001b[0m     \u001b[0mrunning_loss\u001b[0m \u001b[0;34m+=\u001b[0m \u001b[0mloss\u001b[0m\u001b[0;34m.\u001b[0m\u001b[0mnumpy\u001b[0m\u001b[0;34m(\u001b[0m\u001b[0;34m)\u001b[0m\u001b[0;34m\u001b[0m\u001b[0;34m\u001b[0m\u001b[0m\n",
            "\u001b[0;32m/usr/local/lib/python3.10/dist-packages/keras/src/optimizers/optimizer.py\u001b[0m in \u001b[0;36mapply_gradients\u001b[0;34m(self, grads_and_vars, name, skip_gradients_aggregation, **kwargs)\u001b[0m\n\u001b[1;32m   1220\u001b[0m         )\n\u001b[1;32m   1221\u001b[0m         \u001b[0;32mif\u001b[0m \u001b[0;32mnot\u001b[0m \u001b[0mskip_gradients_aggregation\u001b[0m \u001b[0;32mand\u001b[0m \u001b[0mexperimental_aggregate_gradients\u001b[0m\u001b[0;34m:\u001b[0m\u001b[0;34m\u001b[0m\u001b[0;34m\u001b[0m\u001b[0m\n\u001b[0;32m-> 1222\u001b[0;31m             \u001b[0mgrads_and_vars\u001b[0m \u001b[0;34m=\u001b[0m \u001b[0mself\u001b[0m\u001b[0;34m.\u001b[0m\u001b[0maggregate_gradients\u001b[0m\u001b[0;34m(\u001b[0m\u001b[0mgrads_and_vars\u001b[0m\u001b[0;34m)\u001b[0m\u001b[0;34m\u001b[0m\u001b[0;34m\u001b[0m\u001b[0m\n\u001b[0m\u001b[1;32m   1223\u001b[0m         \u001b[0;32mreturn\u001b[0m \u001b[0msuper\u001b[0m\u001b[0;34m(\u001b[0m\u001b[0;34m)\u001b[0m\u001b[0;34m.\u001b[0m\u001b[0mapply_gradients\u001b[0m\u001b[0;34m(\u001b[0m\u001b[0mgrads_and_vars\u001b[0m\u001b[0;34m,\u001b[0m \u001b[0mname\u001b[0m\u001b[0;34m=\u001b[0m\u001b[0mname\u001b[0m\u001b[0;34m)\u001b[0m\u001b[0;34m\u001b[0m\u001b[0;34m\u001b[0m\u001b[0m\n\u001b[1;32m   1224\u001b[0m \u001b[0;34m\u001b[0m\u001b[0m\n",
            "\u001b[0;32m/usr/local/lib/python3.10/dist-packages/keras/src/optimizers/optimizer.py\u001b[0m in \u001b[0;36maggregate_gradients\u001b[0;34m(self, grads_and_vars)\u001b[0m\n\u001b[1;32m   1182\u001b[0m             \u001b[0;32mreturn\u001b[0m \u001b[0mgrads_and_vars\u001b[0m\u001b[0;34m\u001b[0m\u001b[0;34m\u001b[0m\u001b[0m\n\u001b[1;32m   1183\u001b[0m         \u001b[0;32melse\u001b[0m\u001b[0;34m:\u001b[0m\u001b[0;34m\u001b[0m\u001b[0;34m\u001b[0m\u001b[0m\n\u001b[0;32m-> 1184\u001b[0;31m             \u001b[0;32mreturn\u001b[0m \u001b[0moptimizer_utils\u001b[0m\u001b[0;34m.\u001b[0m\u001b[0mall_reduce_sum_gradients\u001b[0m\u001b[0;34m(\u001b[0m\u001b[0mgrads_and_vars\u001b[0m\u001b[0;34m)\u001b[0m\u001b[0;34m\u001b[0m\u001b[0;34m\u001b[0m\u001b[0m\n\u001b[0m\u001b[1;32m   1185\u001b[0m \u001b[0;34m\u001b[0m\u001b[0m\n\u001b[1;32m   1186\u001b[0m     def apply_gradients(\n",
            "\u001b[0;32m/usr/local/lib/python3.10/dist-packages/keras/src/optimizers/utils.py\u001b[0m in \u001b[0;36mall_reduce_sum_gradients\u001b[0;34m(grads_and_vars)\u001b[0m\n\u001b[1;32m     31\u001b[0m     \"\"\"\n\u001b[1;32m     32\u001b[0m     \u001b[0mgrads_and_vars\u001b[0m \u001b[0;34m=\u001b[0m \u001b[0mlist\u001b[0m\u001b[0;34m(\u001b[0m\u001b[0mgrads_and_vars\u001b[0m\u001b[0;34m)\u001b[0m\u001b[0;34m\u001b[0m\u001b[0;34m\u001b[0m\u001b[0m\n\u001b[0;32m---> 33\u001b[0;31m     \u001b[0mfiltered_grads_and_vars\u001b[0m \u001b[0;34m=\u001b[0m \u001b[0mfilter_empty_gradients\u001b[0m\u001b[0;34m(\u001b[0m\u001b[0mgrads_and_vars\u001b[0m\u001b[0;34m)\u001b[0m\u001b[0;34m\u001b[0m\u001b[0;34m\u001b[0m\u001b[0m\n\u001b[0m\u001b[1;32m     34\u001b[0m     \u001b[0;32mif\u001b[0m \u001b[0mfiltered_grads_and_vars\u001b[0m\u001b[0;34m:\u001b[0m\u001b[0;34m\u001b[0m\u001b[0;34m\u001b[0m\u001b[0m\n\u001b[1;32m     35\u001b[0m         \u001b[0;32mif\u001b[0m \u001b[0mtf\u001b[0m\u001b[0;34m.\u001b[0m\u001b[0m__internal__\u001b[0m\u001b[0;34m.\u001b[0m\u001b[0mdistribute\u001b[0m\u001b[0;34m.\u001b[0m\u001b[0mstrategy_supports_no_merge_call\u001b[0m\u001b[0;34m(\u001b[0m\u001b[0;34m)\u001b[0m\u001b[0;34m:\u001b[0m\u001b[0;34m\u001b[0m\u001b[0;34m\u001b[0m\u001b[0m\n",
            "\u001b[0;32m/usr/local/lib/python3.10/dist-packages/keras/src/optimizers/utils.py\u001b[0m in \u001b[0;36mfilter_empty_gradients\u001b[0;34m(grads_and_vars)\u001b[0m\n\u001b[1;32m     75\u001b[0m     \u001b[0;32mif\u001b[0m \u001b[0;32mnot\u001b[0m \u001b[0mfiltered\u001b[0m\u001b[0;34m:\u001b[0m\u001b[0;34m\u001b[0m\u001b[0;34m\u001b[0m\u001b[0m\n\u001b[1;32m     76\u001b[0m         \u001b[0mvariable\u001b[0m \u001b[0;34m=\u001b[0m \u001b[0;34m(\u001b[0m\u001b[0;34m[\u001b[0m\u001b[0mv\u001b[0m\u001b[0;34m.\u001b[0m\u001b[0mname\u001b[0m \u001b[0;32mfor\u001b[0m \u001b[0m_\u001b[0m\u001b[0;34m,\u001b[0m \u001b[0mv\u001b[0m \u001b[0;32min\u001b[0m \u001b[0mgrads_and_vars\u001b[0m\u001b[0;34m]\u001b[0m\u001b[0;34m,\u001b[0m\u001b[0;34m)\u001b[0m\u001b[0;34m\u001b[0m\u001b[0;34m\u001b[0m\u001b[0m\n\u001b[0;32m---> 77\u001b[0;31m         raise ValueError(\n\u001b[0m\u001b[1;32m     78\u001b[0m             \u001b[0;34mf\"No gradients provided for any variable: {variable}. \"\u001b[0m\u001b[0;34m\u001b[0m\u001b[0;34m\u001b[0m\u001b[0m\n\u001b[1;32m     79\u001b[0m             \u001b[0;34mf\"Provided `grads_and_vars` is {grads_and_vars}.\"\u001b[0m\u001b[0;34m\u001b[0m\u001b[0;34m\u001b[0m\u001b[0m\n",
            "\u001b[0;31mValueError\u001b[0m: No gradients provided for any variable: (['dense_22/kernel:0', 'dense_22/bias:0', 'dense_23/kernel:0', 'dense_23/bias:0'],). Provided `grads_and_vars` is ((None, <tf.Variable 'dense_22/kernel:0' shape=(784, 128) dtype=float32, numpy=\narray([[ 0.04435576, -0.05257457, -0.06601036, ..., -0.05994757,\n        -0.03457224,  0.0791545 ],\n       [-0.07153916, -0.0288265 , -0.06801061, ...,  0.04388655,\n        -0.06235685, -0.00575858],\n       [ 0.01052658, -0.03648903, -0.07280458, ...,  0.02799095,\n         0.0266562 ,  0.05452526],\n       ...,\n       [ 0.03057525, -0.0415886 , -0.05455653, ..., -0.03542001,\n         0.05967753, -0.02094794],\n       [ 0.02887145, -0.07213977, -0.0554945 , ...,  0.01381391,\n         0.02687215, -0.07300194],\n       [-0.02398338, -0.00298727,  0.0680036 , ...,  0.00156865,\n        -0.02981233,  0.07828125]], dtype=float32)>), (None, <tf.Variable 'dense_22/bias:0' shape=(128,) dtype=float32, numpy=\narray([0., 0., 0., 0., 0., 0., 0., 0., 0., 0., 0., 0., 0., 0., 0., 0., 0.,\n       0., 0., 0., 0., 0., 0., 0., 0., 0., 0., 0., 0., 0., 0., 0., 0., 0.,\n       0., 0., 0., 0., 0., 0., 0., 0., 0., 0., 0., 0., 0., 0., 0., 0., 0.,\n       0., 0., 0., 0., 0., 0., 0., 0., 0., 0., 0., 0., 0., 0., 0., 0., 0.,\n       0., 0., 0., 0., 0., 0., 0., 0., 0., 0., 0., 0., 0., 0., 0., 0., 0.,\n       0., 0., 0., 0., 0., 0., 0., 0., 0., 0., 0., 0., 0., 0., 0., 0., 0.,\n       0., 0., 0., 0., 0., 0., 0., 0., 0., 0., 0., 0., 0., 0., 0., 0., 0.,\n       0., 0., 0., 0., 0., 0., 0., 0., 0.], dtype=float32)>), (None, <tf.Variable 'dense_23/kernel:0' shape=(128, 10) dtype=float32, numpy=\narray([[-0.18748824,  0.11599819, -0.04935299, ..., -0.09541741,\n        -0.13119487, -0.10926009],\n       [-0.11402769, -0.09944765,  0.01478684, ...,  0.17572515,\n        -0.03331107,  0.01810832],\n       [-0.03784253, -0.07226211, -0.13889036, ...,  0.2056237 ,\n        -0.09866063,  0.04432331],\n       ...,\n       [ 0.17824091,  0.11549698, -0.17143296, ...,  0.03464176,\n        -0.10110028, -0.1716152 ],\n       [ 0.17962302, -0.15479481, -0.14668085, ...,  0.18476464,\n        -0.17129643,  0.07770403],\n       [ 0.06548627,  0.01642914,  0.15274598, ..., -0.1420272 ,\n         0.07414104,  0.10200359]], dtype=float32)>), (None, <tf.Variable 'dense_23/bias:0' shape=(10,) dtype=float32, numpy=array([0., 0., 0., 0., 0., 0., 0., 0., 0., 0.], dtype=float32)>))."
          ]
        }
      ],
      "source": [
        "train_loss = []\n",
        "test_accuracies = []\n",
        "epochs = 10\n",
        "accuracy_threshold = 0.6\n",
        "original_weights = net.get_weights()\n",
        "\n",
        "# Definir el tamaño del lote\n",
        "batch_size = 32\n",
        "\n",
        "# Bucle de entrenamiento\n",
        "for epoch in range(epochs):\n",
        "  print(f'Epoch {epoch + 1}/{epochs}')\n",
        "\n",
        "  #aplicamos los pesos originales a net\n",
        "  net.set_weights(original_weights)\n",
        "\n",
        "  # Aplicamos la máscara a net\n",
        "  apply_mask(net, mask)\n",
        "\n",
        "  running_loss = 0.0\n",
        "  #pasar los batches por net_masked\n",
        "  for start in range(0, len(x_train), batch_size):\n",
        "    end = min(start + batch_size, len(x_train))\n",
        "    x_batch = x_train[start:end]\n",
        "    y_batch = y_train[start:end]\n",
        "\n",
        "    # Compute gradients of mask w.r.t loss of net_masked\n",
        "    with tf.GradientTape() as tape_mask:\n",
        "      predicted = net(x_batch)\n",
        "      loss = loss_function(y_batch, predicted)\n",
        "\n",
        "    # Ensure the tape is watching the correct variables\n",
        "    tape_mask.watch(mask.trainable_variables)\n",
        "\n",
        "    # Calcular los gradientes para actualizar la red mask\n",
        "    grads_mask = tape_mask.gradient(loss, mask.trainable_variables)\n",
        "    print(grads_mask)\n",
        "    # Aplicar los gradientes a la red mask\n",
        "    optimizer_mask.apply_gradients(zip(grads_mask, mask.trainable_variables))\n",
        "\n",
        "    running_loss += loss.numpy()\n",
        "\n",
        "  train_loss.append(running_loss / (len(x_train)/batch_size))\n",
        "\n",
        "  # test en la red mask\n",
        "  predictions = mask(x_test)\n",
        "  accuracy = np.mean(np.argmax(predictions, axis=1) == np.argmax(y_test, axis=1))\n",
        "  test_accuracies.append(accuracy)\n",
        "\n",
        "  print(f'Epoch {epoch + 1}, Loss: {running_loss / (len(x_train)/batch_size)}, Accuracy: {accuracy}')\n",
        "\n",
        "  # Paramos el entrenamiento si la precisión en validación supera el 60%\n",
        "  if accuracy > accuracy_threshold:\n",
        "    break"
      ]
    }
  ],
  "metadata": {
    "accelerator": "GPU",
    "colab": {
      "gpuType": "T4",
      "provenance": [],
      "include_colab_link": true
    },
    "kernelspec": {
      "display_name": "Python 3",
      "name": "python3"
    },
    "language_info": {
      "codemirror_mode": {
        "name": "ipython",
        "version": 3
      },
      "file_extension": ".py",
      "mimetype": "text/x-python",
      "name": "python",
      "nbconvert_exporter": "python",
      "pygments_lexer": "ipython3",
      "version": "3.12.4"
    }
  },
  "nbformat": 4,
  "nbformat_minor": 0
}