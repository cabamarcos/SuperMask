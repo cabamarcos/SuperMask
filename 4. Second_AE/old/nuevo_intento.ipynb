{
 "cells": [
  {
   "cell_type": "code",
   "execution_count": 22,
   "id": "af7bd5c0",
   "metadata": {},
   "outputs": [],
   "source": [
    "import torch\n",
    "import torch.nn as nn\n",
    "import torch.optim as optim\n",
    "import torchvision\n",
    "import torchvision.transforms as transforms\n",
    "import numpy as np"
   ]
  },
  {
   "cell_type": "code",
   "execution_count": 23,
   "id": "9984a65d",
   "metadata": {},
   "outputs": [
    {
     "name": "stdout",
     "output_type": "stream",
     "text": [
      "Usando dispositivo: cuda\n"
     ]
    }
   ],
   "source": [
    "device = torch.device('cuda' if torch.cuda.is_available() else 'cpu')\n",
    "print(\"Usando dispositivo:\", device)"
   ]
  },
  {
   "cell_type": "code",
   "execution_count": 24,
   "id": "1147ea57",
   "metadata": {},
   "outputs": [
    {
     "name": "stdout",
     "output_type": "stream",
     "text": [
      "Files already downloaded and verified\n",
      "Files already downloaded and verified\n"
     ]
    }
   ],
   "source": [
    "transform_train = transforms.Compose([\n",
    "    transforms.RandomHorizontalFlip(),\n",
    "    transforms.RandomCrop(32, padding=4),\n",
    "    transforms.ToTensor(), \n",
    "    transforms.Normalize((0.4914, 0.4822, 0.4465), (0.247, 0.243, 0.261))\n",
    "])\n",
    "transform_test = transforms.Compose([\n",
    "    transforms.ToTensor(), \n",
    "    transforms.Normalize((0.4914, 0.4822, 0.4465), (0.247, 0.243, 0.261))\n",
    "])\n",
    "\n",
    "train_set = datasets.CIFAR10(root='./data', train=True, download=True, transform=transform_train)\n",
    "test_set = datasets.CIFAR10(root='./data', train=False, download=True, transform=transform_test)\n",
    "train_loader = torch.utils.data.DataLoader(train_set, batch_size=128, shuffle=True)\n",
    "test_loader = torch.utils.data.DataLoader(test_set, batch_size=256, shuffle=False)"
   ]
  },
  {
   "cell_type": "code",
   "execution_count": 25,
   "id": "8314a42d",
   "metadata": {},
   "outputs": [],
   "source": [
    "class AlexNet(nn.Module):\n",
    "    def __init__(self):\n",
    "        super(AlexNet, self).__init__()\n",
    "        self.features = nn.Sequential(\n",
    "            nn.Conv2d(3, 64, kernel_size=3, padding=1),\n",
    "            nn.ReLU(inplace=True),\n",
    "            nn.MaxPool2d(kernel_size=2, stride=2),\n",
    "            nn.Conv2d(64, 192, kernel_size=3, padding=1),\n",
    "            nn.ReLU(inplace=True),\n",
    "            nn.MaxPool2d(kernel_size=2, stride=2),\n",
    "            nn.Conv2d(192, 384, kernel_size=3, padding=1),\n",
    "            nn.ReLU(inplace=True),\n",
    "            nn.Conv2d(384, 256, kernel_size=3, padding=1),\n",
    "            nn.ReLU(inplace=True),\n",
    "            nn.Conv2d(256, 256, kernel_size=3, padding=1),\n",
    "            nn.ReLU(inplace=True),\n",
    "            nn.MaxPool2d(kernel_size=2, stride=2),\n",
    "        )\n",
    "        self.classifier = nn.Sequential(\n",
    "            nn.Dropout(),\n",
    "            nn.Linear(256 * 4 * 4, 1024),\n",
    "            nn.ReLU(inplace=True),\n",
    "            nn.Dropout(),\n",
    "            nn.Linear(1024, 512),\n",
    "            nn.ReLU(inplace=True),\n",
    "            nn.Linear(512, 10),\n",
    "        )\n",
    "\n",
    "    def forward(self, x):\n",
    "        x = self.features(x)\n",
    "        x = torch.flatten(x, 1)\n",
    "        x = self.classifier(x)\n",
    "        return x"
   ]
  },
  {
   "cell_type": "code",
   "execution_count": 26,
   "id": "57ee5f25",
   "metadata": {},
   "outputs": [],
   "source": [
    "def apply_mask(net, individuo):\n",
    "    for (param_net, param_ind) in zip(net.parameters(), individuo.parameters()):\n",
    "        flat = param_ind.data.view(-1)\n",
    "        k = int(0.1 * flat.numel())\n",
    "        topk_vals, _ = torch.topk(flat.abs(), k)\n",
    "        threshold = topk_vals[-1]\n",
    "        mask = (param_ind.data.abs() >= threshold).float()\n",
    "        param_net.data *= mask\n",
    "\n",
    "def train_net(net, train_loader, optimizer, criterion, device):\n",
    "    net.train()\n",
    "    for epoch in range(10):\n",
    "        for inputs, targets in train_loader:\n",
    "            inputs, targets = inputs.to(device), targets.to(device)\n",
    "            optimizer.zero_grad()\n",
    "            outputs = net(inputs)\n",
    "            loss = criterion(outputs, targets)\n",
    "            loss.backward()\n",
    "            optimizer.step()\n",
    "\n",
    "def evaluate_net(net, test_loader, criterion, device):\n",
    "    net.eval()\n",
    "    loss = 0.0\n",
    "    correct = 0\n",
    "    total = 0\n",
    "    with torch.no_grad():\n",
    "        for inputs, targets in test_loader:\n",
    "            inputs, targets = inputs.to(device), targets.to(device)\n",
    "            outputs = net(inputs)\n",
    "            loss += criterion(outputs, targets).item()\n",
    "            _, predicted = outputs.max(1)\n",
    "            total += targets.size(0)\n",
    "            correct += predicted.eq(targets).sum().item()\n",
    "    return loss / len(test_loader), correct / total\n",
    "\n",
    "def improvements(loss_list):\n",
    "    last_10 = loss_list[-10:]\n",
    "    return sum(1 for i in range(9) if last_10[i+1] < last_10[i])"
   ]
  },
  {
   "cell_type": "code",
   "execution_count": null,
   "id": "4ca2469d",
   "metadata": {},
   "outputs": [
    {
     "name": "stdout",
     "output_type": "stream",
     "text": [
      "Epoch 1 - Loss: 0.7341, Acc: 0.7412\n",
      "Accuracy goal reached.\n"
     ]
    },
    {
     "ename": "",
     "evalue": "",
     "output_type": "error",
     "traceback": [
      "\u001b[1;31mThe Kernel crashed while executing code in the current cell or a previous cell. \n",
      "\u001b[1;31mPlease review the code in the cell(s) to identify a possible cause of the failure. \n",
      "\u001b[1;31mClick <a href='https://aka.ms/vscodeJupyterKernelCrash'>here</a> for more info. \n",
      "\u001b[1;31mView Jupyter <a href='command:jupyter.viewOutput'>log</a> for further details."
     ]
    }
   ],
   "source": [
    "individuo = AlexNet().to(device)\n",
    "varianzas = AlexNet().to(device)\n",
    "net = AlexNet().to(device)\n",
    "for param in varianzas.parameters():\n",
    "    param.data.fill_(0.5)\n",
    "\n",
    "losses = []\n",
    "accuracies = []\n",
    "epoch = 1\n",
    "\n",
    "while True:\n",
    "    apply_mask(net, individuo)\n",
    "    optimizer = optim.Adam(net.parameters(), lr=0.001)\n",
    "    criterion = nn.CrossEntropyLoss()\n",
    "\n",
    "    train_net(net, train_loader, optimizer, criterion, device)\n",
    "    loss, acc = evaluate_net(net, test_loader, criterion, device)\n",
    "    losses.append(loss)\n",
    "    accuracies.append(acc)\n",
    "    print(f\"Epoch {epoch} - Loss: {loss:.4f}, Acc: {acc:.4f}\")\n",
    "\n",
    "    if epoch == 1 or loss < losses[-2]:\n",
    "        individuo.load_state_dict(individuo.state_dict())\n",
    "\n",
    "    if acc >= 0.5:\n",
    "        print(\"Accuracy goal reached.\")\n",
    "        break\n",
    "\n",
    "    if epoch >= 10:\n",
    "        imp = improvements(losses)\n",
    "        factor = 1.0 if imp == 2 else (0.82 if imp < 2 else 1/0.82)\n",
    "        for param in varianzas.parameters():\n",
    "            param.data *= factor\n",
    "\n",
    "    nuevo_ind = AlexNet().to(device)\n",
    "    with torch.no_grad():\n",
    "        for p_new, p_old, p_var in zip(nuevo_ind.parameters(), individuo.parameters(), varianzas.parameters()):\n",
    "            noise = torch.normal(0, torch.abs(p_var))\n",
    "            p_new.copy_(p_old + noise)\n",
    "    individuo = nuevo_ind\n",
    "    epoch += 1\n"
   ]
  }
 ],
 "metadata": {
  "kernelspec": {
   "display_name": "Python 3",
   "language": "python",
   "name": "python3"
  },
  "language_info": {
   "codemirror_mode": {
    "name": "ipython",
    "version": 3
   },
   "file_extension": ".py",
   "mimetype": "text/x-python",
   "name": "python",
   "nbconvert_exporter": "python",
   "pygments_lexer": "ipython3",
   "version": "3.11.9"
  }
 },
 "nbformat": 4,
 "nbformat_minor": 5
}
