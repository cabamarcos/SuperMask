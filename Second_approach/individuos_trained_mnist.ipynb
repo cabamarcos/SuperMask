{
 "cells": [
  {
   "cell_type": "code",
   "execution_count": 1,
   "metadata": {},
   "outputs": [],
   "source": [
    "import torch\n",
    "import torch.nn as nn\n",
    "import torch.optim as optim\n",
    "import torch.nn.functional as F\n",
    "from torchvision import datasets, transforms\n",
    "from torch.utils.data import DataLoader\n",
    "import torch.nn.init as init\n",
    "\n",
    "import numpy as np\n",
    "import matplotlib.pyplot as plt\n",
    "import copy\n",
    "from ast import Param\n",
    "import json\n",
    "import math\n",
    "\n",
    "from utils.prune import apply_mask\n",
    "from utils.count_improvement import improvements\n",
    "from utils.normalize import normalize_weights"
   ]
  },
  {
   "cell_type": "code",
   "execution_count": 2,
   "metadata": {},
   "outputs": [
    {
     "name": "stdout",
     "output_type": "stream",
     "text": [
      "Using device: cuda\n"
     ]
    }
   ],
   "source": [
    "# Verificar si la GPU está disponible y establecer el dispositivo\n",
    "device = torch.device(\"cuda\" if torch.cuda.is_available() else \"cpu\")\n",
    "print(f\"Using device: {device}\")"
   ]
  },
  {
   "cell_type": "code",
   "execution_count": 3,
   "metadata": {},
   "outputs": [],
   "source": [
    "class Net(nn.Module):\n",
    "    def __init__(self):\n",
    "        super(Net, self).__init__()\n",
    "        self.conv1 = nn.Conv2d(1, 32, kernel_size=3, stride=1, padding=1)\n",
    "        self.conv2 = nn.Conv2d(32, 64, kernel_size=3, stride=1, padding=1)\n",
    "        self.conv3 = nn.Conv2d(64, 128, kernel_size=3, stride=1, padding=1)\n",
    "        self.fc1 = nn.Linear(128 * 3 * 3, 128)\n",
    "        self.fc2 = nn.Linear(128, 10)\n",
    "\n",
    "    def forward(self, x):\n",
    "        x = F.relu(self.conv1(x))\n",
    "        x = F.max_pool2d(x, 2)\n",
    "        x = F.relu(self.conv2(x))\n",
    "        x = F.max_pool2d(x, 2)\n",
    "        x = F.relu(self.conv3(x))\n",
    "        x = F.max_pool2d(x, 2)\n",
    "        x = x.view(-1, 128 * 3 * 3)\n",
    "        x = F.relu(self.fc1(x))\n",
    "        x = self.fc2(x)\n",
    "        return F.log_softmax(x, dim=1)"
   ]
  },
  {
   "cell_type": "code",
   "execution_count": 4,
   "metadata": {},
   "outputs": [],
   "source": [
    "net = Net().to(device)\n",
    "varianzas_net = Net().to(device)\n",
    "individuo = Net().to(device)"
   ]
  },
  {
   "cell_type": "markdown",
   "metadata": {},
   "source": [
    "Cargamos los datos"
   ]
  },
  {
   "cell_type": "code",
   "execution_count": 5,
   "metadata": {},
   "outputs": [],
   "source": [
    "# Definimos el transform para los datos de MNIST\n",
    "transform = transforms.Compose([\n",
    "    transforms.ToTensor(),\n",
    "    transforms.Normalize((0.1307,), (0.3081,))\n",
    "])\n",
    "\n",
    "# Cargamos el dataset de MNIST\n",
    "train_dataset = datasets.MNIST('./data', train=True, download=True, transform=transform)\n",
    "test_dataset = datasets.MNIST('./data', train=False, download=True, transform=transform)\n",
    "\n",
    "# Definimos los DataLoaders para los conjuntos de entrenamiento y prueba\n",
    "train_loader = DataLoader(train_dataset, batch_size=64, shuffle=True, num_workers=4)\n",
    "test_loader = DataLoader(test_dataset, batch_size=1000, shuffle=False, num_workers=4)"
   ]
  },
  {
   "cell_type": "code",
   "execution_count": 6,
   "metadata": {},
   "outputs": [],
   "source": [
    "# Definimos la función de pérdida para calcular el error\n",
    "criterion = nn.CrossEntropyLoss()\n",
    "optimizer = optim.Adam(net.parameters(), lr=0.001)"
   ]
  },
  {
   "cell_type": "markdown",
   "metadata": {},
   "source": [
    "Realizamos el \"entrenamiento\""
   ]
  },
  {
   "cell_type": "code",
   "execution_count": null,
   "metadata": {},
   "outputs": [
    {
     "name": "stdout",
     "output_type": "stream",
     "text": [
      " --------------------- Individuo 1 --------------------- \n",
      "Accuracy: 0.987 Loss: 0.19050393944113717\n"
     ]
    }
   ],
   "source": [
    "# train loop\n",
    "train_loss = []\n",
    "train_loss_mean = []\n",
    "test_accuracies = []\n",
    "n_individuo = 1\n",
    "accuracy_threshold = 0.99\n",
    "\n",
    "#Guardo el mejor individuo y la red original que tendrá que ser reestablecida cad epoca\n",
    "best_individo_state_dict = individuo.state_dict()\n",
    "net_state_dict = net.state_dict()\n",
    "\n",
    "#train loop\n",
    "while True:\n",
    "    net.load_state_dict(net_state_dict)\n",
    "    if n_individuo == 1:\n",
    "        print(f\" --------------------- Individuo {n_individuo} --------------------- \")\n",
    "\n",
    "        masked_net = apply_mask(net, individuo)\n",
    "        #guardar el estado de la red en un txt en una carpeta\n",
    "        # with open(f'pesos/individuo{n_individuo}.txt', 'w') as f:\n",
    "        #     f.write(str(masked_net.state_dict()))\n",
    "        masked_net.train()\n",
    "        running_loss = 0.0\n",
    "        # Train for 1 epoch\n",
    "        for i, data in enumerate(train_loader, 0):\n",
    "            inputs, labels = data[0].to(device), data[1].to(device)\n",
    "            optimizer.zero_grad()\n",
    "            outputs = masked_net(inputs)\n",
    "            loss = criterion(outputs, labels)\n",
    "            loss.backward()\n",
    "            optimizer.step()\n",
    "            running_loss += loss.item()\n",
    "        train_loss.append(running_loss / len(train_loader))\n",
    "\n",
    "        masked_net.eval()\n",
    "        correct = 0\n",
    "        total = 0\n",
    "        with torch.no_grad():\n",
    "            for data in test_loader:\n",
    "                images, labels = data[0].to(device), data[1].to(device)\n",
    "                outputs = masked_net(images)\n",
    "                _, predicted = torch.max(outputs.data, 1)\n",
    "                total += labels.size(0)\n",
    "                correct += (predicted == labels).sum().item()\n",
    "        accuracy = correct / total\n",
    "        #train_loss_mean.append(np.mean(train_loss))\n",
    "        test_accuracies.append(accuracy)\n",
    "        #print(f\"Accuracy: {accuracy}, loss mean: {train_loss_mean[-1]}\")\n",
    "        print(f\"Accuracy: {accuracy}\", f\"Loss: {train_loss[-1]}\")\n",
    "        best_loss = train_loss[-1]\n",
    "        if accuracy > accuracy_threshold:\n",
    "            break\n",
    "        n_individuo += 1\n",
    "\n",
    "        #sumamos varianzas para crear un nuevo individuo desde el anterior\n",
    "        nuevo_individuo = Net().to(device)\n",
    "        state_dict_ind = individuo.state_dict()\n",
    "        state_dict_var = varianzas_net.state_dict()\n",
    "        state_dict_suma = {}\n",
    "\n",
    "        for key in state_dict_ind:\n",
    "            if state_dict_ind[key].size() == state_dict_var[key].size():  \n",
    "                std_dev = torch.abs(state_dict_var[key])\n",
    "                noise = torch.normal(0, std_dev)\n",
    "                state_dict_suma[key] = state_dict_ind[key] + noise\n",
    "            else:\n",
    "                state_dict_suma[key] = state_dict_ind[key]\n",
    "\n",
    "        nuevo_individuo.load_state_dict(state_dict_suma)\n",
    "        \n",
    "    else:\n",
    "        print(f\" --------------------- Individuo {n_individuo} --------------------- \")\n",
    "\n",
    "        masked_net = apply_mask(net, nuevo_individuo)\n",
    "        #guardar el estado de la red en un txt en una carpeta\n",
    "        # with open(f'pesos/individuo{n_individuo}.txt', 'w') as f:\n",
    "        #     f.write(str(masked_net.state_dict()))\n",
    "        masked_net.train()\n",
    "        running_loss = 0.0\n",
    "        # Train for 1 epoch\n",
    "        for i, data in enumerate(train_loader, 0):\n",
    "            inputs, labels = data[0].to(device), data[1].to(device)\n",
    "            optimizer.zero_grad()\n",
    "            outputs = masked_net(inputs)\n",
    "            loss = criterion(outputs, labels)\n",
    "            loss.backward()\n",
    "            optimizer.step()\n",
    "            running_loss += loss.item()\n",
    "        train_loss.append(running_loss / len(train_loader))\n",
    "\n",
    "        masked_net.eval()\n",
    "        correct = 0\n",
    "        total = 0\n",
    "        with torch.no_grad():\n",
    "            for data in test_loader:\n",
    "                images, labels = data[0].to(device), data[1].to(device)\n",
    "                outputs = masked_net(images)\n",
    "                _, predicted = torch.max(outputs.data, 1)\n",
    "                total += labels.size(0)\n",
    "                correct += (predicted == labels).sum().item()\n",
    "        accuracy = correct / total\n",
    "        test_accuracies.append(accuracy)\n",
    "        print(f\"Accuracy: {accuracy}\", f\"Loss: {train_loss[-1]}\")\n",
    "        if accuracy > accuracy_threshold:\n",
    "            break\n",
    "\n",
    "        # Verificamos que individuo tiene mejor desempeño\n",
    "        if train_loss[-1] < best_loss:\n",
    "            print(\"Nuevo mejor individuo\")\n",
    "            best_loss = train_loss[-1]\n",
    "            best_individo_state_dict = nuevo_individuo.state_dict()\n",
    "        \n",
    "        # actualizamos el individuo\n",
    "        individuo.load_state_dict(best_individo_state_dict)\n",
    "\n",
    "        if n_individuo >10:\n",
    "            # actualizmos el vector de varianzas\n",
    "            if improvements(train_loss) > 2:## +mejoras que peoras (lejos de la solucion)\n",
    "                with torch.no_grad():\n",
    "                    for param in varianzas_net.parameters():\n",
    "                        param *= (1/0.82)\n",
    "\n",
    "            elif improvements(train_loss) < 2: ## -mejoras que peoras (cerca de la solucion)\n",
    "                with torch.no_grad():\n",
    "                    for param in varianzas_net.parameters():\n",
    "                        param *= 0.82\n",
    "        \n",
    "            else:\n",
    "                pass\n",
    "\n",
    "        #sumamos varianzas para crear un nuevo individuo desde el anterior\n",
    "        nuevo_individuo = Net().to(device)\n",
    "        state_dict_ind = individuo.state_dict()\n",
    "        state_dict_var = varianzas_net.state_dict()\n",
    "        state_dict_suma = {}\n",
    "\n",
    "        for key in state_dict_ind:\n",
    "            if state_dict_ind[key].size() == state_dict_var[key].size():  \n",
    "                std_dev = torch.abs(state_dict_var[key])\n",
    "                noise = torch.normal(0, std_dev)\n",
    "                state_dict_suma[key] = state_dict_ind[key] + noise\n",
    "            else:\n",
    "                state_dict_suma[key] = state_dict_ind[key]\n",
    "\n",
    "        nuevo_individuo.load_state_dict(state_dict_suma)\n",
    "\n",
    "        n_individuo += 1         "
   ]
  },
  {
   "cell_type": "code",
   "execution_count": 8,
   "metadata": {},
   "outputs": [
    {
     "name": "stdout",
     "output_type": "stream",
     "text": [
      "[0.19050393944113717]\n",
      "[0.987]\n"
     ]
    }
   ],
   "source": [
    "print(train_loss)\n",
    "print(test_accuracies)\n"
   ]
  },
  {
   "cell_type": "code",
   "execution_count": 9,
   "metadata": {},
   "outputs": [
    {
     "name": "stderr",
     "output_type": "stream",
     "text": [
      "C:\\Users\\Usuario\\AppData\\Local\\Packages\\PythonSoftwareFoundation.Python.3.11_qbz5n2kfra8p0\\LocalCache\\local-packages\\Python311\\site-packages\\numpy\\lib\\_polynomial_impl.py:657: RuntimeWarning: invalid value encountered in divide\n",
      "  lhs /= scale\n"
     ]
    },
    {
     "ename": "LinAlgError",
     "evalue": "SVD did not converge in Linear Least Squares",
     "output_type": "error",
     "traceback": [
      "\u001b[1;31m---------------------------------------------------------------------------\u001b[0m",
      "\u001b[1;31mLinAlgError\u001b[0m                               Traceback (most recent call last)",
      "Cell \u001b[1;32mIn[9], line 13\u001b[0m\n\u001b[0;32m     11\u001b[0m \u001b[38;5;66;03m# Calcular la regresión lineal para train_loss\u001b[39;00m\n\u001b[0;32m     12\u001b[0m epochs \u001b[38;5;241m=\u001b[39m np\u001b[38;5;241m.\u001b[39marange(\u001b[38;5;28mlen\u001b[39m(train_loss))\n\u001b[1;32m---> 13\u001b[0m m, b \u001b[38;5;241m=\u001b[39m \u001b[43mnp\u001b[49m\u001b[38;5;241;43m.\u001b[39;49m\u001b[43mpolyfit\u001b[49m\u001b[43m(\u001b[49m\u001b[43mepochs\u001b[49m\u001b[43m,\u001b[49m\u001b[43m \u001b[49m\u001b[43mtrain_loss\u001b[49m\u001b[43m,\u001b[49m\u001b[43m \u001b[49m\u001b[38;5;241;43m1\u001b[39;49m\u001b[43m)\u001b[49m\n\u001b[0;32m     14\u001b[0m plt\u001b[38;5;241m.\u001b[39mplot(epochs, m\u001b[38;5;241m*\u001b[39mepochs \u001b[38;5;241m+\u001b[39m b, color\u001b[38;5;241m=\u001b[39m\u001b[38;5;124m'\u001b[39m\u001b[38;5;124mred\u001b[39m\u001b[38;5;124m'\u001b[39m, linestyle\u001b[38;5;241m=\u001b[39m\u001b[38;5;124m'\u001b[39m\u001b[38;5;124m--\u001b[39m\u001b[38;5;124m'\u001b[39m, label\u001b[38;5;241m=\u001b[39m\u001b[38;5;124m'\u001b[39m\u001b[38;5;124mTendencia\u001b[39m\u001b[38;5;124m'\u001b[39m)\n\u001b[0;32m     17\u001b[0m \u001b[38;5;66;03m# Segundo gráfico en la posición 2 (derecha)\u001b[39;00m\n",
      "File \u001b[1;32m~\\AppData\\Local\\Packages\\PythonSoftwareFoundation.Python.3.11_qbz5n2kfra8p0\\LocalCache\\local-packages\\Python311\\site-packages\\numpy\\lib\\_polynomial_impl.py:658\u001b[0m, in \u001b[0;36mpolyfit\u001b[1;34m(x, y, deg, rcond, full, w, cov)\u001b[0m\n\u001b[0;32m    656\u001b[0m scale \u001b[38;5;241m=\u001b[39m NX\u001b[38;5;241m.\u001b[39msqrt((lhs\u001b[38;5;241m*\u001b[39mlhs)\u001b[38;5;241m.\u001b[39msum(axis\u001b[38;5;241m=\u001b[39m\u001b[38;5;241m0\u001b[39m))\n\u001b[0;32m    657\u001b[0m lhs \u001b[38;5;241m/\u001b[39m\u001b[38;5;241m=\u001b[39m scale\n\u001b[1;32m--> 658\u001b[0m c, resids, rank, s \u001b[38;5;241m=\u001b[39m \u001b[43mlstsq\u001b[49m\u001b[43m(\u001b[49m\u001b[43mlhs\u001b[49m\u001b[43m,\u001b[49m\u001b[43m \u001b[49m\u001b[43mrhs\u001b[49m\u001b[43m,\u001b[49m\u001b[43m \u001b[49m\u001b[43mrcond\u001b[49m\u001b[43m)\u001b[49m\n\u001b[0;32m    659\u001b[0m c \u001b[38;5;241m=\u001b[39m (c\u001b[38;5;241m.\u001b[39mT\u001b[38;5;241m/\u001b[39mscale)\u001b[38;5;241m.\u001b[39mT  \u001b[38;5;66;03m# broadcast scale coefficients\u001b[39;00m\n\u001b[0;32m    661\u001b[0m \u001b[38;5;66;03m# warn on rank reduction, which indicates an ill conditioned matrix\u001b[39;00m\n",
      "File \u001b[1;32m~\\AppData\\Local\\Packages\\PythonSoftwareFoundation.Python.3.11_qbz5n2kfra8p0\\LocalCache\\local-packages\\Python311\\site-packages\\numpy\\linalg\\_linalg.py:2508\u001b[0m, in \u001b[0;36mlstsq\u001b[1;34m(a, b, rcond)\u001b[0m\n\u001b[0;32m   2504\u001b[0m     b \u001b[38;5;241m=\u001b[39m zeros(b\u001b[38;5;241m.\u001b[39mshape[:\u001b[38;5;241m-\u001b[39m\u001b[38;5;241m2\u001b[39m] \u001b[38;5;241m+\u001b[39m (m, n_rhs \u001b[38;5;241m+\u001b[39m \u001b[38;5;241m1\u001b[39m), dtype\u001b[38;5;241m=\u001b[39mb\u001b[38;5;241m.\u001b[39mdtype)\n\u001b[0;32m   2506\u001b[0m \u001b[38;5;28;01mwith\u001b[39;00m errstate(call\u001b[38;5;241m=\u001b[39m_raise_linalgerror_lstsq, invalid\u001b[38;5;241m=\u001b[39m\u001b[38;5;124m'\u001b[39m\u001b[38;5;124mcall\u001b[39m\u001b[38;5;124m'\u001b[39m,\n\u001b[0;32m   2507\u001b[0m               over\u001b[38;5;241m=\u001b[39m\u001b[38;5;124m'\u001b[39m\u001b[38;5;124mignore\u001b[39m\u001b[38;5;124m'\u001b[39m, divide\u001b[38;5;241m=\u001b[39m\u001b[38;5;124m'\u001b[39m\u001b[38;5;124mignore\u001b[39m\u001b[38;5;124m'\u001b[39m, under\u001b[38;5;241m=\u001b[39m\u001b[38;5;124m'\u001b[39m\u001b[38;5;124mignore\u001b[39m\u001b[38;5;124m'\u001b[39m):\n\u001b[1;32m-> 2508\u001b[0m     x, resids, rank, s \u001b[38;5;241m=\u001b[39m \u001b[43mgufunc\u001b[49m\u001b[43m(\u001b[49m\u001b[43ma\u001b[49m\u001b[43m,\u001b[49m\u001b[43m \u001b[49m\u001b[43mb\u001b[49m\u001b[43m,\u001b[49m\u001b[43m \u001b[49m\u001b[43mrcond\u001b[49m\u001b[43m,\u001b[49m\u001b[43m \u001b[49m\u001b[43msignature\u001b[49m\u001b[38;5;241;43m=\u001b[39;49m\u001b[43msignature\u001b[49m\u001b[43m)\u001b[49m\n\u001b[0;32m   2509\u001b[0m \u001b[38;5;28;01mif\u001b[39;00m m \u001b[38;5;241m==\u001b[39m \u001b[38;5;241m0\u001b[39m:\n\u001b[0;32m   2510\u001b[0m     x[\u001b[38;5;241m.\u001b[39m\u001b[38;5;241m.\u001b[39m\u001b[38;5;241m.\u001b[39m] \u001b[38;5;241m=\u001b[39m \u001b[38;5;241m0\u001b[39m\n",
      "File \u001b[1;32m~\\AppData\\Local\\Packages\\PythonSoftwareFoundation.Python.3.11_qbz5n2kfra8p0\\LocalCache\\local-packages\\Python311\\site-packages\\numpy\\linalg\\_linalg.py:116\u001b[0m, in \u001b[0;36m_raise_linalgerror_lstsq\u001b[1;34m(err, flag)\u001b[0m\n\u001b[0;32m    115\u001b[0m \u001b[38;5;28;01mdef\u001b[39;00m \u001b[38;5;21m_raise_linalgerror_lstsq\u001b[39m(err, flag):\n\u001b[1;32m--> 116\u001b[0m     \u001b[38;5;28;01mraise\u001b[39;00m LinAlgError(\u001b[38;5;124m\"\u001b[39m\u001b[38;5;124mSVD did not converge in Linear Least Squares\u001b[39m\u001b[38;5;124m\"\u001b[39m)\n",
      "\u001b[1;31mLinAlgError\u001b[0m: SVD did not converge in Linear Least Squares"
     ]
    },
    {
     "data": {
      "image/png": "[encoded data removed]",
      "text/plain": [
       "<Figure size 1000x500 with 1 Axes>"
      ]
     },
     "metadata": {},
     "output_type": "display_data"
    }
   ],
   "source": [
    "# Creamos la figura y definimos dos subgráficos (1 fila, 2 columnas)\n",
    "plt.figure(figsize=(10, 5))\n",
    "\n",
    "# Primer gráfico en la posición 1 (izquierda)\n",
    "plt.subplot(1, 2, 1)  # 1 fila, 2 columnas, primer gráfico\n",
    "plt.plot(train_loss, color='blue', marker='o')\n",
    "plt.title(\"Gráfico de Pérdida\")\n",
    "plt.xlabel(\"Pérdida\")\n",
    "plt.ylabel(\"Valores\")\n",
    "\n",
    "# Calcular la regresión lineal para train_loss\n",
    "epochs = np.arange(len(train_loss))\n",
    "m, b = np.polyfit(epochs, train_loss, 1)\n",
    "plt.plot(epochs, m*epochs + b, color='red', linestyle='--', label='Tendencia')\n",
    "\n",
    "\n",
    "# Segundo gráfico en la posición 2 (derecha)\n",
    "plt.subplot(1, 2, 2)  # 1 fila, 2 columnas, segundo gráfico\n",
    "plt.plot(test_accuracies, color='green', marker='s')\n",
    "plt.title(\"Gráfico de aciertos\")\n",
    "plt.xlabel(\"% Aciertos\")\n",
    "plt.ylabel(\"Valores\")\n",
    "\n",
    "# Calcular la regresión lineal para test_accuracies\n",
    "epochs_test = np.arange(len(test_accuracies))\n",
    "m, b = np.polyfit(epochs_test, test_accuracies, 1)\n",
    "plt.plot(epochs_test, m*epochs_test + b, color='red', linestyle='--', label='Tendencia')\n",
    "\n",
    "# Mostramos los gráficos\n",
    "plt.tight_layout()  # Ajustamos para que no se solapen los gráficos\n",
    "plt.legend()\n",
    "plt.show()"
   ]
  },
  {
   "cell_type": "code",
   "execution_count": null,
   "metadata": {},
   "outputs": [],
   "source": [
    "# while epoch <= 1:\n",
    "#             net = apply_mask(net, individuo)\n",
    "#             #guardar el estado de la red en un txt en una carpeta\n",
    "#             with open(f'pesos/individuo{n_individuo}_epoch{epoch}.txt', 'w') as f:\n",
    "#                 f.write(str(net.state_dict()))\n",
    "#             net.train()\n",
    "#             running_loss = 0.0\n",
    "#             # Train for 1 epoch\n",
    "#             for i, data in enumerate(train_loader, 0):\n",
    "#                 inputs, labels = data[0].to(device), data[1].to(device)\n",
    "#                 optimizer.zero_grad()\n",
    "#                 outputs = net(inputs)\n",
    "#                 loss = criterion(outputs, labels)\n",
    "#                 loss.backward()\n",
    "#                 optimizer.step()\n",
    "#                 running_loss += loss.item()\n",
    "#             train_loss.append(running_loss / len(train_loader))\n",
    "#             print(f\"Epoch: {epoch}, Loss: {train_loss[-1]}\")\n",
    "\n",
    "#             epoch += 1"
   ]
  }
 ],
 "metadata": {
  "kernelspec": {
   "display_name": "Python 3",
   "language": "python",
   "name": "python3"
  },
  "language_info": {
   "codemirror_mode": {
    "name": "ipython",
    "version": 3
   },
   "file_extension": ".py",
   "mimetype": "text/x-python",
   "name": "python",
   "nbconvert_exporter": "python",
   "pygments_lexer": "ipython3",
   "version": "3.11.9"
  }
 },
 "nbformat": 4,
 "nbformat_minor": 2
}
