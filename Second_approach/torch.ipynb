{
 "cells": [
  {
   "cell_type": "code",
   "execution_count": 20,
   "metadata": {},
   "outputs": [],
   "source": [
    "import torch\n",
    "import torch.nn as nn\n",
    "import torch.optim as optim\n",
    "import torch.nn.functional as F\n",
    "from torchvision import datasets, transforms\n",
    "from torch.utils.data import DataLoader\n",
    "\n",
    "\n",
    "import numpy as np\n",
    "import matplotlib.pyplot as plt\n",
    "import copy\n",
    "from ast import Param\n",
    "\n",
    "from utils.prune import prune_weights\n",
    "from utils.count_improvement import improvements"
   ]
  },
  {
   "cell_type": "code",
   "execution_count": 21,
   "metadata": {},
   "outputs": [
    {
     "name": "stdout",
     "output_type": "stream",
     "text": [
      "Using device: cuda\n"
     ]
    }
   ],
   "source": [
    "# Verificar si la GPU está disponible y establecer el dispositivo\n",
    "device = torch.device(\"cuda\" if torch.cuda.is_available() else \"cpu\")\n",
    "print(f\"Using device: {device}\")"
   ]
  },
  {
   "cell_type": "code",
   "execution_count": 22,
   "metadata": {},
   "outputs": [],
   "source": [
    "class Net(nn.Module):\n",
    "    def __init__(self):\n",
    "        super(Net, self).__init__()\n",
    "        self.fc1 = nn.Linear(784, 256)\n",
    "        self.fc2 = nn.Linear(256, 128)\n",
    "        self.fc3 = nn.Linear(128, 10)\n",
    "\n",
    "    def forward(self, x):\n",
    "        x = x.view(x.size(0), -1)\n",
    "        x = F.relu(self.fc1(x))\n",
    "        x = F.relu(self.fc2(x))\n",
    "        x = self.fc3(x)\n",
    "        return x\n",
    "        \n",
    "\n"
   ]
  },
  {
   "cell_type": "markdown",
   "metadata": {},
   "source": [
    "Definimos una red y le copiamos los pesos en una lista"
   ]
  },
  {
   "cell_type": "code",
   "execution_count": 23,
   "metadata": {},
   "outputs": [
    {
     "name": "stdout",
     "output_type": "stream",
     "text": [
      "OrderedDict({'fc1.weight': tensor([[ 0.0184, -0.0001, -0.0021,  ..., -0.0217, -0.0259,  0.0186],\n",
      "        [ 0.0299,  0.0263,  0.0074,  ..., -0.0094, -0.0107,  0.0339],\n",
      "        [ 0.0220,  0.0030, -0.0151,  ...,  0.0268, -0.0103, -0.0105],\n",
      "        ...,\n",
      "        [ 0.0310, -0.0039,  0.0035,  ..., -0.0110,  0.0262,  0.0322],\n",
      "        [-0.0116,  0.0044,  0.0302,  ...,  0.0343, -0.0240,  0.0010],\n",
      "        [ 0.0102,  0.0334, -0.0047,  ..., -0.0038,  0.0116,  0.0007]],\n",
      "       device='cuda:0'), 'fc1.bias': tensor([-1.5143e-02,  3.3856e-02,  1.6547e-02,  1.5167e-02, -1.3145e-02,\n",
      "         7.6727e-03, -2.9181e-02,  1.7962e-02, -1.3633e-02, -1.6690e-02,\n",
      "         8.8613e-03,  9.5347e-04, -3.3238e-02,  1.1129e-02, -2.2256e-02,\n",
      "         3.0368e-02,  3.0171e-02, -2.0882e-02, -3.0912e-03, -7.5424e-03,\n",
      "         2.0892e-02,  3.2407e-03,  1.5855e-02, -2.3921e-03,  1.5079e-02,\n",
      "        -3.0563e-02, -8.3430e-03,  3.2424e-02, -2.3980e-02,  3.3595e-02,\n",
      "         1.9144e-02,  5.4057e-04,  1.4853e-03,  2.0683e-02,  5.3634e-04,\n",
      "         6.5049e-03,  2.6029e-03,  1.7469e-02,  3.3601e-02, -6.0907e-03,\n",
      "        -7.8145e-03,  6.1966e-03,  1.3709e-02, -1.9660e-03,  1.2174e-02,\n",
      "        -1.6843e-02, -1.3739e-02, -2.3216e-02, -9.9736e-03,  3.1914e-03,\n",
      "        -2.5215e-02, -2.9186e-02, -1.6068e-02, -8.5574e-03,  9.9949e-03,\n",
      "         1.4504e-02, -8.3748e-03, -7.3266e-03, -1.2769e-03, -5.0785e-03,\n",
      "         4.6800e-03, -2.5379e-02, -6.5424e-03,  9.4353e-03,  3.0992e-02,\n",
      "         3.3560e-02, -3.5580e-02, -1.0306e-02,  9.8092e-03,  7.1969e-03,\n",
      "        -3.4421e-02, -9.1514e-03, -3.3543e-02,  2.8837e-02,  7.4255e-03,\n",
      "         3.3548e-03,  1.3998e-02,  3.4923e-02, -1.1305e-02, -2.2329e-02,\n",
      "         3.2198e-02, -2.5929e-02, -3.5576e-02, -2.6031e-02,  2.0974e-02,\n",
      "        -2.7752e-02,  1.1799e-02, -1.9104e-02, -2.5482e-02,  2.1504e-02,\n",
      "        -3.3775e-02, -1.2582e-02, -1.7413e-02,  2.9602e-02, -2.3577e-02,\n",
      "        -2.6581e-02,  1.7831e-02,  3.4733e-02,  1.6891e-02,  6.7578e-03,\n",
      "        -1.5539e-03, -8.7377e-03, -1.3656e-02,  3.0169e-04, -2.2435e-02,\n",
      "         1.9536e-02,  3.1095e-02,  2.7907e-02, -9.3228e-03,  1.7821e-02,\n",
      "         2.0088e-02, -2.7227e-02, -1.0927e-02,  2.6157e-02, -2.5969e-02,\n",
      "         1.2208e-02, -9.1795e-03, -1.6775e-02,  1.3463e-02, -2.1800e-02,\n",
      "        -2.5689e-02, -1.5840e-02,  1.3097e-02, -2.6411e-02, -1.5043e-02,\n",
      "         3.4259e-02, -3.3183e-02,  3.1750e-03, -1.3707e-02, -3.4901e-02,\n",
      "        -4.4401e-03, -2.8716e-02,  2.5929e-02, -2.6339e-02, -3.5043e-03,\n",
      "        -2.4576e-02,  2.5341e-02,  3.4272e-02,  2.9485e-02, -2.3191e-02,\n",
      "         2.5463e-02,  3.1429e-03,  2.8087e-02,  2.7145e-02,  1.0641e-02,\n",
      "         3.1452e-02, -5.1894e-03, -1.4676e-02, -2.1638e-02, -3.1697e-02,\n",
      "        -9.3195e-03, -1.7634e-02,  2.2164e-02, -1.2307e-02, -1.1782e-02,\n",
      "         2.1172e-02, -1.4811e-02,  1.4723e-02,  2.0101e-04, -7.3442e-03,\n",
      "         3.2699e-02, -1.6068e-02, -1.2336e-02,  3.2378e-02,  6.9451e-03,\n",
      "        -1.5390e-03, -5.8504e-03,  2.1223e-02,  7.4121e-03,  1.0699e-02,\n",
      "         9.4049e-04, -3.6871e-04, -3.2313e-02, -1.9824e-02, -1.8843e-05,\n",
      "        -2.3224e-02,  3.8635e-03,  2.1340e-02, -6.3262e-03, -6.3341e-05,\n",
      "        -3.3403e-02,  6.9797e-03, -1.5570e-02, -3.0384e-02,  1.7472e-02,\n",
      "         7.4696e-03,  1.7281e-04,  5.0229e-03,  3.0069e-02, -1.0731e-02,\n",
      "        -1.7754e-02,  2.6006e-02, -1.8792e-02,  2.4184e-02, -3.0378e-03,\n",
      "        -2.7527e-03,  2.4780e-02,  3.2188e-02,  1.8112e-02,  1.0439e-03,\n",
      "        -3.0022e-02, -6.3853e-03, -1.1474e-02,  1.4231e-02, -2.6460e-02,\n",
      "         2.7090e-02, -1.1498e-02, -2.0639e-02, -5.0409e-04,  2.9231e-02,\n",
      "        -1.9219e-02,  8.1527e-04,  3.0214e-02, -1.2629e-02, -8.9931e-03,\n",
      "         1.8403e-02,  8.3606e-03, -1.5211e-02, -1.0509e-02, -3.5032e-02,\n",
      "        -3.4548e-02, -1.3563e-02, -2.7092e-02,  3.3189e-02, -1.9289e-02,\n",
      "         9.3743e-03,  1.4460e-02, -1.8690e-02,  2.0985e-02,  2.7783e-02,\n",
      "         1.7601e-02, -2.7814e-02, -2.8991e-02, -1.7247e-02,  5.0346e-03,\n",
      "        -3.0344e-02,  5.8590e-04, -3.5202e-02,  2.7770e-03, -1.3532e-02,\n",
      "         3.2798e-02, -3.3908e-02,  3.2858e-03,  8.0161e-03,  1.3185e-02,\n",
      "         1.1097e-02,  1.8560e-03,  1.5494e-03, -4.8700e-04,  2.6513e-02,\n",
      "        -1.7518e-02,  1.4987e-02,  2.6468e-02, -2.0789e-02, -2.3717e-02,\n",
      "        -1.4259e-02], device='cuda:0'), 'fc2.weight': tensor([[ 0.0258,  0.0544, -0.0059,  ..., -0.0151, -0.0434, -0.0111],\n",
      "        [ 0.0008,  0.0064,  0.0198,  ..., -0.0407, -0.0147,  0.0420],\n",
      "        [ 0.0101,  0.0224, -0.0529,  ..., -0.0577, -0.0516, -0.0167],\n",
      "        ...,\n",
      "        [-0.0097,  0.0462,  0.0258,  ...,  0.0604,  0.0194, -0.0427],\n",
      "        [-0.0353, -0.0242, -0.0408,  ..., -0.0171, -0.0055,  0.0464],\n",
      "        [-0.0213,  0.0289,  0.0175,  ..., -0.0317, -0.0037,  0.0245]],\n",
      "       device='cuda:0'), 'fc2.bias': tensor([ 0.0187, -0.0364, -0.0143,  0.0323, -0.0425, -0.0473,  0.0262, -0.0279,\n",
      "         0.0249,  0.0251, -0.0007,  0.0375, -0.0066,  0.0279,  0.0347,  0.0537,\n",
      "        -0.0357,  0.0028, -0.0399, -0.0341, -0.0431,  0.0438, -0.0039,  0.0586,\n",
      "        -0.0281, -0.0415, -0.0415,  0.0046, -0.0454,  0.0499,  0.0435, -0.0040,\n",
      "        -0.0497, -0.0176,  0.0248, -0.0489, -0.0557, -0.0557,  0.0549, -0.0091,\n",
      "        -0.0372, -0.0110,  0.0486,  0.0578,  0.0065,  0.0547, -0.0172, -0.0130,\n",
      "        -0.0514,  0.0199, -0.0105, -0.0266, -0.0540, -0.0410, -0.0020, -0.0106,\n",
      "         0.0154, -0.0019,  0.0617, -0.0624,  0.0558, -0.0104, -0.0584,  0.0051,\n",
      "         0.0543,  0.0517, -0.0393, -0.0337, -0.0051,  0.0491, -0.0330, -0.0408,\n",
      "         0.0581,  0.0068, -0.0128,  0.0086,  0.0533,  0.0516,  0.0351, -0.0137,\n",
      "         0.0534,  0.0434, -0.0354,  0.0536, -0.0613,  0.0467,  0.0192, -0.0177,\n",
      "        -0.0333,  0.0363,  0.0341, -0.0541, -0.0138,  0.0106,  0.0161,  0.0578,\n",
      "        -0.0175,  0.0076,  0.0176,  0.0087, -0.0071, -0.0128, -0.0010,  0.0416,\n",
      "        -0.0504,  0.0509, -0.0404,  0.0426, -0.0329, -0.0436,  0.0026,  0.0621,\n",
      "         0.0553,  0.0042, -0.0346,  0.0340, -0.0375, -0.0612, -0.0564, -0.0170,\n",
      "         0.0171, -0.0323, -0.0579, -0.0225,  0.0187, -0.0195,  0.0412, -0.0395],\n",
      "       device='cuda:0'), 'fc3.weight': tensor([[ 0.0237, -0.0071,  0.0752,  ...,  0.0473, -0.0784,  0.0411],\n",
      "        [-0.0384, -0.0304, -0.0682,  ..., -0.0809, -0.0627,  0.0807],\n",
      "        [ 0.0229, -0.0477, -0.0816,  ..., -0.0156,  0.0526, -0.0058],\n",
      "        ...,\n",
      "        [-0.0564, -0.0136,  0.0443,  ...,  0.0579, -0.0291,  0.0019],\n",
      "        [ 0.0271,  0.0044,  0.0362,  ...,  0.0518,  0.0244, -0.0545],\n",
      "        [-0.0802,  0.0634, -0.0788,  ..., -0.0487,  0.0874,  0.0165]],\n",
      "       device='cuda:0'), 'fc3.bias': tensor([ 0.0296, -0.0691,  0.0796, -0.0434, -0.0685, -0.0415, -0.0609, -0.0626,\n",
      "        -0.0715, -0.0293], device='cuda:0')})\n"
     ]
    }
   ],
   "source": [
    "net = Net().to(device)\n",
    "varianzas_net = Net().to(device)\n",
    "\n",
    "varianzas = []\n",
    "for param in varianzas_net.parameters():\n",
    "    varianzas.extend(param.data.clone().flatten().tolist())\n",
    "print(varianzas_net.state_dict())\n"
   ]
  },
  {
   "cell_type": "code",
   "execution_count": 24,
   "metadata": {},
   "outputs": [
    {
     "name": "stdout",
     "output_type": "stream",
     "text": [
      "235146\n",
      "0.01838049292564392\n"
     ]
    }
   ],
   "source": [
    "print(len(varianzas))\n",
    "print(varianzas[0])"
   ]
  },
  {
   "cell_type": "code",
   "execution_count": 25,
   "metadata": {},
   "outputs": [
    {
     "name": "stdout",
     "output_type": "stream",
     "text": [
      "Number of weights: 235146\n"
     ]
    }
   ],
   "source": [
    "# Calculate the number of weights\n",
    "num_weights = sum(p.numel() for p in varianzas_net.parameters() if p.requires_grad)\n",
    "print(f\"Number of weights: {num_weights}\")"
   ]
  },
  {
   "cell_type": "markdown",
   "metadata": {},
   "source": [
    "Cargamos los datos"
   ]
  },
  {
   "cell_type": "code",
   "execution_count": 26,
   "metadata": {},
   "outputs": [],
   "source": [
    "# Definimos el transform para los datos de MNIST\n",
    "transform = transforms.Compose([\n",
    "    transforms.ToTensor(),\n",
    "    transforms.Normalize((0.1307,), (0.3081,))\n",
    "])\n",
    "\n",
    "# Cargamos el dataset de MNIST\n",
    "train_dataset = datasets.MNIST('./data', train=True, download=True, transform=transform)\n",
    "test_dataset = datasets.MNIST('./data', train=False, download=True, transform=transform)\n",
    "\n",
    "# Definimos los DataLoaders para los conjuntos de entrenamiento y prueba\n",
    "train_loader = DataLoader(train_dataset, batch_size=64, shuffle=True)\n",
    "test_loader = DataLoader(test_dataset, batch_size=1000, shuffle=False)"
   ]
  },
  {
   "cell_type": "code",
   "execution_count": 27,
   "metadata": {},
   "outputs": [],
   "source": [
    "# Definimos la función de pérdida para calcular el error\n",
    "criterion = nn.CrossEntropyLoss()"
   ]
  },
  {
   "cell_type": "code",
   "execution_count": 28,
   "metadata": {},
   "outputs": [
    {
     "name": "stdout",
     "output_type": "stream",
     "text": [
      "Epoch 1\n",
      "Train loss: 2.3125341637556485\n",
      "Test accuracy: 0.0981\n",
      "Epoch 2\n"
     ]
    },
    {
     "ename": "AttributeError",
     "evalue": "'Net' object has no attribute 'weights'",
     "output_type": "error",
     "traceback": [
      "\u001b[1;31m---------------------------------------------------------------------------\u001b[0m",
      "\u001b[1;31mAttributeError\u001b[0m                            Traceback (most recent call last)",
      "Cell \u001b[1;32mIn[28], line 48\u001b[0m\n\u001b[0;32m     45\u001b[0m varied_net \u001b[38;5;241m=\u001b[39m copy\u001b[38;5;241m.\u001b[39mdeepcopy(net)\n\u001b[0;32m     47\u001b[0m \u001b[38;5;66;03m# Actualizar los pesos de la red neuronal copiada\u001b[39;00m\n\u001b[1;32m---> 48\u001b[0m varied_net\u001b[38;5;241m.\u001b[39mweights \u001b[38;5;241m=\u001b[39m [peso \u001b[38;5;241m+\u001b[39m varianza \u001b[38;5;28;01mfor\u001b[39;00m peso, varianza \u001b[38;5;129;01min\u001b[39;00m \u001b[38;5;28mzip\u001b[39m(\u001b[43mvaried_net\u001b[49m\u001b[38;5;241;43m.\u001b[39;49m\u001b[43mweights\u001b[49m, varianzas)]\n\u001b[0;32m     50\u001b[0m pruned_net \u001b[38;5;241m=\u001b[39m prune_weights(varied_net)\n\u001b[0;32m     52\u001b[0m running_loss \u001b[38;5;241m=\u001b[39m \u001b[38;5;241m0.0\u001b[39m\n",
      "File \u001b[1;32m~\\AppData\\Local\\Packages\\PythonSoftwareFoundation.Python.3.12_qbz5n2kfra8p0\\LocalCache\\local-packages\\Python312\\site-packages\\torch\\nn\\modules\\module.py:1688\u001b[0m, in \u001b[0;36mModule.__getattr__\u001b[1;34m(self, name)\u001b[0m\n\u001b[0;32m   1686\u001b[0m     \u001b[38;5;28;01mif\u001b[39;00m name \u001b[38;5;129;01min\u001b[39;00m modules:\n\u001b[0;32m   1687\u001b[0m         \u001b[38;5;28;01mreturn\u001b[39;00m modules[name]\n\u001b[1;32m-> 1688\u001b[0m \u001b[38;5;28;01mraise\u001b[39;00m \u001b[38;5;167;01mAttributeError\u001b[39;00m(\u001b[38;5;124mf\u001b[39m\u001b[38;5;124m\"\u001b[39m\u001b[38;5;124m'\u001b[39m\u001b[38;5;132;01m{\u001b[39;00m\u001b[38;5;28mtype\u001b[39m(\u001b[38;5;28mself\u001b[39m)\u001b[38;5;241m.\u001b[39m\u001b[38;5;18m__name__\u001b[39m\u001b[38;5;132;01m}\u001b[39;00m\u001b[38;5;124m'\u001b[39m\u001b[38;5;124m object has no attribute \u001b[39m\u001b[38;5;124m'\u001b[39m\u001b[38;5;132;01m{\u001b[39;00mname\u001b[38;5;132;01m}\u001b[39;00m\u001b[38;5;124m'\u001b[39m\u001b[38;5;124m\"\u001b[39m)\n",
      "\u001b[1;31mAttributeError\u001b[0m: 'Net' object has no attribute 'weights'"
     ]
    }
   ],
   "source": [
    "# train loop\n",
    "train_loss = []\n",
    "test_accuracies = []\n",
    "epochs = 10\n",
    "accuracy_threshold = 0.6\n",
    "\n",
    "for epoch in range(epochs):\n",
    "    print(f\"Epoch {epoch + 1}\")\n",
    "    if epoch + 1 == 1:\n",
    "        pruned_net = prune_weights(net)\n",
    "\n",
    "        running_loss = 0.0\n",
    "        # Pasamos todas las imagenes de train por la red net\n",
    "        for images, labels in train_loader:\n",
    "            images, labels = images.to(device), labels.to(device)\n",
    "\n",
    "            outputs_net = pruned_net(images)\n",
    "            loss = criterion(outputs_net, labels)\n",
    "\n",
    "            running_loss += loss.item()\n",
    "        \n",
    "        train_loss.append(running_loss / len(train_loader))\n",
    "        print(f\"Train loss: {running_loss / len(train_loader)}\")\n",
    "\n",
    "        # Evaluamos el modelo en el conjunto de test\n",
    "        correct = 0\n",
    "        total = 0\n",
    "        with torch.no_grad():\n",
    "            for images, labels in test_loader:\n",
    "                images, labels = images.to(device), labels.to(device)\n",
    "\n",
    "                outputs_net = pruned_net(images)\n",
    "                _, predicted = torch.max(outputs_net.data, 1)\n",
    "                total += labels.size(0)\n",
    "                correct += (predicted == labels).sum().item()\n",
    "\n",
    "        test_accuracies.append(correct / total)\n",
    "        print(f\"Test accuracy: {correct / total}\")\n",
    "\n",
    "        if correct / total > accuracy_threshold:\n",
    "            break\n",
    "    \n",
    "    else:\n",
    "        # Crear una copia de la red neuronal original\n",
    "        varied_net = copy.deepcopy(net)\n",
    "\n",
    "        # Actualizar los pesos de la red neuronal copiada\n",
    "        varied_net.weights = [peso + varianza for peso, varianza in zip(varied_net.weights, varianzas)]\n",
    "\n",
    "        pruned_net = prune_weights(varied_net)\n",
    "\n",
    "        running_loss = 0.0\n",
    "        # Pasamos todas las imagenes de train por la red net\n",
    "        for images, labels in train_loader:\n",
    "            images, labels = images.to(device), labels.to(device)\n",
    "\n",
    "            outputs_net = pruned_net(images)\n",
    "            loss = criterion(outputs_net, labels)\n",
    "\n",
    "            running_loss += loss.item()\n",
    "        \n",
    "        train_loss.append(running_loss / len(train_loader))\n",
    "        print(f\"Train loss: {running_loss / len(train_loader)}\")\n",
    "\n",
    "        # Evaluamos el modelo en el conjunto de test\n",
    "        correct = 0\n",
    "        total = 0\n",
    "        with torch.no_grad():\n",
    "            for images, labels in test_loader:\n",
    "                images, labels = images.to(device), labels.to(device)\n",
    "\n",
    "                outputs_net = pruned_net(images)\n",
    "                _, predicted = torch.max(outputs_net.data, 1)\n",
    "                total += labels.size(0)\n",
    "                correct += (predicted == labels).sum().item()\n",
    "\n",
    "        test_accuracies.append(correct / total)\n",
    "        print(f\"Test accuracy: {correct / total}\")\n",
    "\n",
    "        if correct / total > accuracy_threshold:\n",
    "            break\n",
    "\n",
    "        # actualizmos el vector de varianzas\n",
    "        if improvements(train_loss) == 0:## +mejoras que peoras\n",
    "            varianzas = [varianza * (1/0.82) for varianza in varianzas]\n",
    "        \n",
    "        elif improvements(train_loss) == 1: ## -mejoras que peoras\n",
    "            varianzas = [varianza * 0.82 for varianza in varianzas]\n",
    "\n",
    "        \n",
    "\n"
   ]
  }
 ],
 "metadata": {
  "kernelspec": {
   "display_name": "Python 3",
   "language": "python",
   "name": "python3"
  },
  "language_info": {
   "codemirror_mode": {
    "name": "ipython",
    "version": 3
   },
   "file_extension": ".py",
   "mimetype": "text/x-python",
   "name": "python",
   "nbconvert_exporter": "python",
   "pygments_lexer": "ipython3",
   "version": "3.12.6"
  }
 },
 "nbformat": 4,
 "nbformat_minor": 2
}
