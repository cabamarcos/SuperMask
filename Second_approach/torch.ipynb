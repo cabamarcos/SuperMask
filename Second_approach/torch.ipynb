{
  "cells": [
    {
      "cell_type": "code",
      "execution_count": 1,
      "metadata": {
        "id": "ynQ_78kDeHs2"
      },
      "outputs": [],
      "source": [
        "import torch\n",
        "import torch.nn as nn\n",
        "import torch.optim as optim\n",
        "import torch.nn.functional as F\n",
        "from torchvision import datasets, transforms\n",
        "from torch.utils.data import DataLoader\n",
        "\n",
        "\n",
        "import numpy as np\n",
        "import matplotlib.pyplot as plt\n",
        "import copy\n",
        "from ast import Param\n",
        "\n",
        "from utils.prune import prune_weights\n",
        "from utils.count_improvement import improvements"
      ]
    },
    {
      "cell_type": "code",
      "execution_count": 2,
      "metadata": {
        "colab": {
          "base_uri": "https://localhost:8080/"
        },
        "id": "yC2dq3fNeHs3",
        "outputId": "f25ae62f-1fb0-4f04-ba95-416d32f19c97"
      },
      "outputs": [
        {
          "name": "stdout",
          "output_type": "stream",
          "text": [
            "Using device: cuda\n"
          ]
        }
      ],
      "source": [
        "# Verificar si la GPU está disponible y establecer el dispositivo\n",
        "device = torch.device(\"cuda\" if torch.cuda.is_available() else \"cpu\")\n",
        "print(f\"Using device: {device}\")"
      ]
    },
    {
      "cell_type": "code",
      "execution_count": 3,
      "metadata": {
        "id": "PpJbsf7NeHs3"
      },
      "outputs": [],
      "source": [
        "class Net(nn.Module):\n",
        "    def __init__(self):\n",
        "        super(Net, self).__init__()\n",
        "        self.fc1 = nn.Linear(784, 256)\n",
        "        self.fc2 = nn.Linear(256, 128)\n",
        "        self.fc3 = nn.Linear(128, 10)\n",
        "\n",
        "    def forward(self, x):\n",
        "        x = x.view(x.size(0), -1)\n",
        "        x = F.relu(self.fc1(x))\n",
        "        x = F.relu(self.fc2(x))\n",
        "        x = self.fc3(x)\n",
        "        return x"
      ]
    },
    {
      "cell_type": "markdown",
      "metadata": {
        "id": "-qzJaokBeHs3"
      },
      "source": [
        "Definimos las redes"
      ]
    },
    {
      "cell_type": "code",
      "execution_count": 4,
      "metadata": {
        "id": "8L94OKmYeHs4"
      },
      "outputs": [],
      "source": [
        "net = Net().to(device)\n",
        "varianzas_net = Net().to(device)"
      ]
    },
    {
      "cell_type": "code",
      "execution_count": 5,
      "metadata": {},
      "outputs": [
        {
          "name": "stdout",
          "output_type": "stream",
          "text": [
            "OrderedDict([('fc1.weight', tensor([[ 0.0329,  0.0145,  0.0162,  ..., -0.0349,  0.0297, -0.0134],\n",
            "        [-0.0265,  0.0115, -0.0213,  ..., -0.0310, -0.0078, -0.0270],\n",
            "        [-0.0020, -0.0248, -0.0323,  ...,  0.0115,  0.0282, -0.0235],\n",
            "        ...,\n",
            "        [-0.0202,  0.0118, -0.0123,  ..., -0.0182, -0.0240,  0.0049],\n",
            "        [-0.0201, -0.0269,  0.0354,  ...,  0.0032, -0.0330, -0.0303],\n",
            "        [-0.0294,  0.0118,  0.0177,  ...,  0.0267,  0.0110,  0.0111]],\n",
            "       device='cuda:0')), ('fc1.bias', tensor([ 2.0693e-03,  3.3079e-02,  1.7259e-02, -1.0592e-02, -1.8672e-02,\n",
            "        -2.0285e-02, -1.9722e-02, -1.0663e-02,  3.0717e-02,  2.1539e-02,\n",
            "        -2.0625e-02, -2.4775e-02, -2.2755e-02, -1.7345e-02,  2.4999e-02,\n",
            "        -6.6528e-03, -2.5787e-03, -2.2601e-02, -9.1202e-03,  2.6998e-02,\n",
            "        -8.6464e-03,  1.0482e-02, -3.9921e-03,  2.7064e-02,  1.5890e-02,\n",
            "         2.8549e-02, -3.1854e-02,  1.3721e-02,  1.2319e-02,  1.6060e-02,\n",
            "        -3.6185e-03, -4.4872e-03,  2.8199e-03, -7.3405e-03, -1.4196e-02,\n",
            "         1.6380e-02,  7.5389e-03,  3.1124e-02, -1.8866e-02, -2.3796e-02,\n",
            "        -5.7774e-03, -9.8751e-03,  2.1734e-02, -2.9506e-02,  2.8345e-02,\n",
            "        -9.4006e-03,  3.5705e-03,  3.1423e-02, -3.4634e-02,  3.0228e-02,\n",
            "        -4.0691e-05, -1.9056e-02, -2.5069e-02, -2.8000e-02, -1.2868e-02,\n",
            "         2.9911e-03,  2.8715e-02, -3.5569e-02,  1.5179e-02, -2.7015e-02,\n",
            "         2.2374e-02,  1.4302e-03,  1.5201e-02,  2.2050e-02, -1.2694e-02,\n",
            "        -2.8528e-02, -1.0500e-02,  2.9280e-02, -1.0162e-02, -3.5327e-02,\n",
            "         3.3896e-02,  1.0827e-02, -6.9661e-03, -1.5722e-02, -2.8499e-02,\n",
            "        -3.0161e-02, -1.9039e-02, -2.6841e-02, -9.9008e-03,  7.7834e-03,\n",
            "         1.0093e-02, -3.4204e-03, -1.9961e-02, -2.3857e-02, -9.9258e-04,\n",
            "        -3.3136e-02, -3.2676e-02,  2.3763e-02, -1.5212e-03, -2.8760e-02,\n",
            "        -2.5119e-02, -3.5447e-04,  2.2813e-04, -1.7217e-02,  2.6214e-02,\n",
            "         3.3338e-02, -5.3696e-03,  1.8286e-03,  3.2499e-02, -3.3381e-02,\n",
            "        -1.5402e-03,  3.0554e-02, -9.4535e-03,  3.3238e-02,  1.1143e-02,\n",
            "        -6.4975e-03,  1.3939e-02,  3.1796e-02, -8.9094e-03, -2.1245e-02,\n",
            "         1.0477e-02, -1.2062e-02,  3.3007e-03, -3.1287e-02, -1.9535e-02,\n",
            "        -7.7039e-03,  1.7893e-02,  2.1862e-02, -8.4921e-03,  2.8530e-02,\n",
            "         3.3689e-03, -1.1019e-02, -1.1390e-02, -3.4400e-02,  8.6808e-03,\n",
            "        -2.3710e-03, -2.7443e-03, -3.4193e-03,  3.0190e-02, -2.7324e-02,\n",
            "        -3.3874e-02,  9.6196e-03, -3.7928e-03,  2.3971e-02,  3.3946e-02,\n",
            "         1.6053e-02,  6.8786e-03,  6.6066e-03, -1.5591e-03,  1.3324e-02,\n",
            "         1.1712e-02, -2.3697e-02,  1.8818e-02,  4.9456e-03,  3.4406e-02,\n",
            "        -2.6321e-02,  2.8209e-02, -9.1193e-03,  2.0288e-02, -9.1944e-03,\n",
            "        -3.0264e-03,  2.6112e-02,  3.0502e-02, -9.5593e-03,  1.5055e-02,\n",
            "        -8.6605e-03, -9.2408e-03, -1.0554e-02, -1.0449e-03,  2.0339e-02,\n",
            "         1.8673e-02,  2.0199e-02, -1.8536e-02, -1.3973e-02, -1.1722e-02,\n",
            "        -6.5707e-03,  2.9148e-02,  1.0498e-03, -3.1602e-02, -1.9580e-02,\n",
            "         2.2624e-03, -3.4760e-03,  2.2073e-02,  7.8209e-03,  1.3168e-02,\n",
            "         6.4502e-04,  1.6285e-02,  1.8881e-02, -6.5991e-03,  6.3842e-03,\n",
            "        -1.7245e-02,  1.7462e-02, -1.8141e-02,  3.0400e-02, -4.6622e-03,\n",
            "         1.9044e-02, -1.1687e-02, -1.9166e-02, -2.9605e-02,  2.9085e-02,\n",
            "        -2.7338e-02, -1.2446e-02,  2.5739e-02,  6.5188e-03,  4.5798e-03,\n",
            "         1.2851e-02,  3.4103e-02,  1.1246e-02, -1.0614e-02, -6.1545e-03,\n",
            "         2.2710e-02, -6.0470e-03, -2.0844e-02, -1.3412e-02, -2.6733e-02,\n",
            "         2.9420e-02, -1.1630e-02, -2.7163e-02,  3.4317e-02, -3.4561e-02,\n",
            "         3.5596e-02, -3.0669e-02,  1.7588e-02, -1.3554e-02,  1.0864e-02,\n",
            "        -1.8530e-02,  3.2074e-02, -2.6119e-02, -3.4788e-02,  1.3619e-02,\n",
            "         2.0371e-02,  4.0579e-03, -3.2204e-02,  2.2058e-02, -1.7902e-02,\n",
            "         2.5955e-02,  1.4302e-02,  1.1024e-02, -5.1522e-03,  1.5066e-02,\n",
            "         2.0668e-02,  1.4017e-02, -1.4778e-02, -1.0521e-02, -1.9689e-02,\n",
            "         1.6551e-02, -2.8777e-03, -1.9804e-02,  1.7852e-03, -1.4880e-02,\n",
            "         9.2633e-04,  4.7821e-03,  6.2203e-04,  2.4464e-02,  4.6756e-03,\n",
            "        -3.4387e-02, -5.4569e-03, -6.2027e-03, -1.8260e-02, -1.7418e-02,\n",
            "         1.9032e-02,  8.2768e-03, -2.0564e-02,  1.4960e-02, -1.6771e-03,\n",
            "        -1.7321e-02], device='cuda:0')), ('fc2.weight', tensor([[-0.0425, -0.0379,  0.0593,  ...,  0.0282, -0.0388,  0.0387],\n",
            "        [-0.0050, -0.0527, -0.0258,  ..., -0.0300, -0.0081,  0.0250],\n",
            "        [ 0.0411, -0.0350,  0.0183,  ..., -0.0509,  0.0116, -0.0309],\n",
            "        ...,\n",
            "        [-0.0143, -0.0449,  0.0514,  ..., -0.0475, -0.0257, -0.0488],\n",
            "        [ 0.0197, -0.0007,  0.0069,  ..., -0.0353,  0.0530,  0.0471],\n",
            "        [-0.0469,  0.0427, -0.0030,  ..., -0.0446,  0.0196, -0.0003]],\n",
            "       device='cuda:0')), ('fc2.bias', tensor([ 0.0532,  0.0136, -0.0324, -0.0580, -0.0610, -0.0386, -0.0022, -0.0229,\n",
            "        -0.0104,  0.0132,  0.0558,  0.0151,  0.0404, -0.0217,  0.0235, -0.0542,\n",
            "        -0.0249,  0.0340, -0.0542,  0.0094,  0.0219, -0.0391, -0.0427,  0.0512,\n",
            "        -0.0328,  0.0384,  0.0230,  0.0368,  0.0202,  0.0480, -0.0494, -0.0076,\n",
            "        -0.0227,  0.0244, -0.0216,  0.0275, -0.0220, -0.0085,  0.0219, -0.0382,\n",
            "         0.0175,  0.0360,  0.0361, -0.0457,  0.0147, -0.0087, -0.0035, -0.0023,\n",
            "         0.0254,  0.0463,  0.0274,  0.0396, -0.0412,  0.0327, -0.0195,  0.0490,\n",
            "        -0.0188,  0.0223, -0.0317, -0.0307, -0.0110, -0.0618,  0.0411, -0.0076,\n",
            "        -0.0354,  0.0421, -0.0467,  0.0145,  0.0561, -0.0334, -0.0317, -0.0565,\n",
            "         0.0518,  0.0078,  0.0336,  0.0044, -0.0510,  0.0623,  0.0533,  0.0030,\n",
            "         0.0615, -0.0539, -0.0261, -0.0376, -0.0374,  0.0142, -0.0516, -0.0014,\n",
            "         0.0516, -0.0148, -0.0341,  0.0613,  0.0443, -0.0130, -0.0088, -0.0528,\n",
            "        -0.0406, -0.0424, -0.0617,  0.0622,  0.0553,  0.0476,  0.0127,  0.0196,\n",
            "         0.0057, -0.0366,  0.0301, -0.0248,  0.0034, -0.0555, -0.0195,  0.0535,\n",
            "         0.0561, -0.0577, -0.0241, -0.0514, -0.0605, -0.0052, -0.0095,  0.0385,\n",
            "        -0.0199, -0.0402, -0.0286,  0.0303,  0.0048,  0.0382,  0.0358, -0.0240],\n",
            "       device='cuda:0')), ('fc3.weight', tensor([[ 0.0574,  0.0824, -0.0011,  ..., -0.0725,  0.0544,  0.0700],\n",
            "        [ 0.0863, -0.0860, -0.0755,  ..., -0.0506, -0.0057,  0.0477],\n",
            "        [ 0.0107,  0.0507,  0.0450,  ..., -0.0112,  0.0496,  0.0051],\n",
            "        ...,\n",
            "        [-0.0054,  0.0398, -0.0011,  ...,  0.0657, -0.0526, -0.0827],\n",
            "        [ 0.0464, -0.0228,  0.0151,  ...,  0.0584, -0.0098,  0.0600],\n",
            "        [ 0.0467,  0.0075, -0.0878,  ...,  0.0473,  0.0428,  0.0599]],\n",
            "       device='cuda:0')), ('fc3.bias', tensor([-0.0543,  0.0776, -0.0727,  0.0141, -0.0604,  0.0671,  0.0312,  0.0756,\n",
            "         0.0807, -0.0796], device='cuda:0'))])\n"
          ]
        }
      ],
      "source": [
        "# Sumamos los pesos de las redes en una red nueva\n",
        "# Extraer los diccionarios de estado (pesos y biases)\n",
        "state_dict_red1 = net.state_dict()\n",
        "state_dict_red2 = varianzas_net.state_dict()\n",
        "\n",
        "print(state_dict_red1)"
      ]
    },
    {
      "cell_type": "code",
      "execution_count": 6,
      "metadata": {},
      "outputs": [
        {
          "name": "stdout",
          "output_type": "stream",
          "text": [
            "OrderedDict([('fc1.weight', tensor([[-0.0202, -0.0236, -0.0277,  ..., -0.0025, -0.0215, -0.0151],\n",
            "        [ 0.0003,  0.0086,  0.0023,  ...,  0.0082,  0.0102, -0.0076],\n",
            "        [ 0.0143, -0.0035,  0.0010,  ...,  0.0330, -0.0228, -0.0071],\n",
            "        ...,\n",
            "        [ 0.0327, -0.0143,  0.0168,  ..., -0.0109, -0.0060, -0.0102],\n",
            "        [-0.0205, -0.0244,  0.0044,  ...,  0.0333, -0.0039,  0.0043],\n",
            "        [-0.0185,  0.0199, -0.0327,  ..., -0.0178,  0.0232,  0.0042]],\n",
            "       device='cuda:0')), ('fc1.bias', tensor([-2.9930e-02, -3.0819e-02,  1.7896e-02, -2.6291e-02, -3.3947e-02,\n",
            "        -6.9935e-05, -1.8060e-02, -2.9968e-02, -1.1740e-02,  3.4875e-03,\n",
            "        -2.3601e-02, -3.2802e-02, -8.6999e-03,  3.6323e-03, -1.6533e-02,\n",
            "        -2.4026e-02, -1.7625e-02,  2.8350e-02,  6.6661e-03, -2.7433e-02,\n",
            "         7.6569e-03,  3.5379e-02,  1.8759e-02,  1.8571e-02, -6.9187e-03,\n",
            "         1.4507e-02, -8.1061e-03,  3.1394e-02, -1.3479e-02,  2.5988e-02,\n",
            "        -3.5602e-02, -2.0645e-02, -7.6443e-03, -1.1035e-03,  1.8333e-02,\n",
            "         2.4780e-02, -3.1754e-02,  2.5134e-02,  3.1157e-02, -2.2274e-02,\n",
            "         1.8722e-02,  1.9620e-02,  3.1819e-02,  3.0307e-02,  2.0234e-02,\n",
            "         5.5788e-03,  2.3576e-02,  2.9144e-02,  2.0854e-02,  1.3567e-02,\n",
            "         3.3082e-02, -1.6887e-02,  3.4497e-02,  1.0362e-02,  2.2975e-02,\n",
            "        -9.4064e-03,  3.1076e-02, -2.5150e-02,  3.4008e-03,  1.6469e-02,\n",
            "         1.1105e-02,  1.1567e-02, -2.9656e-02,  4.5819e-03, -1.0133e-02,\n",
            "        -3.3185e-02,  4.4408e-03, -2.6751e-02,  2.5420e-02,  9.1653e-03,\n",
            "        -1.7208e-03, -2.9646e-02, -2.0198e-02,  2.1041e-02, -2.2803e-02,\n",
            "         2.0419e-02, -4.0644e-03, -8.9919e-03,  1.4753e-02, -6.4424e-03,\n",
            "         1.4036e-02, -2.5261e-02, -1.9291e-02,  2.7244e-02,  1.8563e-02,\n",
            "         1.6737e-02,  2.6623e-02,  2.6566e-02, -1.4761e-02,  1.7982e-02,\n",
            "        -2.7294e-02, -2.0325e-02, -7.6876e-03,  3.2672e-02,  3.2817e-02,\n",
            "        -2.3445e-03, -3.3128e-03,  2.7375e-02,  1.6904e-02, -1.4682e-02,\n",
            "         2.5565e-03, -3.0018e-03,  7.0858e-03,  1.8892e-02,  1.1130e-02,\n",
            "        -8.2789e-03, -9.9966e-03, -1.2435e-02, -3.5102e-02, -2.1326e-02,\n",
            "         3.7365e-05,  2.6065e-02, -9.1711e-03, -3.0197e-02,  6.0757e-03,\n",
            "         1.5889e-02, -2.4790e-02, -2.8205e-03,  6.2920e-03, -2.6994e-02,\n",
            "        -1.5386e-02, -2.7669e-02,  2.6251e-02,  2.9821e-02,  1.1800e-02,\n",
            "         3.3778e-03,  3.3518e-02,  3.3832e-02, -1.2378e-02,  2.4942e-02,\n",
            "         4.6571e-03,  3.3116e-02, -3.2067e-02, -1.9071e-02, -2.8912e-02,\n",
            "         3.3590e-02, -3.1940e-02, -3.1002e-02, -1.4131e-02,  2.7924e-02,\n",
            "        -1.9671e-02, -2.1260e-02, -1.5755e-02,  2.0155e-02, -1.6541e-02,\n",
            "        -3.2537e-03, -7.2008e-04,  2.4373e-02,  1.4444e-02,  8.5495e-03,\n",
            "        -1.0431e-02, -3.3362e-02,  2.7060e-02,  3.2868e-02,  1.9950e-02,\n",
            "        -1.4102e-02,  7.1791e-03,  2.2098e-02, -1.2684e-02, -1.8494e-02,\n",
            "        -1.1765e-02, -1.3733e-02, -6.4269e-03, -2.4298e-02,  2.6378e-02,\n",
            "        -3.1829e-02, -8.2318e-03,  3.3276e-02,  9.1435e-03,  2.1908e-02,\n",
            "        -3.4064e-02, -3.4888e-02,  2.7441e-02, -1.3773e-02, -1.3620e-02,\n",
            "        -6.6002e-03,  1.1081e-02,  5.6688e-03,  1.1033e-02,  2.6892e-02,\n",
            "        -3.4549e-02,  3.3890e-02, -1.8474e-02, -2.6260e-02, -1.8923e-02,\n",
            "        -2.4230e-02, -2.2733e-02,  3.1006e-02, -2.2045e-02, -7.4897e-03,\n",
            "        -1.8775e-02, -3.3204e-02, -3.5329e-02,  1.6931e-02, -5.5731e-03,\n",
            "         1.5295e-02, -1.8844e-02, -9.0240e-03, -2.8978e-02,  4.7097e-04,\n",
            "         2.7598e-02,  1.5896e-02, -2.1658e-02, -2.9007e-02, -8.2990e-04,\n",
            "        -2.7862e-04, -2.8331e-02,  2.2521e-02,  2.5825e-02,  9.2889e-03,\n",
            "        -1.2380e-03, -3.2031e-02, -1.1924e-02, -6.9376e-03,  3.4249e-02,\n",
            "         6.8060e-03,  2.6189e-06, -1.1183e-02, -3.5692e-02, -7.0323e-03,\n",
            "         2.1845e-02,  2.9639e-02, -8.1049e-03,  1.0936e-02,  3.2259e-02,\n",
            "         2.4106e-02,  2.3297e-02,  1.3968e-02, -1.7514e-02,  2.7368e-02,\n",
            "         1.8373e-02, -2.7994e-02,  4.9589e-03,  5.3998e-03,  2.9084e-02,\n",
            "        -3.0268e-02,  2.6670e-04, -2.2570e-02, -2.5740e-02, -1.8904e-02,\n",
            "         1.3238e-02,  1.9207e-02, -2.3751e-02, -1.5486e-02,  5.8617e-03,\n",
            "         2.7355e-02,  4.3473e-03,  1.8323e-02, -4.8013e-04, -2.7340e-02,\n",
            "        -3.1753e-02, -2.3542e-02,  7.2899e-03,  3.3011e-02,  1.3419e-02,\n",
            "         1.8570e-02], device='cuda:0')), ('fc2.weight', tensor([[-0.0592,  0.0123, -0.0286,  ..., -0.0250, -0.0608,  0.0029],\n",
            "        [ 0.0204,  0.0525,  0.0590,  ..., -0.0148, -0.0320, -0.0298],\n",
            "        [-0.0450, -0.0553, -0.0573,  ..., -0.0265,  0.0576, -0.0230],\n",
            "        ...,\n",
            "        [-0.0005,  0.0342,  0.0083,  ...,  0.0589,  0.0405, -0.0426],\n",
            "        [-0.0595,  0.0118,  0.0084,  ...,  0.0282, -0.0610, -0.0283],\n",
            "        [ 0.0243, -0.0133, -0.0350,  ..., -0.0164, -0.0352,  0.0573]],\n",
            "       device='cuda:0')), ('fc2.bias', tensor([-0.0473,  0.0623,  0.0286, -0.0373, -0.0173,  0.0283,  0.0126,  0.0397,\n",
            "        -0.0573,  0.0512, -0.0241, -0.0549, -0.0496, -0.0404,  0.0540,  0.0176,\n",
            "        -0.0298, -0.0241, -0.0550, -0.0406,  0.0609,  0.0150, -0.0335,  0.0477,\n",
            "         0.0086, -0.0460,  0.0333, -0.0143, -0.0549, -0.0011,  0.0538,  0.0191,\n",
            "         0.0032, -0.0161,  0.0126,  0.0426,  0.0174,  0.0390,  0.0585,  0.0163,\n",
            "         0.0204,  0.0312, -0.0396, -0.0207, -0.0607, -0.0254,  0.0544, -0.0584,\n",
            "         0.0140,  0.0588, -0.0527,  0.0238,  0.0474, -0.0037,  0.0496,  0.0507,\n",
            "        -0.0596, -0.0189, -0.0204, -0.0126,  0.0284,  0.0252, -0.0440, -0.0221,\n",
            "        -0.0251,  0.0400, -0.0546, -0.0178,  0.0010,  0.0411, -0.0601, -0.0426,\n",
            "        -0.0106, -0.0109, -0.0209, -0.0617, -0.0207, -0.0323,  0.0163, -0.0187,\n",
            "         0.0146, -0.0202,  0.0209,  0.0261,  0.0209,  0.0066, -0.0282, -0.0240,\n",
            "        -0.0547, -0.0033,  0.0569, -0.0346,  0.0085, -0.0071,  0.0338,  0.0150,\n",
            "        -0.0483, -0.0260, -0.0027,  0.0056, -0.0233, -0.0472,  0.0077, -0.0227,\n",
            "        -0.0402,  0.0189,  0.0157,  0.0359, -0.0567, -0.0395,  0.0149, -0.0048,\n",
            "        -0.0517, -0.0135, -0.0004,  0.0437, -0.0241, -0.0571,  0.0427,  0.0611,\n",
            "         0.0499, -0.0058, -0.0124,  0.0561,  0.0481, -0.0046, -0.0489, -0.0026],\n",
            "       device='cuda:0')), ('fc3.weight', tensor([[-0.0710, -0.0657,  0.0189,  ..., -0.0883,  0.0377,  0.0237],\n",
            "        [ 0.0353,  0.0639, -0.0034,  ...,  0.0784, -0.0811,  0.0682],\n",
            "        [-0.0657, -0.0075,  0.0719,  ..., -0.0560, -0.0109, -0.0294],\n",
            "        ...,\n",
            "        [ 0.0456, -0.0810,  0.0575,  ...,  0.0077,  0.0013,  0.0714],\n",
            "        [-0.0223,  0.0104, -0.0597,  ..., -0.0421, -0.0769,  0.0654],\n",
            "        [-0.0026,  0.0817,  0.0800,  ..., -0.0622,  0.0846,  0.0093]],\n",
            "       device='cuda:0')), ('fc3.bias', tensor([ 0.0647,  0.0165, -0.0413,  0.0856, -0.0323, -0.0702, -0.0266,  0.0639,\n",
            "         0.0542, -0.0841], device='cuda:0'))])\n"
          ]
        }
      ],
      "source": [
        "print(state_dict_red2)"
      ]
    },
    {
      "cell_type": "code",
      "execution_count": 12,
      "metadata": {},
      "outputs": [
        {
          "name": "stdout",
          "output_type": "stream",
          "text": [
            "tensor([[ True,  True,  True,  ...,  True,  True,  True],\n",
            "        [False, False, False,  ..., False, False,  True],\n",
            "        [False,  True, False,  ..., False,  True,  True],\n",
            "        ...,\n",
            "        [False,  True, False,  ...,  True,  True,  True],\n",
            "        [ True,  True, False,  ..., False,  True, False],\n",
            "        [ True, False,  True,  ...,  True, False, False]], device='cuda:0')\n",
            "tensor([ True,  True, False,  True,  True,  True,  True,  True,  True, False,\n",
            "         True,  True,  True, False,  True,  True,  True, False, False,  True,\n",
            "        False, False, False, False,  True, False,  True, False,  True, False,\n",
            "         True,  True,  True,  True, False, False,  True, False, False,  True,\n",
            "        False, False, False, False, False, False, False, False, False, False,\n",
            "        False,  True, False, False, False,  True, False,  True, False, False,\n",
            "        False, False,  True, False,  True,  True, False,  True, False, False,\n",
            "         True,  True,  True, False,  True, False,  True,  True, False,  True,\n",
            "        False,  True,  True, False, False, False, False, False,  True, False,\n",
            "         True,  True,  True, False, False,  True,  True, False, False,  True,\n",
            "        False,  True, False, False, False,  True,  True,  True,  True,  True,\n",
            "        False, False,  True,  True, False, False,  True,  True, False,  True,\n",
            "         True,  True, False, False, False, False, False, False,  True, False,\n",
            "        False, False,  True,  True,  True, False,  True,  True,  True, False,\n",
            "         True,  True,  True, False,  True,  True,  True, False, False, False,\n",
            "         True,  True, False, False, False,  True, False, False,  True,  True,\n",
            "         True,  True,  True,  True, False,  True,  True, False, False, False,\n",
            "         True,  True, False,  True,  True,  True, False, False, False, False,\n",
            "         True, False,  True,  True,  True,  True,  True, False,  True,  True,\n",
            "         True,  True,  True, False,  True, False,  True,  True,  True, False,\n",
            "        False, False,  True,  True,  True,  True,  True, False, False, False,\n",
            "         True,  True,  True,  True, False, False, False,  True,  True,  True,\n",
            "        False, False,  True, False, False, False, False, False,  True, False,\n",
            "        False,  True, False, False, False,  True, False,  True,  True,  True,\n",
            "        False, False,  True,  True, False, False, False, False,  True,  True,\n",
            "         True,  True, False, False, False, False], device='cuda:0')\n",
            "tensor([[ True, False,  True,  ...,  True,  True, False],\n",
            "        [False, False, False,  ...,  True,  True,  True],\n",
            "        [ True,  True,  True,  ...,  True, False,  True],\n",
            "        ...,\n",
            "        [ True, False, False,  ..., False, False,  True],\n",
            "        [ True, False, False,  ..., False,  True,  True],\n",
            "        [False,  True,  True,  ...,  True,  True, False]], device='cuda:0')\n",
            "tensor([ True, False, False,  True,  True, False, False, False,  True, False,\n",
            "         True,  True,  True,  True, False, False,  True,  True,  True,  True,\n",
            "        False, False,  True, False, False,  True, False,  True,  True,  True,\n",
            "        False, False, False,  True, False, False, False, False, False, False,\n",
            "        False, False,  True,  True,  True,  True, False,  True, False, False,\n",
            "         True, False, False,  True, False, False,  True,  True,  True,  True,\n",
            "        False, False,  True,  True,  True, False,  True,  True, False, False,\n",
            "         True,  True,  True,  True,  True,  True,  True,  True, False,  True,\n",
            "        False,  True, False, False, False, False,  True,  True,  True,  True,\n",
            "        False,  True, False,  True, False, False,  True,  True,  True, False,\n",
            "         True,  True, False,  True,  True, False, False, False,  True,  True,\n",
            "        False,  True,  True,  True,  True, False,  True,  True, False, False,\n",
            "        False,  True,  True, False, False,  True,  True,  True],\n",
            "       device='cuda:0')\n",
            "tensor([[ True,  True, False,  ...,  True, False, False],\n",
            "        [False, False,  True,  ..., False,  True, False],\n",
            "        [ True,  True, False,  ...,  True,  True,  True],\n",
            "        ...,\n",
            "        [False,  True, False,  ..., False, False, False],\n",
            "        [ True, False,  True,  ...,  True,  True, False],\n",
            "        [ True, False, False,  ...,  True, False, False]], device='cuda:0')\n",
            "tensor([False, False,  True, False,  True,  True,  True, False, False,  True],\n",
            "       device='cuda:0')\n"
          ]
        },
        {
          "data": {
            "text/plain": [
              "<All keys matched successfully>"
            ]
          },
          "execution_count": 12,
          "metadata": {},
          "output_type": "execute_result"
        }
      ],
      "source": [
        "# Crear un nuevo diccionario de estado donde sumamos los pesos\n",
        "state_dict_suma = {}\n",
        "for key in state_dict_red1:\n",
        "    if state_dict_red1[key].size() == state_dict_red2[key].size():  # Asegurar que las dimensiones coincidan\n",
        "        # Asegurar que las desviaciones estándar sean positivas para generar el ruido\n",
        "        std_dev = torch.abs(state_dict_red2[key])\n",
        "        \n",
        "        # Generamos los valores aleatorios con una distribución normal usando torch.normal\n",
        "        noise = torch.normal(0, std_dev)  # Media = 0, Desviación estándar = std_dev\n",
        "        \n",
        "        # Crear una máscara para determinar si debemos sumar o restar\n",
        "        mask_negativa = state_dict_red2[key] < 0  # Máscara de valores negativos\n",
        "        print(mask_negativa)\n",
        "        \n",
        "        # Aplicar la operación de suma o resta dependiendo de la máscara\n",
        "        state_dict_suma[key] = torch.where(mask_negativa, state_dict_red1[key] - noise, state_dict_red1[key] + noise)\n",
        "    else:\n",
        "        # Si los tamaños no coinciden, copiamos directamente\n",
        "        state_dict_suma[key] = state_dict_red1[key]\n",
        "\n",
        "# Crear una nueva red o modificar una existente con los pesos sumados\n",
        "varied_net = Net().to(device)\n",
        "varied_net.load_state_dict(state_dict_suma)\n"
      ]
    },
    {
      "cell_type": "code",
      "execution_count": 13,
      "metadata": {},
      "outputs": [
        {
          "name": "stdout",
          "output_type": "stream",
          "text": [
            "OrderedDict([('fc1.weight', tensor([[ 0.0266,  0.0530,  0.0454,  ..., -0.0381,  0.0181, -0.0044],\n",
            "        [-0.0259,  0.0091, -0.0181,  ..., -0.0351, -0.0011, -0.0231],\n",
            "        [-0.0099, -0.0208, -0.0306,  ..., -0.0040,  0.0320, -0.0076],\n",
            "        ...,\n",
            "        [-0.0295,  0.0128, -0.0085,  ..., -0.0241, -0.0286,  0.0038],\n",
            "        [-0.0078, -0.0085,  0.0293,  ..., -0.0078, -0.0314, -0.0325],\n",
            "        [-0.0372,  0.0023,  0.0272,  ...,  0.0127,  0.0481,  0.0197]],\n",
            "       device='cuda:0')), ('fc1.bias', tensor([ 8.0336e-03,  1.5723e-02,  2.2015e-02, -1.8940e-02, -1.0206e-02,\n",
            "        -2.0172e-02, -2.8258e-02,  1.9947e-02,  2.6587e-02,  2.1092e-02,\n",
            "        -4.5499e-02, -2.0760e-02, -4.5640e-02, -1.2931e-02, -4.9966e-03,\n",
            "        -3.9620e-04,  4.1057e-03, -6.5178e-02, -3.8012e-03,  1.7038e-02,\n",
            "        -1.2878e-02,  5.5952e-02, -1.0810e-02,  4.7487e-02,  7.6296e-03,\n",
            "         3.0221e-02, -3.6920e-02,  1.1840e-02,  4.9490e-03,  6.2418e-03,\n",
            "         3.8920e-02, -8.1679e-03,  2.4282e-03, -6.3142e-03,  1.5241e-02,\n",
            "         2.8382e-02,  2.3361e-02,  5.6995e-02, -1.4696e-02, -4.6338e-02,\n",
            "        -1.1723e-02, -1.8601e-02,  3.7556e-02, -9.1923e-02,  4.2421e-02,\n",
            "        -8.3598e-03,  1.6055e-02,  6.7393e-02, -2.6449e-02,  4.0297e-02,\n",
            "        -1.1899e-02, -9.5417e-03, -1.8054e-02, -9.1354e-03, -2.8198e-03,\n",
            "         6.3596e-03,  3.5198e-02, -4.0302e-02,  1.4971e-02, -5.2521e-02,\n",
            "         8.1224e-03,  2.7157e-03,  3.7005e-03,  2.2502e-02,  4.6983e-03,\n",
            "        -1.4932e-02, -9.8933e-03, -5.5865e-03, -1.1598e-02, -2.8631e-02,\n",
            "         3.3437e-02,  2.7389e-02,  9.6141e-03, -2.3951e-02, -4.7320e-02,\n",
            "        -4.5970e-02, -1.0538e-02, -2.7952e-02, -4.4789e-02,  9.6887e-03,\n",
            "        -5.2917e-03,  8.0717e-03, -4.5584e-02,  1.4215e-02,  6.3929e-03,\n",
            "        -5.5136e-02, -5.6379e-02,  5.3665e-02, -7.7880e-04, -4.6239e-02,\n",
            "        -6.3178e-02, -2.0114e-02, -1.1108e-02, -5.9291e-02, -2.4714e-03,\n",
            "         3.4357e-02, -8.4228e-03,  3.8911e-03,  2.3605e-02, -2.9171e-02,\n",
            "        -7.5353e-04,  2.7357e-02,  5.8497e-03,  4.6378e-02,  1.2002e-02,\n",
            "        -1.0278e-03,  9.7908e-03,  3.3085e-02, -2.9159e-02,  3.3805e-03,\n",
            "         1.0464e-02, -5.8385e-02,  8.9546e-03, -7.3893e-02, -9.2800e-03,\n",
            "        -3.5144e-02, -1.3048e-02,  1.8945e-02, -3.7507e-03,  3.6533e-02,\n",
            "         1.5976e-02, -2.3269e-02,  3.7176e-04, -2.3982e-02, -5.0589e-03,\n",
            "        -2.6657e-03, -2.2222e-02, -4.5868e-03,  4.4744e-02, -7.5805e-02,\n",
            "        -3.2453e-02, -3.5706e-02,  3.3324e-02,  1.8318e-02,  4.6927e-02,\n",
            "        -5.5086e-03,  5.7221e-02,  1.9737e-02,  1.0070e-02,  3.3750e-02,\n",
            "         1.3160e-02, -4.4155e-02,  2.5583e-02, -1.5144e-02,  3.3282e-02,\n",
            "        -2.6561e-02,  2.8082e-02,  1.3394e-03,  3.0946e-02, -5.7895e-03,\n",
            "        -1.2500e-02,  4.5945e-02, -1.2177e-02,  2.2902e-02,  1.1846e-02,\n",
            "         1.2119e-02, -9.8759e-03, -6.6391e-03,  2.5875e-03,  2.5599e-02,\n",
            "         3.0211e-02,  2.0848e-02, -1.6423e-02, -1.1595e-02, -3.1844e-02,\n",
            "         5.2725e-02,  3.0505e-02,  7.6645e-03, -3.7657e-02, -1.3443e-02,\n",
            "         5.1219e-03, -5.1075e-02, -1.2075e-02,  8.7885e-03,  2.8441e-02,\n",
            "         7.0835e-03,  4.8206e-03,  6.2057e-03, -1.1166e-02,  3.2867e-02,\n",
            "        -2.8663e-02, -7.9249e-03, -3.6042e-02,  6.1349e-02, -1.3027e-02,\n",
            "        -1.3939e-02, -6.7596e-02,  1.5642e-02, -2.5941e-03,  3.4683e-02,\n",
            "        -1.4327e-02, -1.8260e-02,  1.1494e-02, -1.3935e-02,  5.3654e-03,\n",
            "         1.1957e-02,  6.5180e-02,  9.5820e-03,  2.0750e-02, -6.5193e-03,\n",
            "         2.4752e-02,  6.6618e-03,  5.2289e-02, -6.1830e-02, -2.5840e-02,\n",
            "         2.9081e-02, -1.4644e-02, -3.3944e-02,  3.9559e-02, -3.3754e-02,\n",
            "         3.5059e-02, -3.9810e-02,  2.8207e-02, -8.2547e-03,  2.1985e-02,\n",
            "        -2.3516e-02,  3.2074e-02, -3.3491e-02, -4.7821e-02,  1.9896e-03,\n",
            "         3.9250e-02,  3.1805e-02, -2.6122e-02,  2.6464e-02, -5.3052e-02,\n",
            "         9.7485e-03, -3.1211e-03,  1.1436e-02, -2.7494e-02, -9.3521e-03,\n",
            "         5.2540e-02, -6.7535e-04, -1.0538e-02, -4.7695e-03, -5.7467e-02,\n",
            "        -9.5816e-05, -2.8410e-03, -4.1328e-02,  5.2122e-02, -6.5034e-02,\n",
            "         1.7511e-03,  3.9686e-02, -4.2749e-03,  9.2923e-03,  7.5301e-03,\n",
            "        -2.5392e-02, -4.2346e-03, -2.1581e-02, -1.7088e-02,  8.7924e-04,\n",
            "         5.4391e-03, -8.0231e-03, -2.7817e-02, -9.5081e-03,  1.4722e-02,\n",
            "        -3.1879e-03], device='cuda:0')), ('fc2.weight', tensor([[-0.1412, -0.0223,  0.0572,  ...,  0.0394,  0.0457,  0.0465],\n",
            "        [-0.0058, -0.0328, -0.0035,  ..., -0.0507, -0.0117,  0.0481],\n",
            "        [ 0.0157,  0.0016,  0.0488,  ..., -0.0553,  0.0331, -0.0234],\n",
            "        ...,\n",
            "        [-0.0143, -0.0660,  0.0518,  ..., -0.0359, -0.0210, -0.0568],\n",
            "        [-0.0229,  0.0108,  0.0206,  ..., -0.0018,  0.0526,  0.0168],\n",
            "        [-0.0780,  0.0366,  0.0178,  ..., -0.0249,  0.0514, -0.0519]],\n",
            "       device='cuda:0')), ('fc2.bias', tensor([ 6.5204e-02,  1.0046e-01, -1.5761e-02, -2.4739e-02, -7.7753e-02,\n",
            "        -7.4608e-02,  6.0518e-03, -4.0687e-02,  2.2363e-02, -8.3707e-02,\n",
            "         5.1013e-02,  5.7427e-02,  8.7970e-03, -3.3215e-02,  5.3583e-02,\n",
            "        -5.5325e-02, -2.2516e-02,  3.6990e-02, -1.2890e-01, -1.5655e-02,\n",
            "        -9.9754e-02, -3.9618e-02, -3.0545e-02,  4.4661e-02, -4.7870e-02,\n",
            "         3.9966e-02,  6.3317e-02,  4.9643e-02, -3.3721e-02,  4.7876e-02,\n",
            "        -1.2984e-01,  7.2347e-03, -2.1084e-02,  4.9951e-03, -3.7592e-02,\n",
            "        -2.6743e-03,  7.0441e-03, -4.3139e-06,  5.5941e-02, -7.6578e-02,\n",
            "         2.2133e-02,  6.6463e-02, -3.4593e-03, -4.8322e-02,  7.4874e-02,\n",
            "        -5.2977e-02,  8.7017e-02,  1.5528e-02,  4.0047e-02,  5.5074e-02,\n",
            "        -2.2927e-02,  2.3218e-02,  2.2283e-02,  3.2163e-02, -2.6654e-02,\n",
            "         3.2321e-02, -1.1609e-01, -2.5323e-03, -2.4669e-02, -2.7819e-02,\n",
            "        -5.8343e-03, -1.5151e-02,  2.5507e-02, -1.0656e-02, -7.9649e-02,\n",
            "         1.3571e-01, -2.0304e-03,  2.6318e-02,  5.6961e-02, -4.1664e-02,\n",
            "        -6.1398e-03, -3.9763e-02,  5.4710e-02,  1.0369e-02, -7.9996e-03,\n",
            "        -1.5466e-02, -1.0238e-01,  7.6605e-02,  5.2715e-02, -1.3329e-02,\n",
            "         5.6600e-02, -6.2319e-02,  3.3181e-03, -5.0855e-02, -1.0159e-02,\n",
            "         1.5393e-02, -4.5410e-02,  8.3089e-03,  1.3787e-03, -1.8543e-02,\n",
            "        -3.6683e-02,  3.4595e-02,  5.4921e-02, -1.7038e-02, -1.6555e-02,\n",
            "        -4.2353e-02, -8.2440e-02, -7.9939e-02, -6.1715e-02,  6.2898e-02,\n",
            "         3.2442e-02,  8.2336e-02,  1.4022e-02,  6.3438e-02, -2.6637e-02,\n",
            "        -3.3955e-02,  2.2721e-02, -1.1104e-01,  5.7445e-02, -6.9919e-02,\n",
            "        -2.8593e-02,  5.3578e-02,  5.4559e-02, -6.1344e-02, -2.4116e-02,\n",
            "         3.6818e-02, -5.6371e-03, -7.6365e-02,  1.2453e-02,  1.8091e-01,\n",
            "         5.7261e-02, -4.0214e-02, -2.0796e-02,  3.7723e-02,  3.1828e-02,\n",
            "         3.2043e-02, -1.4391e-02, -2.5342e-02], device='cuda:0')), ('fc3.weight', tensor([[ 0.0011,  0.1724,  0.0308,  ..., -0.2542,  0.0686,  0.0477],\n",
            "        [ 0.1276, -0.1298, -0.0761,  ...,  0.0482,  0.0032,  0.0278],\n",
            "        [ 0.0215,  0.0464,  0.1362,  ..., -0.0584,  0.0537,  0.0456],\n",
            "        ...,\n",
            "        [-0.0127,  0.1058, -0.0458,  ...,  0.0670, -0.0514,  0.0829],\n",
            "        [ 0.0227, -0.0306,  0.0271,  ...,  0.1382,  0.0951,  0.0504],\n",
            "        [ 0.0496,  0.0402, -0.1932,  ...,  0.0509,  0.0630,  0.0611]],\n",
            "       device='cuda:0')), ('fc3.bias', tensor([ 0.0124,  0.0754, -0.0776,  0.1059, -0.0139,  0.1520,  0.0848,  0.0318,\n",
            "         0.1105,  0.0141], device='cuda:0'))])\n"
          ]
        }
      ],
      "source": [
        "print(varied_net.state_dict())"
      ]
    },
    {
      "cell_type": "markdown",
      "metadata": {
        "id": "E8W9t_3beHs4"
      },
      "source": [
        "Cargamos los datos"
      ]
    },
    {
      "cell_type": "code",
      "execution_count": 5,
      "metadata": {
        "colab": {
          "base_uri": "https://localhost:8080/"
        },
        "id": "JO_Ykr29eHs4",
        "outputId": "16ad4e8d-dace-485a-dcae-f338879a2c3e"
      },
      "outputs": [
        {
          "name": "stdout",
          "output_type": "stream",
          "text": [
            "Downloading http://yann.lecun.com/exdb/mnist/train-images-idx3-ubyte.gz\n",
            "Failed to download (trying next):\n",
            "<urlopen error [SSL: CERTIFICATE_VERIFY_FAILED] certificate verify failed: certificate has expired (_ssl.c:1007)>\n",
            "\n",
            "Downloading https://ossci-datasets.s3.amazonaws.com/mnist/train-images-idx3-ubyte.gz\n",
            "Downloading https://ossci-datasets.s3.amazonaws.com/mnist/train-images-idx3-ubyte.gz to ./data/MNIST/raw/train-images-idx3-ubyte.gz\n"
          ]
        },
        {
          "name": "stderr",
          "output_type": "stream",
          "text": [
            "100%|██████████| 9912422/9912422 [00:00<00:00, 16004834.76it/s]\n"
          ]
        },
        {
          "name": "stdout",
          "output_type": "stream",
          "text": [
            "Extracting ./data/MNIST/raw/train-images-idx3-ubyte.gz to ./data/MNIST/raw\n",
            "\n",
            "Downloading http://yann.lecun.com/exdb/mnist/train-labels-idx1-ubyte.gz\n",
            "Failed to download (trying next):\n",
            "<urlopen error [SSL: CERTIFICATE_VERIFY_FAILED] certificate verify failed: certificate has expired (_ssl.c:1007)>\n",
            "\n",
            "Downloading https://ossci-datasets.s3.amazonaws.com/mnist/train-labels-idx1-ubyte.gz\n",
            "Downloading https://ossci-datasets.s3.amazonaws.com/mnist/train-labels-idx1-ubyte.gz to ./data/MNIST/raw/train-labels-idx1-ubyte.gz\n"
          ]
        },
        {
          "name": "stderr",
          "output_type": "stream",
          "text": [
            "100%|██████████| 28881/28881 [00:00<00:00, 489279.00it/s]\n"
          ]
        },
        {
          "name": "stdout",
          "output_type": "stream",
          "text": [
            "Extracting ./data/MNIST/raw/train-labels-idx1-ubyte.gz to ./data/MNIST/raw\n",
            "\n",
            "Downloading http://yann.lecun.com/exdb/mnist/t10k-images-idx3-ubyte.gz\n",
            "Failed to download (trying next):\n",
            "<urlopen error [SSL: CERTIFICATE_VERIFY_FAILED] certificate verify failed: certificate has expired (_ssl.c:1007)>\n",
            "\n",
            "Downloading https://ossci-datasets.s3.amazonaws.com/mnist/t10k-images-idx3-ubyte.gz\n",
            "Downloading https://ossci-datasets.s3.amazonaws.com/mnist/t10k-images-idx3-ubyte.gz to ./data/MNIST/raw/t10k-images-idx3-ubyte.gz\n"
          ]
        },
        {
          "name": "stderr",
          "output_type": "stream",
          "text": [
            "100%|██████████| 1648877/1648877 [00:00<00:00, 3793480.99it/s]\n"
          ]
        },
        {
          "name": "stdout",
          "output_type": "stream",
          "text": [
            "Extracting ./data/MNIST/raw/t10k-images-idx3-ubyte.gz to ./data/MNIST/raw\n",
            "\n",
            "Downloading http://yann.lecun.com/exdb/mnist/t10k-labels-idx1-ubyte.gz\n",
            "Failed to download (trying next):\n",
            "<urlopen error [SSL: CERTIFICATE_VERIFY_FAILED] certificate verify failed: certificate has expired (_ssl.c:1007)>\n",
            "\n",
            "Downloading https://ossci-datasets.s3.amazonaws.com/mnist/t10k-labels-idx1-ubyte.gz\n",
            "Downloading https://ossci-datasets.s3.amazonaws.com/mnist/t10k-labels-idx1-ubyte.gz to ./data/MNIST/raw/t10k-labels-idx1-ubyte.gz\n"
          ]
        },
        {
          "name": "stderr",
          "output_type": "stream",
          "text": [
            "100%|██████████| 4542/4542 [00:00<00:00, 3930375.24it/s]"
          ]
        },
        {
          "name": "stdout",
          "output_type": "stream",
          "text": [
            "Extracting ./data/MNIST/raw/t10k-labels-idx1-ubyte.gz to ./data/MNIST/raw\n",
            "\n"
          ]
        },
        {
          "name": "stderr",
          "output_type": "stream",
          "text": [
            "\n"
          ]
        }
      ],
      "source": [
        "# Definimos el transform para los datos de MNIST\n",
        "transform = transforms.Compose([\n",
        "    transforms.ToTensor(),\n",
        "    transforms.Normalize((0.1307,), (0.3081,))\n",
        "])\n",
        "\n",
        "# Cargamos el dataset de MNIST\n",
        "train_dataset = datasets.MNIST('./data', train=True, download=True, transform=transform)\n",
        "test_dataset = datasets.MNIST('./data', train=False, download=True, transform=transform)\n",
        "\n",
        "# Definimos los DataLoaders para los conjuntos de entrenamiento y prueba\n",
        "train_loader = DataLoader(train_dataset, batch_size=64, shuffle=True)\n",
        "test_loader = DataLoader(test_dataset, batch_size=1000, shuffle=False)"
      ]
    },
    {
      "cell_type": "code",
      "execution_count": 6,
      "metadata": {
        "id": "cWAORhpoeHs4"
      },
      "outputs": [],
      "source": [
        "# Definimos la función de pérdida para calcular el error\n",
        "criterion = nn.CrossEntropyLoss()"
      ]
    },
    {
      "cell_type": "code",
      "execution_count": 9,
      "metadata": {
        "colab": {
          "base_uri": "https://localhost:8080/",
          "height": 1000
        },
        "id": "HTF5fm-peHs4",
        "outputId": "cee40ff8-e105-42b7-a23d-9b5948930430"
      },
      "outputs": [
        {
          "name": "stdout",
          "output_type": "stream",
          "text": [
            "Epoch 1\n",
            "Train loss: 2.3101668157048825\n",
            "Test accuracy: 0.0896\n",
            "Epoch 2\n",
            "Train loss: 2.2946895693919296\n",
            "Test accuracy: 0.1141\n",
            "[0.0896, 0.1141]\n",
            "Peoras\n",
            " -mejoras que peoras\n",
            "Epoch 3\n",
            "Train loss: 2.29320497426397\n",
            "Test accuracy: 0.129\n",
            "[0.0896, 0.1141, 0.129]\n",
            "Peoras\n",
            " -mejoras que peoras\n",
            "Epoch 4\n",
            "Train loss: 2.2939458206010017\n",
            "Test accuracy: 0.1106\n",
            "[0.0896, 0.1141, 0.129, 0.1106]\n",
            "Peoras\n",
            " -mejoras que peoras\n",
            "Epoch 5\n",
            "Train loss: 2.296246580223539\n",
            "Test accuracy: 0.1015\n",
            "[0.0896, 0.1141, 0.129, 0.1106, 0.1015]\n",
            "Mejoras\n",
            "+mejoras que peoras\n",
            "Epoch 6\n",
            "Train loss: 2.293943423452154\n",
            "Test accuracy: 0.1106\n",
            "[0.0896, 0.1141, 0.129, 0.1106, 0.1015, 0.1106]\n",
            "Peoras\n",
            " -mejoras que peoras\n",
            "Epoch 7\n",
            "Train loss: 2.296235585263543\n",
            "Test accuracy: 0.1015\n",
            "[0.0896, 0.1141, 0.129, 0.1106, 0.1015, 0.1106, 0.1015]\n",
            "Mejoras\n",
            "+mejoras que peoras\n",
            "Epoch 8\n"
          ]
        },
        {
          "ename": "KeyboardInterrupt",
          "evalue": "",
          "output_type": "error",
          "traceback": [
            "\u001b[0;31m---------------------------------------------------------------------------\u001b[0m",
            "\u001b[0;31mKeyboardInterrupt\u001b[0m                         Traceback (most recent call last)",
            "\u001b[0;32m<ipython-input-9-495554897078>\u001b[0m in \u001b[0;36m<cell line: 7>\u001b[0;34m()\u001b[0m\n\u001b[1;32m     62\u001b[0m         \u001b[0mrunning_loss\u001b[0m \u001b[0;34m=\u001b[0m \u001b[0;36m0.0\u001b[0m\u001b[0;34m\u001b[0m\u001b[0;34m\u001b[0m\u001b[0m\n\u001b[1;32m     63\u001b[0m         \u001b[0;31m# Pasamos todas las imagenes de train por la red net\u001b[0m\u001b[0;34m\u001b[0m\u001b[0;34m\u001b[0m\u001b[0m\n\u001b[0;32m---> 64\u001b[0;31m         \u001b[0;32mfor\u001b[0m \u001b[0mimages\u001b[0m\u001b[0;34m,\u001b[0m \u001b[0mlabels\u001b[0m \u001b[0;32min\u001b[0m \u001b[0mtrain_loader\u001b[0m\u001b[0;34m:\u001b[0m\u001b[0;34m\u001b[0m\u001b[0;34m\u001b[0m\u001b[0m\n\u001b[0m\u001b[1;32m     65\u001b[0m             \u001b[0mimages\u001b[0m\u001b[0;34m,\u001b[0m \u001b[0mlabels\u001b[0m \u001b[0;34m=\u001b[0m \u001b[0mimages\u001b[0m\u001b[0;34m.\u001b[0m\u001b[0mto\u001b[0m\u001b[0;34m(\u001b[0m\u001b[0mdevice\u001b[0m\u001b[0;34m)\u001b[0m\u001b[0;34m,\u001b[0m \u001b[0mlabels\u001b[0m\u001b[0;34m.\u001b[0m\u001b[0mto\u001b[0m\u001b[0;34m(\u001b[0m\u001b[0mdevice\u001b[0m\u001b[0;34m)\u001b[0m\u001b[0;34m\u001b[0m\u001b[0;34m\u001b[0m\u001b[0m\n\u001b[1;32m     66\u001b[0m \u001b[0;34m\u001b[0m\u001b[0m\n",
            "\u001b[0;32m/usr/local/lib/python3.10/dist-packages/torch/utils/data/dataloader.py\u001b[0m in \u001b[0;36m__next__\u001b[0;34m(self)\u001b[0m\n\u001b[1;32m    628\u001b[0m                 \u001b[0;31m# TODO(https://github.com/pytorch/pytorch/issues/76750)\u001b[0m\u001b[0;34m\u001b[0m\u001b[0;34m\u001b[0m\u001b[0m\n\u001b[1;32m    629\u001b[0m                 \u001b[0mself\u001b[0m\u001b[0;34m.\u001b[0m\u001b[0m_reset\u001b[0m\u001b[0;34m(\u001b[0m\u001b[0;34m)\u001b[0m  \u001b[0;31m# type: ignore[call-arg]\u001b[0m\u001b[0;34m\u001b[0m\u001b[0;34m\u001b[0m\u001b[0m\n\u001b[0;32m--> 630\u001b[0;31m             \u001b[0mdata\u001b[0m \u001b[0;34m=\u001b[0m \u001b[0mself\u001b[0m\u001b[0;34m.\u001b[0m\u001b[0m_next_data\u001b[0m\u001b[0;34m(\u001b[0m\u001b[0;34m)\u001b[0m\u001b[0;34m\u001b[0m\u001b[0;34m\u001b[0m\u001b[0m\n\u001b[0m\u001b[1;32m    631\u001b[0m             \u001b[0mself\u001b[0m\u001b[0;34m.\u001b[0m\u001b[0m_num_yielded\u001b[0m \u001b[0;34m+=\u001b[0m \u001b[0;36m1\u001b[0m\u001b[0;34m\u001b[0m\u001b[0;34m\u001b[0m\u001b[0m\n\u001b[1;32m    632\u001b[0m             \u001b[0;32mif\u001b[0m \u001b[0mself\u001b[0m\u001b[0;34m.\u001b[0m\u001b[0m_dataset_kind\u001b[0m \u001b[0;34m==\u001b[0m \u001b[0m_DatasetKind\u001b[0m\u001b[0;34m.\u001b[0m\u001b[0mIterable\u001b[0m \u001b[0;32mand\u001b[0m\u001b[0;31m \u001b[0m\u001b[0;31m\\\u001b[0m\u001b[0;34m\u001b[0m\u001b[0;34m\u001b[0m\u001b[0m\n",
            "\u001b[0;32m/usr/local/lib/python3.10/dist-packages/torch/utils/data/dataloader.py\u001b[0m in \u001b[0;36m_next_data\u001b[0;34m(self)\u001b[0m\n\u001b[1;32m    671\u001b[0m     \u001b[0;32mdef\u001b[0m \u001b[0m_next_data\u001b[0m\u001b[0;34m(\u001b[0m\u001b[0mself\u001b[0m\u001b[0;34m)\u001b[0m\u001b[0;34m:\u001b[0m\u001b[0;34m\u001b[0m\u001b[0;34m\u001b[0m\u001b[0m\n\u001b[1;32m    672\u001b[0m         \u001b[0mindex\u001b[0m \u001b[0;34m=\u001b[0m \u001b[0mself\u001b[0m\u001b[0;34m.\u001b[0m\u001b[0m_next_index\u001b[0m\u001b[0;34m(\u001b[0m\u001b[0;34m)\u001b[0m  \u001b[0;31m# may raise StopIteration\u001b[0m\u001b[0;34m\u001b[0m\u001b[0;34m\u001b[0m\u001b[0m\n\u001b[0;32m--> 673\u001b[0;31m         \u001b[0mdata\u001b[0m \u001b[0;34m=\u001b[0m \u001b[0mself\u001b[0m\u001b[0;34m.\u001b[0m\u001b[0m_dataset_fetcher\u001b[0m\u001b[0;34m.\u001b[0m\u001b[0mfetch\u001b[0m\u001b[0;34m(\u001b[0m\u001b[0mindex\u001b[0m\u001b[0;34m)\u001b[0m  \u001b[0;31m# may raise StopIteration\u001b[0m\u001b[0;34m\u001b[0m\u001b[0;34m\u001b[0m\u001b[0m\n\u001b[0m\u001b[1;32m    674\u001b[0m         \u001b[0;32mif\u001b[0m \u001b[0mself\u001b[0m\u001b[0;34m.\u001b[0m\u001b[0m_pin_memory\u001b[0m\u001b[0;34m:\u001b[0m\u001b[0;34m\u001b[0m\u001b[0;34m\u001b[0m\u001b[0m\n\u001b[1;32m    675\u001b[0m             \u001b[0mdata\u001b[0m \u001b[0;34m=\u001b[0m \u001b[0m_utils\u001b[0m\u001b[0;34m.\u001b[0m\u001b[0mpin_memory\u001b[0m\u001b[0;34m.\u001b[0m\u001b[0mpin_memory\u001b[0m\u001b[0;34m(\u001b[0m\u001b[0mdata\u001b[0m\u001b[0;34m,\u001b[0m \u001b[0mself\u001b[0m\u001b[0;34m.\u001b[0m\u001b[0m_pin_memory_device\u001b[0m\u001b[0;34m)\u001b[0m\u001b[0;34m\u001b[0m\u001b[0;34m\u001b[0m\u001b[0m\n",
            "\u001b[0;32m/usr/local/lib/python3.10/dist-packages/torch/utils/data/_utils/fetch.py\u001b[0m in \u001b[0;36mfetch\u001b[0;34m(self, possibly_batched_index)\u001b[0m\n\u001b[1;32m     50\u001b[0m                 \u001b[0mdata\u001b[0m \u001b[0;34m=\u001b[0m \u001b[0mself\u001b[0m\u001b[0;34m.\u001b[0m\u001b[0mdataset\u001b[0m\u001b[0;34m.\u001b[0m\u001b[0m__getitems__\u001b[0m\u001b[0;34m(\u001b[0m\u001b[0mpossibly_batched_index\u001b[0m\u001b[0;34m)\u001b[0m\u001b[0;34m\u001b[0m\u001b[0;34m\u001b[0m\u001b[0m\n\u001b[1;32m     51\u001b[0m             \u001b[0;32melse\u001b[0m\u001b[0;34m:\u001b[0m\u001b[0;34m\u001b[0m\u001b[0;34m\u001b[0m\u001b[0m\n\u001b[0;32m---> 52\u001b[0;31m                 \u001b[0mdata\u001b[0m \u001b[0;34m=\u001b[0m \u001b[0;34m[\u001b[0m\u001b[0mself\u001b[0m\u001b[0;34m.\u001b[0m\u001b[0mdataset\u001b[0m\u001b[0;34m[\u001b[0m\u001b[0midx\u001b[0m\u001b[0;34m]\u001b[0m \u001b[0;32mfor\u001b[0m \u001b[0midx\u001b[0m \u001b[0;32min\u001b[0m \u001b[0mpossibly_batched_index\u001b[0m\u001b[0;34m]\u001b[0m\u001b[0;34m\u001b[0m\u001b[0;34m\u001b[0m\u001b[0m\n\u001b[0m\u001b[1;32m     53\u001b[0m         \u001b[0;32melse\u001b[0m\u001b[0;34m:\u001b[0m\u001b[0;34m\u001b[0m\u001b[0;34m\u001b[0m\u001b[0m\n\u001b[1;32m     54\u001b[0m             \u001b[0mdata\u001b[0m \u001b[0;34m=\u001b[0m \u001b[0mself\u001b[0m\u001b[0;34m.\u001b[0m\u001b[0mdataset\u001b[0m\u001b[0;34m[\u001b[0m\u001b[0mpossibly_batched_index\u001b[0m\u001b[0;34m]\u001b[0m\u001b[0;34m\u001b[0m\u001b[0;34m\u001b[0m\u001b[0m\n",
            "\u001b[0;32m/usr/local/lib/python3.10/dist-packages/torch/utils/data/_utils/fetch.py\u001b[0m in \u001b[0;36m<listcomp>\u001b[0;34m(.0)\u001b[0m\n\u001b[1;32m     50\u001b[0m                 \u001b[0mdata\u001b[0m \u001b[0;34m=\u001b[0m \u001b[0mself\u001b[0m\u001b[0;34m.\u001b[0m\u001b[0mdataset\u001b[0m\u001b[0;34m.\u001b[0m\u001b[0m__getitems__\u001b[0m\u001b[0;34m(\u001b[0m\u001b[0mpossibly_batched_index\u001b[0m\u001b[0;34m)\u001b[0m\u001b[0;34m\u001b[0m\u001b[0;34m\u001b[0m\u001b[0m\n\u001b[1;32m     51\u001b[0m             \u001b[0;32melse\u001b[0m\u001b[0;34m:\u001b[0m\u001b[0;34m\u001b[0m\u001b[0;34m\u001b[0m\u001b[0m\n\u001b[0;32m---> 52\u001b[0;31m                 \u001b[0mdata\u001b[0m \u001b[0;34m=\u001b[0m \u001b[0;34m[\u001b[0m\u001b[0mself\u001b[0m\u001b[0;34m.\u001b[0m\u001b[0mdataset\u001b[0m\u001b[0;34m[\u001b[0m\u001b[0midx\u001b[0m\u001b[0;34m]\u001b[0m \u001b[0;32mfor\u001b[0m \u001b[0midx\u001b[0m \u001b[0;32min\u001b[0m \u001b[0mpossibly_batched_index\u001b[0m\u001b[0;34m]\u001b[0m\u001b[0;34m\u001b[0m\u001b[0;34m\u001b[0m\u001b[0m\n\u001b[0m\u001b[1;32m     53\u001b[0m         \u001b[0;32melse\u001b[0m\u001b[0;34m:\u001b[0m\u001b[0;34m\u001b[0m\u001b[0;34m\u001b[0m\u001b[0m\n\u001b[1;32m     54\u001b[0m             \u001b[0mdata\u001b[0m \u001b[0;34m=\u001b[0m \u001b[0mself\u001b[0m\u001b[0;34m.\u001b[0m\u001b[0mdataset\u001b[0m\u001b[0;34m[\u001b[0m\u001b[0mpossibly_batched_index\u001b[0m\u001b[0;34m]\u001b[0m\u001b[0;34m\u001b[0m\u001b[0;34m\u001b[0m\u001b[0m\n",
            "\u001b[0;32m/usr/local/lib/python3.10/dist-packages/torchvision/datasets/mnist.py\u001b[0m in \u001b[0;36m__getitem__\u001b[0;34m(self, index)\u001b[0m\n\u001b[1;32m    129\u001b[0m         \u001b[0;32mreturn\u001b[0m \u001b[0mdata\u001b[0m\u001b[0;34m,\u001b[0m \u001b[0mtargets\u001b[0m\u001b[0;34m\u001b[0m\u001b[0;34m\u001b[0m\u001b[0m\n\u001b[1;32m    130\u001b[0m \u001b[0;34m\u001b[0m\u001b[0m\n\u001b[0;32m--> 131\u001b[0;31m     \u001b[0;32mdef\u001b[0m \u001b[0m__getitem__\u001b[0m\u001b[0;34m(\u001b[0m\u001b[0mself\u001b[0m\u001b[0;34m,\u001b[0m \u001b[0mindex\u001b[0m\u001b[0;34m:\u001b[0m \u001b[0mint\u001b[0m\u001b[0;34m)\u001b[0m \u001b[0;34m->\u001b[0m \u001b[0mTuple\u001b[0m\u001b[0;34m[\u001b[0m\u001b[0mAny\u001b[0m\u001b[0;34m,\u001b[0m \u001b[0mAny\u001b[0m\u001b[0;34m]\u001b[0m\u001b[0;34m:\u001b[0m\u001b[0;34m\u001b[0m\u001b[0;34m\u001b[0m\u001b[0m\n\u001b[0m\u001b[1;32m    132\u001b[0m         \"\"\"\n\u001b[1;32m    133\u001b[0m         \u001b[0mArgs\u001b[0m\u001b[0;34m:\u001b[0m\u001b[0;34m\u001b[0m\u001b[0;34m\u001b[0m\u001b[0m\n",
            "\u001b[0;31mKeyboardInterrupt\u001b[0m: "
          ]
        }
      ],
      "source": [
        "# train loop\n",
        "train_loss = []\n",
        "test_accuracies = []\n",
        "epoch = 1\n",
        "accuracy_threshold = 0.6\n",
        "\n",
        "while True:\n",
        "    print(f\"Epoch {epoch}\")\n",
        "    if epoch <= 9:\n",
        "        pruned_net = prune_weights(net)\n",
        "\n",
        "        running_loss = 0.0\n",
        "        # Pasamos todas las imagenes de train por la red net\n",
        "        for images, labels in train_loader:\n",
        "            images, labels = images.to(device), labels.to(device)\n",
        "\n",
        "            outputs_net = pruned_net(images)\n",
        "            loss = criterion(outputs_net, labels)\n",
        "\n",
        "            running_loss += loss.item()\n",
        "\n",
        "        train_loss.append(running_loss / len(train_loader))\n",
        "        print(f\"Train loss: {running_loss / len(train_loader)}\")\n",
        "\n",
        "        # Evaluamos el modelo en el conjunto de test\n",
        "        correct = 0\n",
        "        total = 0\n",
        "        with torch.no_grad():\n",
        "            for images, labels in test_loader:\n",
        "                images, labels = images.to(device), labels.to(device)\n",
        "\n",
        "                outputs_net = pruned_net(images)\n",
        "                _, predicted = torch.max(outputs_net.data, 1)\n",
        "                total += labels.size(0)\n",
        "                correct += (predicted == labels).sum().item()\n",
        "\n",
        "        test_accuracies.append(correct / total)\n",
        "        print(f\"Test accuracy: {correct / total}\")\n",
        "\n",
        "        if correct / total > accuracy_threshold:\n",
        "            break\n",
        "\n",
        "    else:\n",
        "        # Sumamos los pesos de las redes en una red nueva\n",
        "        # Extraer los diccionarios de estado (pesos y biases)\n",
        "        state_dict_red1 = net.state_dict()\n",
        "        state_dict_red2 = varianzas_net.state_dict()\n",
        "\n",
        "        # Crear un nuevo diccionario de estado donde sumamos los pesos\n",
        "        state_dict_suma = {}\n",
        "        for key in state_dict_red1:\n",
        "            state_dict_suma[key] = state_dict_red1[key] + state_dict_red2[key]\n",
        "\n",
        "        # Crear una nueva red o modificar una existente con los pesos sumados\n",
        "        varied_net = Net().to(device)\n",
        "        varied_net.load_state_dict(state_dict_suma)\n",
        "\n",
        "        #print(varied_net.state_dict())\n",
        "\n",
        "        pruned_net = prune_weights(varied_net)\n",
        "\n",
        "        running_loss = 0.0\n",
        "        # Pasamos todas las imagenes de train por la red net\n",
        "        for images, labels in train_loader:\n",
        "            images, labels = images.to(device), labels.to(device)\n",
        "\n",
        "            outputs_net = pruned_net(images)\n",
        "            loss = criterion(outputs_net, labels)\n",
        "\n",
        "            running_loss += loss.item()\n",
        "\n",
        "        train_loss.append(running_loss / len(train_loader))\n",
        "        print(f\"Train loss: {running_loss / len(train_loader)}\")\n",
        "\n",
        "        # Evaluamos el modelo en el conjunto de test\n",
        "        correct = 0\n",
        "        total = 0\n",
        "        with torch.no_grad():\n",
        "            for images, labels in test_loader:\n",
        "                images, labels = images.to(device), labels.to(device)\n",
        "\n",
        "                outputs_net = pruned_net(images)\n",
        "                _, predicted = torch.max(outputs_net.data, 1)\n",
        "                total += labels.size(0)\n",
        "                correct += (predicted == labels).sum().item()\n",
        "\n",
        "        test_accuracies.append(correct / total)\n",
        "        print(f\"Test accuracy: {correct / total}\")\n",
        "\n",
        "        if correct / total > accuracy_threshold:\n",
        "            break\n",
        "\n",
        "        print(test_accuracies)\n",
        "\n",
        "        # actualizmos el vector de varianzas\n",
        "        if improvements(test_accuracies) == 0:## +mejoras que peoras\n",
        "            print(\"+mejoras que peoras\")\n",
        "            with torch.no_grad():\n",
        "                for param in varianzas_net.parameters():\n",
        "                    param *= (1/0.82)\n",
        "\n",
        "        else: ## -mejoras que peoras\n",
        "            print(\" -mejoras que peoras\")\n",
        "            with torch.no_grad():\n",
        "                for param in varianzas_net.parameters():\n",
        "                    param *= 0.82\n",
        "\n",
        "\n",
        "\n"
      ]
    },
    {
      "cell_type": "code",
      "execution_count": null,
      "metadata": {
        "id": "iF5e9FeFeHs4"
      },
      "outputs": [],
      "source": [
        "print(test_accuracies)"
      ]
    }
  ],
  "metadata": {
    "accelerator": "GPU",
    "colab": {
      "gpuType": "T4",
      "provenance": []
    },
    "kernelspec": {
      "display_name": "Python 3",
      "name": "python3"
    },
    "language_info": {
      "codemirror_mode": {
        "name": "ipython",
        "version": 3
      },
      "file_extension": ".py",
      "mimetype": "text/x-python",
      "name": "python",
      "nbconvert_exporter": "python",
      "pygments_lexer": "ipython3",
      "version": "3.11.9"
    }
  },
  "nbformat": 4,
  "nbformat_minor": 0
}
