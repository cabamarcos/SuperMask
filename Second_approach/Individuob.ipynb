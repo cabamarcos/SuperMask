{
 "cells": [
  {
   "cell_type": "code",
   "execution_count": 1,
   "metadata": {},
   "outputs": [],
   "source": [
    "import torch\n",
    "import torch.nn as nn\n",
    "import torch.optim as optim\n",
    "import torch.nn.functional as F\n",
    "from torchvision import datasets, transforms\n",
    "from torch.utils.data import DataLoader\n",
    "import torch.nn.init as init\n",
    "\n",
    "import numpy as np\n",
    "import matplotlib.pyplot as plt\n",
    "import copy\n",
    "from ast import Param\n",
    "import json\n",
    "import math\n",
    "\n",
    "from utils.prune import apply_mask\n",
    "from utils.count_improvement import improvements\n",
    "from utils.normalize import normalize_weights"
   ]
  },
  {
   "cell_type": "code",
   "execution_count": 2,
   "metadata": {},
   "outputs": [
    {
     "name": "stdout",
     "output_type": "stream",
     "text": [
      "Using device: cuda\n"
     ]
    }
   ],
   "source": [
    "# Verificar si la GPU está disponible y establecer el dispositivo\n",
    "device = torch.device(\"cuda\" if torch.cuda.is_available() else \"cpu\")\n",
    "print(f\"Using device: {device}\")"
   ]
  },
  {
   "cell_type": "code",
   "execution_count": 3,
   "metadata": {},
   "outputs": [],
   "source": [
    "class Net(nn.Module):\n",
    "    def __init__(self):\n",
    "        super(Net, self).__init__()\n",
    "        self.fc1 = nn.Linear(784, 256)\n",
    "        self.fc2 = nn.Linear(256, 128)\n",
    "        self.fc3 = nn.Linear(128, 10)\n",
    "\n",
    "    def forward(self, x):\n",
    "        x = x.view(-1, 784)\n",
    "        x = F.relu(self.fc1(x))\n",
    "        x = F.relu(self.fc2(x))\n",
    "        x = self.fc3(x)\n",
    "        return F.log_softmax(x, dim=1)"
   ]
  },
  {
   "cell_type": "code",
   "execution_count": 4,
   "metadata": {},
   "outputs": [],
   "source": [
    "net = Net().to(device)\n",
    "varianzas_net = Net().to(device)\n",
    "individuo = Net().to(device)"
   ]
  },
  {
   "cell_type": "code",
   "execution_count": 5,
   "metadata": {},
   "outputs": [],
   "source": [
    "# guardar individuo params in txt\n",
    "def save_params(individuo, filename = \"individuo.txt\"):\n",
    "    with open(filename, \"w\") as f:\n",
    "        #I want to see all params\n",
    "        for name, param in individuo.named_parameters():\n",
    "            f.write(f\"{name} {param}\\n\")\n",
    "            "
   ]
  },
  {
   "cell_type": "code",
   "execution_count": 6,
   "metadata": {},
   "outputs": [],
   "source": [
    "def make_to_binary(individuo):\n",
    "    total_elements = 0\n",
    "    total_ones = 0\n",
    "\n",
    "    for name, param in individuo.named_parameters():\n",
    "        if \"weight\" in name or \"bias\" in name:\n",
    "            # Calcula el percentil 30 directamente sobre los valores de los parámetros\n",
    "            threshold = param.quantile(0.7)\n",
    "\n",
    "            # Binariza: 1 para valores mayores al percentil 30, 0 para los demás\n",
    "            binary_param = torch.where(param > threshold, \n",
    "                                       torch.tensor(1, dtype=torch.float).to(param.device), \n",
    "                                       torch.tensor(0, dtype=torch.float).to(param.device))\n",
    "            \n",
    "            # Actualiza los valores binarizados en los parámetros\n",
    "            param.data = binary_param\n",
    "            \n",
    "            # Actualiza contadores\n",
    "            total_elements += binary_param.numel()\n",
    "            total_ones += (binary_param == 1).sum().item()\n",
    "\n",
    "    # Calcula los porcentajes\n",
    "    percentage_ones = (total_ones / total_elements) * 100\n",
    "    percentage_zeros = 100 - percentage_ones\n",
    "\n",
    "    # Muestra el resultado\n",
    "    print(f\"Porcentaje de 1s: {percentage_ones:.2f}%\")\n",
    "    print(f\"Porcentaje de 0s: {percentage_zeros:.2f}%\")\n",
    "    \n",
    "    return individuo\n"
   ]
  },
  {
   "cell_type": "code",
   "execution_count": 7,
   "metadata": {},
   "outputs": [],
   "source": [
    "def mutate_weights(individuo, mutation_rate=0.05):\n",
    "    for name, param in individuo.named_parameters():\n",
    "        if \"weight\" in name or \"bias\" in name:\n",
    "            # Copia los parámetros binarios\n",
    "            binary_param = param.data.clone()\n",
    "\n",
    "            # Encuentra índices de 1s y 0s\n",
    "            ones_indices = (binary_param == 1).nonzero(as_tuple=True)[0]\n",
    "            zeros_indices = (binary_param == 0).nonzero(as_tuple=True)[0]\n",
    "\n",
    "            # Determina cuántos elementos mutar\n",
    "            num_ones_to_flip = int(len(ones_indices) * mutation_rate)\n",
    "            num_zeros_to_flip = int(len(zeros_indices) * mutation_rate)\n",
    "\n",
    "            # Selecciona índices aleatorios para mutar\n",
    "            if num_ones_to_flip > 0:\n",
    "                selected_ones = ones_indices[torch.randperm(len(ones_indices))[:num_ones_to_flip]]\n",
    "                binary_param[selected_ones] = 0\n",
    "\n",
    "            if num_zeros_to_flip > 0:\n",
    "                selected_zeros = zeros_indices[torch.randperm(len(zeros_indices))[:num_zeros_to_flip]]\n",
    "                binary_param[selected_zeros] = 1\n",
    "\n",
    "            # Actualiza los valores binarizados\n",
    "            param.data = binary_param\n",
    "\n",
    "    # Calcula el porcentaje final de 1s y 0s\n",
    "    total_elements = 0\n",
    "    total_ones = 0\n",
    "\n",
    "    for name, param in individuo.named_parameters():\n",
    "        if \"weight\" in name or \"bias\" in name:\n",
    "            binary_param = param.data\n",
    "            total_elements += binary_param.numel()\n",
    "            total_ones += (binary_param == 1).sum().item()\n",
    "\n",
    "    percentage_ones = (total_ones / total_elements) * 100\n",
    "    percentage_zeros = 100 - percentage_ones\n",
    "\n",
    "    print(f\"Porcentaje de 1s después de mutación: {percentage_ones:.2f}%\")\n",
    "    print(f\"Porcentaje de 0s después de mutación: {percentage_zeros:.2f}%\")\n",
    "\n",
    "    return individuo\n",
    "\n",
    "\n",
    "\n",
    "def compare_models(model1, model2):\n",
    "    identical = True\n",
    "    for (name1, param1), (name2, param2) in zip(model1.named_parameters(), model2.named_parameters()):\n",
    "        print(f\"Comparando {name1} y {name2}\")\n",
    "        print(f\"¿Los tensores son iguales? {torch.equal(param1.data, param2.data)}\")\n",
    "        if not torch.equal(param1.data, param2.data):\n",
    "            identical = False\n",
    "            break\n",
    "\n",
    "    if identical:\n",
    "        print(\"Las redes son idénticas.\")\n",
    "    else:\n",
    "        print(\"Las redes son diferentes.\")"
   ]
  },
  {
   "cell_type": "code",
   "execution_count": 8,
   "metadata": {},
   "outputs": [
    {
     "name": "stdout",
     "output_type": "stream",
     "text": [
      "Porcentaje de 1s: 30.00%\n",
      "Porcentaje de 0s: 70.00%\n",
      "Porcentaje de 1s después de mutación: 99.89%\n",
      "Porcentaje de 0s después de mutación: 0.11%\n",
      "Comparando fc1.weight y fc1.weight\n",
      "¿Los tensores son iguales? True\n",
      "Comparando fc1.bias y fc1.bias\n",
      "¿Los tensores son iguales? True\n",
      "Comparando fc2.weight y fc2.weight\n",
      "¿Los tensores son iguales? True\n",
      "Comparando fc2.bias y fc2.bias\n",
      "¿Los tensores son iguales? True\n",
      "Comparando fc3.weight y fc3.weight\n",
      "¿Los tensores son iguales? True\n",
      "Comparando fc3.bias y fc3.bias\n",
      "¿Los tensores son iguales? True\n",
      "Las redes son idénticas.\n"
     ]
    }
   ],
   "source": [
    "save_params(individuo)\n",
    "individuo_binario = make_to_binary(individuo)\n",
    "save_params(individuo, \"individuo_binario.txt\")\n",
    "\n",
    "model_perturbed = mutate_weights(individuo_binario)\n",
    "\n",
    "save_params(model_perturbed, \"model_perturbed.txt\")\n",
    "# Comprobar que las redes no son iguales\n",
    "compare_models(individuo_binario, model_perturbed)"
   ]
  }
 ],
 "metadata": {
  "kernelspec": {
   "display_name": "Python 3",
   "language": "python",
   "name": "python3"
  },
  "language_info": {
   "codemirror_mode": {
    "name": "ipython",
    "version": 3
   },
   "file_extension": ".py",
   "mimetype": "text/x-python",
   "name": "python",
   "nbconvert_exporter": "python",
   "pygments_lexer": "ipython3",
   "version": "3.11.9"
  }
 },
 "nbformat": 4,
 "nbformat_minor": 2
}
