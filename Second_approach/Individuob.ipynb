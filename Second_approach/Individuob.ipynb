{
 "cells": [
  {
   "cell_type": "code",
   "execution_count": 100,
   "metadata": {},
   "outputs": [],
   "source": [
    "import torch\n",
    "import torch.nn as nn\n",
    "import torch.optim as optim\n",
    "import torch.nn.functional as F\n",
    "from torchvision import datasets, transforms\n",
    "from torch.utils.data import DataLoader\n",
    "import torch.nn.init as init\n",
    "\n",
    "import numpy as np\n",
    "import matplotlib.pyplot as plt\n",
    "import copy\n",
    "import random\n",
    "from ast import Param\n",
    "import json\n",
    "import math\n",
    "\n",
    "from utils.prune import apply_mask\n",
    "from utils.count_improvement import improvements\n",
    "from utils.normalize import normalize_weights"
   ]
  },
  {
   "cell_type": "code",
   "execution_count": 101,
   "metadata": {},
   "outputs": [
    {
     "name": "stdout",
     "output_type": "stream",
     "text": [
      "Using device: cuda\n"
     ]
    }
   ],
   "source": [
    "# Verificar si la GPU está disponible y establecer el dispositivo\n",
    "device = torch.device(\"cuda\" if torch.cuda.is_available() else \"cpu\")\n",
    "print(f\"Using device: {device}\")"
   ]
  },
  {
   "cell_type": "code",
   "execution_count": 102,
   "metadata": {},
   "outputs": [],
   "source": [
    "class Net(nn.Module):\n",
    "    def __init__(self):\n",
    "        super(Net, self).__init__()\n",
    "        self.fc1 = nn.Linear(784, 256)\n",
    "        self.fc2 = nn.Linear(256, 128)\n",
    "        self.fc3 = nn.Linear(128, 10)\n",
    "\n",
    "    def forward(self, x):\n",
    "        x = x.view(-1, 784)\n",
    "        x = F.relu(self.fc1(x))\n",
    "        x = F.relu(self.fc2(x))\n",
    "        x = self.fc3(x)\n",
    "        return F.log_softmax(x, dim=1)"
   ]
  },
  {
   "cell_type": "code",
   "execution_count": 103,
   "metadata": {},
   "outputs": [],
   "source": [
    "net = Net().to(device)\n",
    "varianzas_net = Net().to(device)\n",
    "individuo = Net().to(device)"
   ]
  },
  {
   "cell_type": "code",
   "execution_count": 104,
   "metadata": {},
   "outputs": [],
   "source": [
    "# guardar individuo params in txt\n",
    "def save_params(individuo, filename = \"individuo.txt\"):\n",
    "    with open(filename, \"w\") as f:\n",
    "        #I want to see all params\n",
    "        for name, param in individuo.named_parameters():\n",
    "            f.write(f\"{name} {param}\\n\")\n",
    "            "
   ]
  },
  {
   "cell_type": "code",
   "execution_count": 105,
   "metadata": {},
   "outputs": [],
   "source": [
    "def make_to_binary(individuo):\n",
    "    total_elements = 0\n",
    "    total_ones = 0\n",
    "\n",
    "    for name, param in individuo.named_parameters():\n",
    "        if \"weight\" in name or \"bias\" in name:\n",
    "            # Calcula el percentil 30 directamente sobre los valores de los parámetros\n",
    "            threshold = param.quantile(0.7)\n",
    "\n",
    "            # Binariza: 1 para valores mayores al percentil 30, 0 para los demás\n",
    "            binary_param = torch.where(param > threshold, \n",
    "                                       torch.tensor(1, dtype=torch.float).to(param.device), \n",
    "                                       torch.tensor(0, dtype=torch.float).to(param.device))\n",
    "            \n",
    "            # Actualiza los valores binarizados en los parámetros\n",
    "            param.data = binary_param\n",
    "            \n",
    "            # Actualiza contadores\n",
    "            total_elements += binary_param.numel()\n",
    "            total_ones += (binary_param == 1).sum().item()\n",
    "\n",
    "    # Calcula los porcentajes\n",
    "    percentage_ones = (total_ones / total_elements) * 100\n",
    "    percentage_zeros = 100 - percentage_ones\n",
    "\n",
    "    # Muestra el resultado\n",
    "    print(f\"Porcentaje de 1s: {percentage_ones:.2f}%\")\n",
    "    print(f\"Porcentaje de 0s: {percentage_zeros:.2f}%\")\n",
    "    \n",
    "    return individuo\n"
   ]
  },
  {
   "cell_type": "code",
   "execution_count": 106,
   "metadata": {},
   "outputs": [],
   "source": [
    "def modify_weights(network):\n",
    "    \"\"\"\n",
    "    Modifica aleatoriamente el 5% de los pesos de 1 a 0 y el 5% de los pesos de 0 a 1,\n",
    "    manteniendo el 30% de 1s y el 70% de 0s en la red.\n",
    "\n",
    "    Args:\n",
    "        network (torch.nn.Module): Red con pesos que consisten en 1s y 0s.\n",
    "\n",
    "    Returns:\n",
    "        torch.nn.Module: Red modificada con los cambios aplicados.\n",
    "    \"\"\"\n",
    "    # Convertir los pesos a un tensor plano\n",
    "    with torch.no_grad():\n",
    "        weights = torch.flatten(torch.cat([p.flatten() for p in network.parameters()]))\n",
    "\n",
    "    # Verificar distribución inicial\n",
    "    ones_indices = (weights == 1).nonzero(as_tuple=True)[0]\n",
    "    zeros_indices = (weights == 0).nonzero(as_tuple=True)[0]\n",
    "\n",
    "    total_weights = weights.numel()\n",
    "    total_ones = len(ones_indices)\n",
    "    total_zeros = len(zeros_indices)\n",
    "\n",
    "    assert abs(total_ones / total_weights - 0.3) < 0.01, \"La red inicial no tiene aproximadamente el 30% de pesos = 1.\"\n",
    "    assert abs(total_zeros / total_weights - 0.7) < 0.01, \"La red inicial no tiene aproximadamente el 70% de pesos = 0.\"\n",
    "\n",
    "    # Calcular el número exacto de cambios necesarios para mantener la proporción\n",
    "    num_to_flip_1_to_0 = int(0.05 * total_weights)\n",
    "    num_to_flip_0_to_1 = int(0.05 * total_weights)\n",
    "\n",
    "    # Seleccionar índices aleatorios para los cambios\n",
    "    flip_1_to_0_indices = random.sample(list(ones_indices.cpu().numpy()), num_to_flip_1_to_0)\n",
    "    flip_0_to_1_indices = random.sample(list(zeros_indices.cpu().numpy()), num_to_flip_0_to_1)\n",
    "\n",
    "    # Realizar los cambios\n",
    "    weights[flip_1_to_0_indices] = 0\n",
    "    weights[flip_0_to_1_indices] = 1\n",
    "\n",
    "    # Ajustar la proporción si es necesario\n",
    "    # Recalcular índices después de los cambios\n",
    "    ones_indices = (weights == 1).nonzero(as_tuple=True)[0]\n",
    "    zeros_indices = (weights == 0).nonzero(as_tuple=True)[0]\n",
    "\n",
    "    total_ones = len(ones_indices)\n",
    "    total_zeros = len(zeros_indices)\n",
    "\n",
    "    target_ones = int(0.3 * total_weights)\n",
    "    target_zeros = total_weights - target_ones\n",
    "\n",
    "    if total_ones > target_ones:\n",
    "        # Demasiados 1s: convertir el exceso a 0s\n",
    "        excess_ones = total_ones - target_ones\n",
    "        excess_indices = random.sample(list(ones_indices.cpu().numpy()), excess_ones)\n",
    "        weights[excess_indices] = 0\n",
    "    elif total_zeros > target_zeros:\n",
    "        # Demasiados 0s: convertir el exceso a 1s\n",
    "        excess_zeros = total_zeros - target_zeros\n",
    "        excess_indices = random.sample(list(zeros_indices.cpu().numpy()), excess_zeros)\n",
    "        weights[excess_indices] = 1\n",
    "\n",
    "    # Restaurar los pesos modificados en la red\n",
    "    current_idx = 0\n",
    "    for param in network.parameters():\n",
    "        numel = param.numel()\n",
    "        param.data.copy_(weights[current_idx:current_idx + numel].view_as(param))\n",
    "        current_idx += numel\n",
    "\n",
    "\n",
    "    #imprimir porcentaje de 1s y 0s\n",
    "    ones_indices = (weights == 1).nonzero(as_tuple=True)[0]\n",
    "    zeros_indices = (weights == 0).nonzero(as_tuple=True)[0]\n",
    "\n",
    "    total_weights = weights.numel()\n",
    "    total_ones = len(ones_indices)\n",
    "    total_zeros = len(zeros_indices)\n",
    "\n",
    "    print(f\"Porcentaje de 1s: {total_ones / total_weights * 100:.2f}%\")\n",
    "    print(f\"Porcentaje de 0s: {total_zeros / total_weights * 100:.2f}%\")\n",
    "\n",
    "    return network"
   ]
  },
  {
   "cell_type": "code",
   "execution_count": 107,
   "metadata": {},
   "outputs": [
    {
     "name": "stdout",
     "output_type": "stream",
     "text": [
      "Porcentaje de 1s: 30.00%\n",
      "Porcentaje de 0s: 70.00%\n",
      "Porcentaje de 1s: 30.00%\n",
      "Porcentaje de 0s: 70.00%\n"
     ]
    }
   ],
   "source": [
    "save_params(individuo)\n",
    "individuo_binario = make_to_binary(individuo)\n",
    "save_params(individuo, \"individuo_binario.txt\")\n",
    "\n",
    "model_perturbed = modify_weights(individuo_binario)\n",
    "\n",
    "save_params(model_perturbed, \"model_perturbed.txt\")"
   ]
  },
  {
   "cell_type": "code",
   "execution_count": 108,
   "metadata": {},
   "outputs": [
    {
     "name": "stdout",
     "output_type": "stream",
     "text": [
      "Porcentaje de 1s: 30.00%\n",
      "Porcentaje de 0s: 70.00%\n"
     ]
    }
   ],
   "source": [
    "perturbed3 = modify_weights(model_perturbed)"
   ]
  },
  {
   "cell_type": "code",
   "execution_count": 109,
   "metadata": {},
   "outputs": [
    {
     "name": "stdout",
     "output_type": "stream",
     "text": [
      "Porcentaje de 1s: 30.00%\n",
      "Porcentaje de 0s: 70.00%\n"
     ]
    }
   ],
   "source": [
    "perturbed4 = modify_weights(perturbed3)"
   ]
  }
 ],
 "metadata": {
  "kernelspec": {
   "display_name": "Python 3",
   "language": "python",
   "name": "python3"
  },
  "language_info": {
   "codemirror_mode": {
    "name": "ipython",
    "version": 3
   },
   "file_extension": ".py",
   "mimetype": "text/x-python",
   "name": "python",
   "nbconvert_exporter": "python",
   "pygments_lexer": "ipython3",
   "version": "3.11.9"
  }
 },
 "nbformat": 4,
 "nbformat_minor": 2
}
